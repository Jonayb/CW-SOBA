{
  "nbformat": 4,
  "nbformat_minor": 0,
  "metadata": {
    "accelerator": "GPU",
    "colab": {
      "name": "t5FineTuning.ipynb",
      "provenance": [],
      "collapsed_sections": [
        "HVxGfmEMCKs_",
        "RKNr7fgzcKpZ",
        "qdEgCwL7cIyi"
      ],
      "machine_shape": "hm"
    },
    "kernelspec": {
      "display_name": "Python 3",
      "name": "python3"
    },
    "widgets": {
      "application/vnd.jupyter.widget-state+json": {
        "6284cd616b394d5aaff7ea2a9dad91ca": {
          "model_module": "@jupyter-widgets/controls",
          "model_name": "HBoxModel",
          "state": {
            "_view_name": "HBoxView",
            "_dom_classes": [],
            "_model_name": "HBoxModel",
            "_view_module": "@jupyter-widgets/controls",
            "_model_module_version": "1.5.0",
            "_view_count": null,
            "_view_module_version": "1.5.0",
            "box_style": "",
            "layout": "IPY_MODEL_adc36c042e304088b5172ece885391bc",
            "_model_module": "@jupyter-widgets/controls",
            "children": [
              "IPY_MODEL_3eee5aacd6724600bcc4a6ac21716fe7",
              "IPY_MODEL_8c90412f0f3d4673a7e231401431b760"
            ]
          }
        },
        "adc36c042e304088b5172ece885391bc": {
          "model_module": "@jupyter-widgets/base",
          "model_name": "LayoutModel",
          "state": {
            "_view_name": "LayoutView",
            "grid_template_rows": null,
            "right": null,
            "justify_content": null,
            "_view_module": "@jupyter-widgets/base",
            "overflow": null,
            "_model_module_version": "1.2.0",
            "_view_count": null,
            "flex_flow": null,
            "width": null,
            "min_width": null,
            "border": null,
            "align_items": null,
            "bottom": null,
            "_model_module": "@jupyter-widgets/base",
            "top": null,
            "grid_column": null,
            "overflow_y": null,
            "overflow_x": null,
            "grid_auto_flow": null,
            "grid_area": null,
            "grid_template_columns": null,
            "flex": null,
            "_model_name": "LayoutModel",
            "justify_items": null,
            "grid_row": null,
            "max_height": null,
            "align_content": null,
            "visibility": null,
            "align_self": null,
            "height": null,
            "min_height": null,
            "padding": null,
            "grid_auto_rows": null,
            "grid_gap": null,
            "max_width": null,
            "order": null,
            "_view_module_version": "1.2.0",
            "grid_template_areas": null,
            "object_position": null,
            "object_fit": null,
            "grid_auto_columns": null,
            "margin": null,
            "display": null,
            "left": null
          }
        },
        "3eee5aacd6724600bcc4a6ac21716fe7": {
          "model_module": "@jupyter-widgets/controls",
          "model_name": "FloatProgressModel",
          "state": {
            "_view_name": "ProgressView",
            "style": "IPY_MODEL_8908c97f87294d77b7e32064569fa0a4",
            "_dom_classes": [],
            "description": "Downloading: 100%",
            "_model_name": "FloatProgressModel",
            "bar_style": "success",
            "max": 791656,
            "_view_module": "@jupyter-widgets/controls",
            "_model_module_version": "1.5.0",
            "value": 791656,
            "_view_count": null,
            "_view_module_version": "1.5.0",
            "orientation": "horizontal",
            "min": 0,
            "description_tooltip": null,
            "_model_module": "@jupyter-widgets/controls",
            "layout": "IPY_MODEL_75c0a926cc5f4ef78d6b9d9469486b8f"
          }
        },
        "8c90412f0f3d4673a7e231401431b760": {
          "model_module": "@jupyter-widgets/controls",
          "model_name": "HTMLModel",
          "state": {
            "_view_name": "HTMLView",
            "style": "IPY_MODEL_49ac8546ec754f41811e9f139e298f22",
            "_dom_classes": [],
            "description": "",
            "_model_name": "HTMLModel",
            "placeholder": "​",
            "_view_module": "@jupyter-widgets/controls",
            "_model_module_version": "1.5.0",
            "value": " 792k/792k [00:00&lt;00:00, 1.84MB/s]",
            "_view_count": null,
            "_view_module_version": "1.5.0",
            "description_tooltip": null,
            "_model_module": "@jupyter-widgets/controls",
            "layout": "IPY_MODEL_7ffc24b1354c4fd7a69c6d76d2f7e3c9"
          }
        },
        "8908c97f87294d77b7e32064569fa0a4": {
          "model_module": "@jupyter-widgets/controls",
          "model_name": "ProgressStyleModel",
          "state": {
            "_view_name": "StyleView",
            "_model_name": "ProgressStyleModel",
            "description_width": "initial",
            "_view_module": "@jupyter-widgets/base",
            "_model_module_version": "1.5.0",
            "_view_count": null,
            "_view_module_version": "1.2.0",
            "bar_color": null,
            "_model_module": "@jupyter-widgets/controls"
          }
        },
        "75c0a926cc5f4ef78d6b9d9469486b8f": {
          "model_module": "@jupyter-widgets/base",
          "model_name": "LayoutModel",
          "state": {
            "_view_name": "LayoutView",
            "grid_template_rows": null,
            "right": null,
            "justify_content": null,
            "_view_module": "@jupyter-widgets/base",
            "overflow": null,
            "_model_module_version": "1.2.0",
            "_view_count": null,
            "flex_flow": null,
            "width": null,
            "min_width": null,
            "border": null,
            "align_items": null,
            "bottom": null,
            "_model_module": "@jupyter-widgets/base",
            "top": null,
            "grid_column": null,
            "overflow_y": null,
            "overflow_x": null,
            "grid_auto_flow": null,
            "grid_area": null,
            "grid_template_columns": null,
            "flex": null,
            "_model_name": "LayoutModel",
            "justify_items": null,
            "grid_row": null,
            "max_height": null,
            "align_content": null,
            "visibility": null,
            "align_self": null,
            "height": null,
            "min_height": null,
            "padding": null,
            "grid_auto_rows": null,
            "grid_gap": null,
            "max_width": null,
            "order": null,
            "_view_module_version": "1.2.0",
            "grid_template_areas": null,
            "object_position": null,
            "object_fit": null,
            "grid_auto_columns": null,
            "margin": null,
            "display": null,
            "left": null
          }
        },
        "49ac8546ec754f41811e9f139e298f22": {
          "model_module": "@jupyter-widgets/controls",
          "model_name": "DescriptionStyleModel",
          "state": {
            "_view_name": "StyleView",
            "_model_name": "DescriptionStyleModel",
            "description_width": "",
            "_view_module": "@jupyter-widgets/base",
            "_model_module_version": "1.5.0",
            "_view_count": null,
            "_view_module_version": "1.2.0",
            "_model_module": "@jupyter-widgets/controls"
          }
        },
        "7ffc24b1354c4fd7a69c6d76d2f7e3c9": {
          "model_module": "@jupyter-widgets/base",
          "model_name": "LayoutModel",
          "state": {
            "_view_name": "LayoutView",
            "grid_template_rows": null,
            "right": null,
            "justify_content": null,
            "_view_module": "@jupyter-widgets/base",
            "overflow": null,
            "_model_module_version": "1.2.0",
            "_view_count": null,
            "flex_flow": null,
            "width": null,
            "min_width": null,
            "border": null,
            "align_items": null,
            "bottom": null,
            "_model_module": "@jupyter-widgets/base",
            "top": null,
            "grid_column": null,
            "overflow_y": null,
            "overflow_x": null,
            "grid_auto_flow": null,
            "grid_area": null,
            "grid_template_columns": null,
            "flex": null,
            "_model_name": "LayoutModel",
            "justify_items": null,
            "grid_row": null,
            "max_height": null,
            "align_content": null,
            "visibility": null,
            "align_self": null,
            "height": null,
            "min_height": null,
            "padding": null,
            "grid_auto_rows": null,
            "grid_gap": null,
            "max_width": null,
            "order": null,
            "_view_module_version": "1.2.0",
            "grid_template_areas": null,
            "object_position": null,
            "object_fit": null,
            "grid_auto_columns": null,
            "margin": null,
            "display": null,
            "left": null
          }
        },
        "a77c4c57311c4a559ebc7253b5cdb685": {
          "model_module": "@jupyter-widgets/controls",
          "model_name": "HBoxModel",
          "state": {
            "_view_name": "HBoxView",
            "_dom_classes": [],
            "_model_name": "HBoxModel",
            "_view_module": "@jupyter-widgets/controls",
            "_model_module_version": "1.5.0",
            "_view_count": null,
            "_view_module_version": "1.5.0",
            "box_style": "",
            "layout": "IPY_MODEL_3c4b38b8e3de44fc9e496fec7498a336",
            "_model_module": "@jupyter-widgets/controls",
            "children": [
              "IPY_MODEL_d049fb09e5354793b674e92181cc5bf6",
              "IPY_MODEL_bacf4e4524894cfdaa8f6641cfb7d5cc"
            ]
          }
        },
        "3c4b38b8e3de44fc9e496fec7498a336": {
          "model_module": "@jupyter-widgets/base",
          "model_name": "LayoutModel",
          "state": {
            "_view_name": "LayoutView",
            "grid_template_rows": null,
            "right": null,
            "justify_content": null,
            "_view_module": "@jupyter-widgets/base",
            "overflow": null,
            "_model_module_version": "1.2.0",
            "_view_count": null,
            "flex_flow": null,
            "width": null,
            "min_width": null,
            "border": null,
            "align_items": null,
            "bottom": null,
            "_model_module": "@jupyter-widgets/base",
            "top": null,
            "grid_column": null,
            "overflow_y": null,
            "overflow_x": null,
            "grid_auto_flow": null,
            "grid_area": null,
            "grid_template_columns": null,
            "flex": null,
            "_model_name": "LayoutModel",
            "justify_items": null,
            "grid_row": null,
            "max_height": null,
            "align_content": null,
            "visibility": null,
            "align_self": null,
            "height": null,
            "min_height": null,
            "padding": null,
            "grid_auto_rows": null,
            "grid_gap": null,
            "max_width": null,
            "order": null,
            "_view_module_version": "1.2.0",
            "grid_template_areas": null,
            "object_position": null,
            "object_fit": null,
            "grid_auto_columns": null,
            "margin": null,
            "display": null,
            "left": null
          }
        },
        "d049fb09e5354793b674e92181cc5bf6": {
          "model_module": "@jupyter-widgets/controls",
          "model_name": "FloatProgressModel",
          "state": {
            "_view_name": "ProgressView",
            "style": "IPY_MODEL_eff33c6eb32b428f9e2221a537d8e140",
            "_dom_classes": [],
            "description": "Downloading: 100%",
            "_model_name": "FloatProgressModel",
            "bar_style": "success",
            "max": 1389353,
            "_view_module": "@jupyter-widgets/controls",
            "_model_module_version": "1.5.0",
            "value": 1389353,
            "_view_count": null,
            "_view_module_version": "1.5.0",
            "orientation": "horizontal",
            "min": 0,
            "description_tooltip": null,
            "_model_module": "@jupyter-widgets/controls",
            "layout": "IPY_MODEL_5c06cfadb7124a14827c7ff6f84073da"
          }
        },
        "bacf4e4524894cfdaa8f6641cfb7d5cc": {
          "model_module": "@jupyter-widgets/controls",
          "model_name": "HTMLModel",
          "state": {
            "_view_name": "HTMLView",
            "style": "IPY_MODEL_f1201e432a8d474090e1888d8ac0e9ec",
            "_dom_classes": [],
            "description": "",
            "_model_name": "HTMLModel",
            "placeholder": "​",
            "_view_module": "@jupyter-widgets/controls",
            "_model_module_version": "1.5.0",
            "value": " 1.39M/1.39M [00:00&lt;00:00, 6.42MB/s]",
            "_view_count": null,
            "_view_module_version": "1.5.0",
            "description_tooltip": null,
            "_model_module": "@jupyter-widgets/controls",
            "layout": "IPY_MODEL_b0797d4fe6f34edab19b874e178f122e"
          }
        },
        "eff33c6eb32b428f9e2221a537d8e140": {
          "model_module": "@jupyter-widgets/controls",
          "model_name": "ProgressStyleModel",
          "state": {
            "_view_name": "StyleView",
            "_model_name": "ProgressStyleModel",
            "description_width": "initial",
            "_view_module": "@jupyter-widgets/base",
            "_model_module_version": "1.5.0",
            "_view_count": null,
            "_view_module_version": "1.2.0",
            "bar_color": null,
            "_model_module": "@jupyter-widgets/controls"
          }
        },
        "5c06cfadb7124a14827c7ff6f84073da": {
          "model_module": "@jupyter-widgets/base",
          "model_name": "LayoutModel",
          "state": {
            "_view_name": "LayoutView",
            "grid_template_rows": null,
            "right": null,
            "justify_content": null,
            "_view_module": "@jupyter-widgets/base",
            "overflow": null,
            "_model_module_version": "1.2.0",
            "_view_count": null,
            "flex_flow": null,
            "width": null,
            "min_width": null,
            "border": null,
            "align_items": null,
            "bottom": null,
            "_model_module": "@jupyter-widgets/base",
            "top": null,
            "grid_column": null,
            "overflow_y": null,
            "overflow_x": null,
            "grid_auto_flow": null,
            "grid_area": null,
            "grid_template_columns": null,
            "flex": null,
            "_model_name": "LayoutModel",
            "justify_items": null,
            "grid_row": null,
            "max_height": null,
            "align_content": null,
            "visibility": null,
            "align_self": null,
            "height": null,
            "min_height": null,
            "padding": null,
            "grid_auto_rows": null,
            "grid_gap": null,
            "max_width": null,
            "order": null,
            "_view_module_version": "1.2.0",
            "grid_template_areas": null,
            "object_position": null,
            "object_fit": null,
            "grid_auto_columns": null,
            "margin": null,
            "display": null,
            "left": null
          }
        },
        "f1201e432a8d474090e1888d8ac0e9ec": {
          "model_module": "@jupyter-widgets/controls",
          "model_name": "DescriptionStyleModel",
          "state": {
            "_view_name": "StyleView",
            "_model_name": "DescriptionStyleModel",
            "description_width": "",
            "_view_module": "@jupyter-widgets/base",
            "_model_module_version": "1.5.0",
            "_view_count": null,
            "_view_module_version": "1.2.0",
            "_model_module": "@jupyter-widgets/controls"
          }
        },
        "b0797d4fe6f34edab19b874e178f122e": {
          "model_module": "@jupyter-widgets/base",
          "model_name": "LayoutModel",
          "state": {
            "_view_name": "LayoutView",
            "grid_template_rows": null,
            "right": null,
            "justify_content": null,
            "_view_module": "@jupyter-widgets/base",
            "overflow": null,
            "_model_module_version": "1.2.0",
            "_view_count": null,
            "flex_flow": null,
            "width": null,
            "min_width": null,
            "border": null,
            "align_items": null,
            "bottom": null,
            "_model_module": "@jupyter-widgets/base",
            "top": null,
            "grid_column": null,
            "overflow_y": null,
            "overflow_x": null,
            "grid_auto_flow": null,
            "grid_area": null,
            "grid_template_columns": null,
            "flex": null,
            "_model_name": "LayoutModel",
            "justify_items": null,
            "grid_row": null,
            "max_height": null,
            "align_content": null,
            "visibility": null,
            "align_self": null,
            "height": null,
            "min_height": null,
            "padding": null,
            "grid_auto_rows": null,
            "grid_gap": null,
            "max_width": null,
            "order": null,
            "_view_module_version": "1.2.0",
            "grid_template_areas": null,
            "object_position": null,
            "object_fit": null,
            "grid_auto_columns": null,
            "margin": null,
            "display": null,
            "left": null
          }
        },
        "e70a38445d2f4c67af84985d30ca46f7": {
          "model_module": "@jupyter-widgets/controls",
          "model_name": "HBoxModel",
          "state": {
            "_view_name": "HBoxView",
            "_dom_classes": [],
            "_model_name": "HBoxModel",
            "_view_module": "@jupyter-widgets/controls",
            "_model_module_version": "1.5.0",
            "_view_count": null,
            "_view_module_version": "1.5.0",
            "box_style": "",
            "layout": "IPY_MODEL_b675ef1fe7f74b7c8412effb649acb57",
            "_model_module": "@jupyter-widgets/controls",
            "children": [
              "IPY_MODEL_7e7dc167db764c21a0cb26e834455558",
              "IPY_MODEL_b4a8a084046942d19fed12f997a12057"
            ]
          }
        },
        "b675ef1fe7f74b7c8412effb649acb57": {
          "model_module": "@jupyter-widgets/base",
          "model_name": "LayoutModel",
          "state": {
            "_view_name": "LayoutView",
            "grid_template_rows": null,
            "right": null,
            "justify_content": null,
            "_view_module": "@jupyter-widgets/base",
            "overflow": null,
            "_model_module_version": "1.2.0",
            "_view_count": null,
            "flex_flow": null,
            "width": null,
            "min_width": null,
            "border": null,
            "align_items": null,
            "bottom": null,
            "_model_module": "@jupyter-widgets/base",
            "top": null,
            "grid_column": null,
            "overflow_y": null,
            "overflow_x": null,
            "grid_auto_flow": null,
            "grid_area": null,
            "grid_template_columns": null,
            "flex": null,
            "_model_name": "LayoutModel",
            "justify_items": null,
            "grid_row": null,
            "max_height": null,
            "align_content": null,
            "visibility": null,
            "align_self": null,
            "height": null,
            "min_height": null,
            "padding": null,
            "grid_auto_rows": null,
            "grid_gap": null,
            "max_width": null,
            "order": null,
            "_view_module_version": "1.2.0",
            "grid_template_areas": null,
            "object_position": null,
            "object_fit": null,
            "grid_auto_columns": null,
            "margin": null,
            "display": null,
            "left": null
          }
        },
        "7e7dc167db764c21a0cb26e834455558": {
          "model_module": "@jupyter-widgets/controls",
          "model_name": "FloatProgressModel",
          "state": {
            "_view_name": "ProgressView",
            "style": "IPY_MODEL_51face5bd72b47e489d58dee544ee4b4",
            "_dom_classes": [],
            "description": "Downloading: 100%",
            "_model_name": "FloatProgressModel",
            "bar_style": "success",
            "max": 1199,
            "_view_module": "@jupyter-widgets/controls",
            "_model_module_version": "1.5.0",
            "value": 1199,
            "_view_count": null,
            "_view_module_version": "1.5.0",
            "orientation": "horizontal",
            "min": 0,
            "description_tooltip": null,
            "_model_module": "@jupyter-widgets/controls",
            "layout": "IPY_MODEL_19497e53eaed4db6914f6337cbe0d61f"
          }
        },
        "b4a8a084046942d19fed12f997a12057": {
          "model_module": "@jupyter-widgets/controls",
          "model_name": "HTMLModel",
          "state": {
            "_view_name": "HTMLView",
            "style": "IPY_MODEL_39f8f8d101ee4aaa89185b76f4c80a3b",
            "_dom_classes": [],
            "description": "",
            "_model_name": "HTMLModel",
            "placeholder": "​",
            "_view_module": "@jupyter-widgets/controls",
            "_model_module_version": "1.5.0",
            "value": " 1.20k/1.20k [00:00&lt;00:00, 13.1kB/s]",
            "_view_count": null,
            "_view_module_version": "1.5.0",
            "description_tooltip": null,
            "_model_module": "@jupyter-widgets/controls",
            "layout": "IPY_MODEL_5d23976559854483a94aa9e4320dec7c"
          }
        },
        "51face5bd72b47e489d58dee544ee4b4": {
          "model_module": "@jupyter-widgets/controls",
          "model_name": "ProgressStyleModel",
          "state": {
            "_view_name": "StyleView",
            "_model_name": "ProgressStyleModel",
            "description_width": "initial",
            "_view_module": "@jupyter-widgets/base",
            "_model_module_version": "1.5.0",
            "_view_count": null,
            "_view_module_version": "1.2.0",
            "bar_color": null,
            "_model_module": "@jupyter-widgets/controls"
          }
        },
        "19497e53eaed4db6914f6337cbe0d61f": {
          "model_module": "@jupyter-widgets/base",
          "model_name": "LayoutModel",
          "state": {
            "_view_name": "LayoutView",
            "grid_template_rows": null,
            "right": null,
            "justify_content": null,
            "_view_module": "@jupyter-widgets/base",
            "overflow": null,
            "_model_module_version": "1.2.0",
            "_view_count": null,
            "flex_flow": null,
            "width": null,
            "min_width": null,
            "border": null,
            "align_items": null,
            "bottom": null,
            "_model_module": "@jupyter-widgets/base",
            "top": null,
            "grid_column": null,
            "overflow_y": null,
            "overflow_x": null,
            "grid_auto_flow": null,
            "grid_area": null,
            "grid_template_columns": null,
            "flex": null,
            "_model_name": "LayoutModel",
            "justify_items": null,
            "grid_row": null,
            "max_height": null,
            "align_content": null,
            "visibility": null,
            "align_self": null,
            "height": null,
            "min_height": null,
            "padding": null,
            "grid_auto_rows": null,
            "grid_gap": null,
            "max_width": null,
            "order": null,
            "_view_module_version": "1.2.0",
            "grid_template_areas": null,
            "object_position": null,
            "object_fit": null,
            "grid_auto_columns": null,
            "margin": null,
            "display": null,
            "left": null
          }
        },
        "39f8f8d101ee4aaa89185b76f4c80a3b": {
          "model_module": "@jupyter-widgets/controls",
          "model_name": "DescriptionStyleModel",
          "state": {
            "_view_name": "StyleView",
            "_model_name": "DescriptionStyleModel",
            "description_width": "",
            "_view_module": "@jupyter-widgets/base",
            "_model_module_version": "1.5.0",
            "_view_count": null,
            "_view_module_version": "1.2.0",
            "_model_module": "@jupyter-widgets/controls"
          }
        },
        "5d23976559854483a94aa9e4320dec7c": {
          "model_module": "@jupyter-widgets/base",
          "model_name": "LayoutModel",
          "state": {
            "_view_name": "LayoutView",
            "grid_template_rows": null,
            "right": null,
            "justify_content": null,
            "_view_module": "@jupyter-widgets/base",
            "overflow": null,
            "_model_module_version": "1.2.0",
            "_view_count": null,
            "flex_flow": null,
            "width": null,
            "min_width": null,
            "border": null,
            "align_items": null,
            "bottom": null,
            "_model_module": "@jupyter-widgets/base",
            "top": null,
            "grid_column": null,
            "overflow_y": null,
            "overflow_x": null,
            "grid_auto_flow": null,
            "grid_area": null,
            "grid_template_columns": null,
            "flex": null,
            "_model_name": "LayoutModel",
            "justify_items": null,
            "grid_row": null,
            "max_height": null,
            "align_content": null,
            "visibility": null,
            "align_self": null,
            "height": null,
            "min_height": null,
            "padding": null,
            "grid_auto_rows": null,
            "grid_gap": null,
            "max_width": null,
            "order": null,
            "_view_module_version": "1.2.0",
            "grid_template_areas": null,
            "object_position": null,
            "object_fit": null,
            "grid_auto_columns": null,
            "margin": null,
            "display": null,
            "left": null
          }
        },
        "6345f8d3bf12485a9f919cf561fb39d9": {
          "model_module": "@jupyter-widgets/controls",
          "model_name": "HBoxModel",
          "state": {
            "_view_name": "HBoxView",
            "_dom_classes": [],
            "_model_name": "HBoxModel",
            "_view_module": "@jupyter-widgets/controls",
            "_model_module_version": "1.5.0",
            "_view_count": null,
            "_view_module_version": "1.5.0",
            "box_style": "",
            "layout": "IPY_MODEL_b359a602564c4027b0ee2ee0d86c6158",
            "_model_module": "@jupyter-widgets/controls",
            "children": [
              "IPY_MODEL_e22e1e7d44e24420a054b70fbad9efe5",
              "IPY_MODEL_5484d4fcf86141cd816c9fe337c5a45c"
            ]
          }
        },
        "b359a602564c4027b0ee2ee0d86c6158": {
          "model_module": "@jupyter-widgets/base",
          "model_name": "LayoutModel",
          "state": {
            "_view_name": "LayoutView",
            "grid_template_rows": null,
            "right": null,
            "justify_content": null,
            "_view_module": "@jupyter-widgets/base",
            "overflow": null,
            "_model_module_version": "1.2.0",
            "_view_count": null,
            "flex_flow": null,
            "width": null,
            "min_width": null,
            "border": null,
            "align_items": null,
            "bottom": null,
            "_model_module": "@jupyter-widgets/base",
            "top": null,
            "grid_column": null,
            "overflow_y": null,
            "overflow_x": null,
            "grid_auto_flow": null,
            "grid_area": null,
            "grid_template_columns": null,
            "flex": null,
            "_model_name": "LayoutModel",
            "justify_items": null,
            "grid_row": null,
            "max_height": null,
            "align_content": null,
            "visibility": null,
            "align_self": null,
            "height": null,
            "min_height": null,
            "padding": null,
            "grid_auto_rows": null,
            "grid_gap": null,
            "max_width": null,
            "order": null,
            "_view_module_version": "1.2.0",
            "grid_template_areas": null,
            "object_position": null,
            "object_fit": null,
            "grid_auto_columns": null,
            "margin": null,
            "display": null,
            "left": null
          }
        },
        "e22e1e7d44e24420a054b70fbad9efe5": {
          "model_module": "@jupyter-widgets/controls",
          "model_name": "FloatProgressModel",
          "state": {
            "_view_name": "ProgressView",
            "style": "IPY_MODEL_8260088bdfca4d6283940d4ae33e5ed0",
            "_dom_classes": [],
            "description": "Downloading: 100%",
            "_model_name": "FloatProgressModel",
            "bar_style": "success",
            "max": 891691430,
            "_view_module": "@jupyter-widgets/controls",
            "_model_module_version": "1.5.0",
            "value": 891691430,
            "_view_count": null,
            "_view_module_version": "1.5.0",
            "orientation": "horizontal",
            "min": 0,
            "description_tooltip": null,
            "_model_module": "@jupyter-widgets/controls",
            "layout": "IPY_MODEL_bad0d06bc61a4fd9b04b8efa74f6cbb3"
          }
        },
        "5484d4fcf86141cd816c9fe337c5a45c": {
          "model_module": "@jupyter-widgets/controls",
          "model_name": "HTMLModel",
          "state": {
            "_view_name": "HTMLView",
            "style": "IPY_MODEL_aa6ddcd5b2a54fdc8bc62587eab8e798",
            "_dom_classes": [],
            "description": "",
            "_model_name": "HTMLModel",
            "placeholder": "​",
            "_view_module": "@jupyter-widgets/controls",
            "_model_module_version": "1.5.0",
            "value": " 892M/892M [00:18&lt;00:00, 47.8MB/s]",
            "_view_count": null,
            "_view_module_version": "1.5.0",
            "description_tooltip": null,
            "_model_module": "@jupyter-widgets/controls",
            "layout": "IPY_MODEL_c6dc0fc57db342cf82da3f7dc192e3ce"
          }
        },
        "8260088bdfca4d6283940d4ae33e5ed0": {
          "model_module": "@jupyter-widgets/controls",
          "model_name": "ProgressStyleModel",
          "state": {
            "_view_name": "StyleView",
            "_model_name": "ProgressStyleModel",
            "description_width": "initial",
            "_view_module": "@jupyter-widgets/base",
            "_model_module_version": "1.5.0",
            "_view_count": null,
            "_view_module_version": "1.2.0",
            "bar_color": null,
            "_model_module": "@jupyter-widgets/controls"
          }
        },
        "bad0d06bc61a4fd9b04b8efa74f6cbb3": {
          "model_module": "@jupyter-widgets/base",
          "model_name": "LayoutModel",
          "state": {
            "_view_name": "LayoutView",
            "grid_template_rows": null,
            "right": null,
            "justify_content": null,
            "_view_module": "@jupyter-widgets/base",
            "overflow": null,
            "_model_module_version": "1.2.0",
            "_view_count": null,
            "flex_flow": null,
            "width": null,
            "min_width": null,
            "border": null,
            "align_items": null,
            "bottom": null,
            "_model_module": "@jupyter-widgets/base",
            "top": null,
            "grid_column": null,
            "overflow_y": null,
            "overflow_x": null,
            "grid_auto_flow": null,
            "grid_area": null,
            "grid_template_columns": null,
            "flex": null,
            "_model_name": "LayoutModel",
            "justify_items": null,
            "grid_row": null,
            "max_height": null,
            "align_content": null,
            "visibility": null,
            "align_self": null,
            "height": null,
            "min_height": null,
            "padding": null,
            "grid_auto_rows": null,
            "grid_gap": null,
            "max_width": null,
            "order": null,
            "_view_module_version": "1.2.0",
            "grid_template_areas": null,
            "object_position": null,
            "object_fit": null,
            "grid_auto_columns": null,
            "margin": null,
            "display": null,
            "left": null
          }
        },
        "aa6ddcd5b2a54fdc8bc62587eab8e798": {
          "model_module": "@jupyter-widgets/controls",
          "model_name": "DescriptionStyleModel",
          "state": {
            "_view_name": "StyleView",
            "_model_name": "DescriptionStyleModel",
            "description_width": "",
            "_view_module": "@jupyter-widgets/base",
            "_model_module_version": "1.5.0",
            "_view_count": null,
            "_view_module_version": "1.2.0",
            "_model_module": "@jupyter-widgets/controls"
          }
        },
        "c6dc0fc57db342cf82da3f7dc192e3ce": {
          "model_module": "@jupyter-widgets/base",
          "model_name": "LayoutModel",
          "state": {
            "_view_name": "LayoutView",
            "grid_template_rows": null,
            "right": null,
            "justify_content": null,
            "_view_module": "@jupyter-widgets/base",
            "overflow": null,
            "_model_module_version": "1.2.0",
            "_view_count": null,
            "flex_flow": null,
            "width": null,
            "min_width": null,
            "border": null,
            "align_items": null,
            "bottom": null,
            "_model_module": "@jupyter-widgets/base",
            "top": null,
            "grid_column": null,
            "overflow_y": null,
            "overflow_x": null,
            "grid_auto_flow": null,
            "grid_area": null,
            "grid_template_columns": null,
            "flex": null,
            "_model_name": "LayoutModel",
            "justify_items": null,
            "grid_row": null,
            "max_height": null,
            "align_content": null,
            "visibility": null,
            "align_self": null,
            "height": null,
            "min_height": null,
            "padding": null,
            "grid_auto_rows": null,
            "grid_gap": null,
            "max_width": null,
            "order": null,
            "_view_module_version": "1.2.0",
            "grid_template_areas": null,
            "object_position": null,
            "object_fit": null,
            "grid_auto_columns": null,
            "margin": null,
            "display": null,
            "left": null
          }
        },
        "c81f346758984fd1b53958f0f2c4c011": {
          "model_module": "@jupyter-widgets/controls",
          "model_name": "HBoxModel",
          "state": {
            "_view_name": "HBoxView",
            "_dom_classes": [],
            "_model_name": "HBoxModel",
            "_view_module": "@jupyter-widgets/controls",
            "_model_module_version": "1.5.0",
            "_view_count": null,
            "_view_module_version": "1.5.0",
            "box_style": "",
            "layout": "IPY_MODEL_f90197b64488422dac3cdc0d154f533f",
            "_model_module": "@jupyter-widgets/controls",
            "children": [
              "IPY_MODEL_5ed8f876f65e48a29e13fdb5fe1c96a0",
              "IPY_MODEL_073d5bf78fa1414e973383d60b167ba1"
            ]
          }
        },
        "f90197b64488422dac3cdc0d154f533f": {
          "model_module": "@jupyter-widgets/base",
          "model_name": "LayoutModel",
          "state": {
            "_view_name": "LayoutView",
            "grid_template_rows": null,
            "right": null,
            "justify_content": null,
            "_view_module": "@jupyter-widgets/base",
            "overflow": null,
            "_model_module_version": "1.2.0",
            "_view_count": null,
            "flex_flow": "row wrap",
            "width": "100%",
            "min_width": null,
            "border": null,
            "align_items": null,
            "bottom": null,
            "_model_module": "@jupyter-widgets/base",
            "top": null,
            "grid_column": null,
            "overflow_y": null,
            "overflow_x": null,
            "grid_auto_flow": null,
            "grid_area": null,
            "grid_template_columns": null,
            "flex": null,
            "_model_name": "LayoutModel",
            "justify_items": null,
            "grid_row": null,
            "max_height": null,
            "align_content": null,
            "visibility": null,
            "align_self": null,
            "height": null,
            "min_height": null,
            "padding": null,
            "grid_auto_rows": null,
            "grid_gap": null,
            "max_width": null,
            "order": null,
            "_view_module_version": "1.2.0",
            "grid_template_areas": null,
            "object_position": null,
            "object_fit": null,
            "grid_auto_columns": null,
            "margin": null,
            "display": "inline-flex",
            "left": null
          }
        },
        "5ed8f876f65e48a29e13fdb5fe1c96a0": {
          "model_module": "@jupyter-widgets/controls",
          "model_name": "FloatProgressModel",
          "state": {
            "_view_name": "ProgressView",
            "style": "IPY_MODEL_7cab40d385b744b094652621c01730d1",
            "_dom_classes": [],
            "description": "Validation sanity check:   0%",
            "_model_name": "FloatProgressModel",
            "bar_style": "danger",
            "max": 2,
            "_view_module": "@jupyter-widgets/controls",
            "_model_module_version": "1.5.0",
            "value": 0,
            "_view_count": null,
            "_view_module_version": "1.5.0",
            "orientation": "horizontal",
            "min": 0,
            "description_tooltip": null,
            "_model_module": "@jupyter-widgets/controls",
            "layout": "IPY_MODEL_3493a66d609843788c897b06057ce087"
          }
        },
        "073d5bf78fa1414e973383d60b167ba1": {
          "model_module": "@jupyter-widgets/controls",
          "model_name": "HTMLModel",
          "state": {
            "_view_name": "HTMLView",
            "style": "IPY_MODEL_d7cacfd9d45c440b8fb3c1705b155c7a",
            "_dom_classes": [],
            "description": "",
            "_model_name": "HTMLModel",
            "placeholder": "​",
            "_view_module": "@jupyter-widgets/controls",
            "_model_module_version": "1.5.0",
            "value": " 0/2 [24:49&lt;?, ?it/s]",
            "_view_count": null,
            "_view_module_version": "1.5.0",
            "description_tooltip": null,
            "_model_module": "@jupyter-widgets/controls",
            "layout": "IPY_MODEL_553ed897d1004aa7af92acf5d1c326ce"
          }
        },
        "7cab40d385b744b094652621c01730d1": {
          "model_module": "@jupyter-widgets/controls",
          "model_name": "ProgressStyleModel",
          "state": {
            "_view_name": "StyleView",
            "_model_name": "ProgressStyleModel",
            "description_width": "initial",
            "_view_module": "@jupyter-widgets/base",
            "_model_module_version": "1.5.0",
            "_view_count": null,
            "_view_module_version": "1.2.0",
            "bar_color": null,
            "_model_module": "@jupyter-widgets/controls"
          }
        },
        "3493a66d609843788c897b06057ce087": {
          "model_module": "@jupyter-widgets/base",
          "model_name": "LayoutModel",
          "state": {
            "_view_name": "LayoutView",
            "grid_template_rows": null,
            "right": null,
            "justify_content": null,
            "_view_module": "@jupyter-widgets/base",
            "overflow": null,
            "_model_module_version": "1.2.0",
            "_view_count": null,
            "flex_flow": null,
            "width": null,
            "min_width": null,
            "border": null,
            "align_items": null,
            "bottom": null,
            "_model_module": "@jupyter-widgets/base",
            "top": null,
            "grid_column": null,
            "overflow_y": null,
            "overflow_x": null,
            "grid_auto_flow": null,
            "grid_area": null,
            "grid_template_columns": null,
            "flex": "2",
            "_model_name": "LayoutModel",
            "justify_items": null,
            "grid_row": null,
            "max_height": null,
            "align_content": null,
            "visibility": null,
            "align_self": null,
            "height": null,
            "min_height": null,
            "padding": null,
            "grid_auto_rows": null,
            "grid_gap": null,
            "max_width": null,
            "order": null,
            "_view_module_version": "1.2.0",
            "grid_template_areas": null,
            "object_position": null,
            "object_fit": null,
            "grid_auto_columns": null,
            "margin": null,
            "display": null,
            "left": null
          }
        },
        "d7cacfd9d45c440b8fb3c1705b155c7a": {
          "model_module": "@jupyter-widgets/controls",
          "model_name": "DescriptionStyleModel",
          "state": {
            "_view_name": "StyleView",
            "_model_name": "DescriptionStyleModel",
            "description_width": "",
            "_view_module": "@jupyter-widgets/base",
            "_model_module_version": "1.5.0",
            "_view_count": null,
            "_view_module_version": "1.2.0",
            "_model_module": "@jupyter-widgets/controls"
          }
        },
        "553ed897d1004aa7af92acf5d1c326ce": {
          "model_module": "@jupyter-widgets/base",
          "model_name": "LayoutModel",
          "state": {
            "_view_name": "LayoutView",
            "grid_template_rows": null,
            "right": null,
            "justify_content": null,
            "_view_module": "@jupyter-widgets/base",
            "overflow": null,
            "_model_module_version": "1.2.0",
            "_view_count": null,
            "flex_flow": null,
            "width": null,
            "min_width": null,
            "border": null,
            "align_items": null,
            "bottom": null,
            "_model_module": "@jupyter-widgets/base",
            "top": null,
            "grid_column": null,
            "overflow_y": null,
            "overflow_x": null,
            "grid_auto_flow": null,
            "grid_area": null,
            "grid_template_columns": null,
            "flex": null,
            "_model_name": "LayoutModel",
            "justify_items": null,
            "grid_row": null,
            "max_height": null,
            "align_content": null,
            "visibility": null,
            "align_self": null,
            "height": null,
            "min_height": null,
            "padding": null,
            "grid_auto_rows": null,
            "grid_gap": null,
            "max_width": null,
            "order": null,
            "_view_module_version": "1.2.0",
            "grid_template_areas": null,
            "object_position": null,
            "object_fit": null,
            "grid_auto_columns": null,
            "margin": null,
            "display": null,
            "left": null
          }
        },
        "c7eb2637a6c14a11838da0b8a8f29ec5": {
          "model_module": "@jupyter-widgets/controls",
          "model_name": "HBoxModel",
          "state": {
            "_view_name": "HBoxView",
            "_dom_classes": [],
            "_model_name": "HBoxModel",
            "_view_module": "@jupyter-widgets/controls",
            "_model_module_version": "1.5.0",
            "_view_count": null,
            "_view_module_version": "1.5.0",
            "box_style": "",
            "layout": "IPY_MODEL_9a9b5aabe6c94a7ea3cad3f1073b69c5",
            "_model_module": "@jupyter-widgets/controls",
            "children": [
              "IPY_MODEL_a899e6d8e1e64331ad9a654af10171c2",
              "IPY_MODEL_3790989dac3f4ccb9e29e07c72bab79a"
            ]
          }
        },
        "9a9b5aabe6c94a7ea3cad3f1073b69c5": {
          "model_module": "@jupyter-widgets/base",
          "model_name": "LayoutModel",
          "state": {
            "_view_name": "LayoutView",
            "grid_template_rows": null,
            "right": null,
            "justify_content": null,
            "_view_module": "@jupyter-widgets/base",
            "overflow": null,
            "_model_module_version": "1.2.0",
            "_view_count": null,
            "flex_flow": "row wrap",
            "width": "100%",
            "min_width": null,
            "border": null,
            "align_items": null,
            "bottom": null,
            "_model_module": "@jupyter-widgets/base",
            "top": null,
            "grid_column": null,
            "overflow_y": null,
            "overflow_x": null,
            "grid_auto_flow": null,
            "grid_area": null,
            "grid_template_columns": null,
            "flex": null,
            "_model_name": "LayoutModel",
            "justify_items": null,
            "grid_row": null,
            "max_height": null,
            "align_content": null,
            "visibility": null,
            "align_self": null,
            "height": null,
            "min_height": null,
            "padding": null,
            "grid_auto_rows": null,
            "grid_gap": null,
            "max_width": null,
            "order": null,
            "_view_module_version": "1.2.0",
            "grid_template_areas": null,
            "object_position": null,
            "object_fit": null,
            "grid_auto_columns": null,
            "margin": null,
            "display": "inline-flex",
            "left": null
          }
        },
        "a899e6d8e1e64331ad9a654af10171c2": {
          "model_module": "@jupyter-widgets/controls",
          "model_name": "FloatProgressModel",
          "state": {
            "_view_name": "ProgressView",
            "style": "IPY_MODEL_e664764c239b4dcd956338b90bd1a5dc",
            "_dom_classes": [],
            "description": "Epoch 1: 100%",
            "_model_name": "FloatProgressModel",
            "bar_style": "success",
            "max": 1250,
            "_view_module": "@jupyter-widgets/controls",
            "_model_module_version": "1.5.0",
            "value": 1250,
            "_view_count": null,
            "_view_module_version": "1.5.0",
            "orientation": "horizontal",
            "min": 0,
            "description_tooltip": null,
            "_model_module": "@jupyter-widgets/controls",
            "layout": "IPY_MODEL_d106053fefeb4a609fcf27d581a19908"
          }
        },
        "3790989dac3f4ccb9e29e07c72bab79a": {
          "model_module": "@jupyter-widgets/controls",
          "model_name": "HTMLModel",
          "state": {
            "_view_name": "HTMLView",
            "style": "IPY_MODEL_9a753280d70348719b5a11fcba2696dc",
            "_dom_classes": [],
            "description": "",
            "_model_name": "HTMLModel",
            "placeholder": "​",
            "_view_module": "@jupyter-widgets/controls",
            "_model_module_version": "1.5.0",
            "value": " 1250/1250 [20:07&lt;00:00,  1.03it/s, loss=0.0665, v_num=0]",
            "_view_count": null,
            "_view_module_version": "1.5.0",
            "description_tooltip": null,
            "_model_module": "@jupyter-widgets/controls",
            "layout": "IPY_MODEL_8014e1cef18a4cfd806bf25c99d5a229"
          }
        },
        "e664764c239b4dcd956338b90bd1a5dc": {
          "model_module": "@jupyter-widgets/controls",
          "model_name": "ProgressStyleModel",
          "state": {
            "_view_name": "StyleView",
            "_model_name": "ProgressStyleModel",
            "description_width": "initial",
            "_view_module": "@jupyter-widgets/base",
            "_model_module_version": "1.5.0",
            "_view_count": null,
            "_view_module_version": "1.2.0",
            "bar_color": null,
            "_model_module": "@jupyter-widgets/controls"
          }
        },
        "d106053fefeb4a609fcf27d581a19908": {
          "model_module": "@jupyter-widgets/base",
          "model_name": "LayoutModel",
          "state": {
            "_view_name": "LayoutView",
            "grid_template_rows": null,
            "right": null,
            "justify_content": null,
            "_view_module": "@jupyter-widgets/base",
            "overflow": null,
            "_model_module_version": "1.2.0",
            "_view_count": null,
            "flex_flow": null,
            "width": null,
            "min_width": null,
            "border": null,
            "align_items": null,
            "bottom": null,
            "_model_module": "@jupyter-widgets/base",
            "top": null,
            "grid_column": null,
            "overflow_y": null,
            "overflow_x": null,
            "grid_auto_flow": null,
            "grid_area": null,
            "grid_template_columns": null,
            "flex": "2",
            "_model_name": "LayoutModel",
            "justify_items": null,
            "grid_row": null,
            "max_height": null,
            "align_content": null,
            "visibility": null,
            "align_self": null,
            "height": null,
            "min_height": null,
            "padding": null,
            "grid_auto_rows": null,
            "grid_gap": null,
            "max_width": null,
            "order": null,
            "_view_module_version": "1.2.0",
            "grid_template_areas": null,
            "object_position": null,
            "object_fit": null,
            "grid_auto_columns": null,
            "margin": null,
            "display": null,
            "left": null
          }
        },
        "9a753280d70348719b5a11fcba2696dc": {
          "model_module": "@jupyter-widgets/controls",
          "model_name": "DescriptionStyleModel",
          "state": {
            "_view_name": "StyleView",
            "_model_name": "DescriptionStyleModel",
            "description_width": "",
            "_view_module": "@jupyter-widgets/base",
            "_model_module_version": "1.5.0",
            "_view_count": null,
            "_view_module_version": "1.2.0",
            "_model_module": "@jupyter-widgets/controls"
          }
        },
        "8014e1cef18a4cfd806bf25c99d5a229": {
          "model_module": "@jupyter-widgets/base",
          "model_name": "LayoutModel",
          "state": {
            "_view_name": "LayoutView",
            "grid_template_rows": null,
            "right": null,
            "justify_content": null,
            "_view_module": "@jupyter-widgets/base",
            "overflow": null,
            "_model_module_version": "1.2.0",
            "_view_count": null,
            "flex_flow": null,
            "width": null,
            "min_width": null,
            "border": null,
            "align_items": null,
            "bottom": null,
            "_model_module": "@jupyter-widgets/base",
            "top": null,
            "grid_column": null,
            "overflow_y": null,
            "overflow_x": null,
            "grid_auto_flow": null,
            "grid_area": null,
            "grid_template_columns": null,
            "flex": null,
            "_model_name": "LayoutModel",
            "justify_items": null,
            "grid_row": null,
            "max_height": null,
            "align_content": null,
            "visibility": null,
            "align_self": null,
            "height": null,
            "min_height": null,
            "padding": null,
            "grid_auto_rows": null,
            "grid_gap": null,
            "max_width": null,
            "order": null,
            "_view_module_version": "1.2.0",
            "grid_template_areas": null,
            "object_position": null,
            "object_fit": null,
            "grid_auto_columns": null,
            "margin": null,
            "display": null,
            "left": null
          }
        },
        "a557ca0c4f654b9f8fd241252bad37ff": {
          "model_module": "@jupyter-widgets/controls",
          "model_name": "HBoxModel",
          "state": {
            "_view_name": "HBoxView",
            "_dom_classes": [],
            "_model_name": "HBoxModel",
            "_view_module": "@jupyter-widgets/controls",
            "_model_module_version": "1.5.0",
            "_view_count": null,
            "_view_module_version": "1.5.0",
            "box_style": "",
            "layout": "IPY_MODEL_c56b0dfde688486c83206855cc46a829",
            "_model_module": "@jupyter-widgets/controls",
            "children": [
              "IPY_MODEL_6fdf8b824bdf4d2c92a0b61c334d5345",
              "IPY_MODEL_366707ab5ed74294a5aacdf4b3ef659d"
            ]
          }
        },
        "c56b0dfde688486c83206855cc46a829": {
          "model_module": "@jupyter-widgets/base",
          "model_name": "LayoutModel",
          "state": {
            "_view_name": "LayoutView",
            "grid_template_rows": null,
            "right": null,
            "justify_content": null,
            "_view_module": "@jupyter-widgets/base",
            "overflow": null,
            "_model_module_version": "1.2.0",
            "_view_count": null,
            "flex_flow": "row wrap",
            "width": "100%",
            "min_width": null,
            "border": null,
            "align_items": null,
            "bottom": null,
            "_model_module": "@jupyter-widgets/base",
            "top": null,
            "grid_column": null,
            "overflow_y": null,
            "overflow_x": null,
            "grid_auto_flow": null,
            "grid_area": null,
            "grid_template_columns": null,
            "flex": null,
            "_model_name": "LayoutModel",
            "justify_items": null,
            "grid_row": null,
            "max_height": null,
            "align_content": null,
            "visibility": null,
            "align_self": null,
            "height": null,
            "min_height": null,
            "padding": null,
            "grid_auto_rows": null,
            "grid_gap": null,
            "max_width": null,
            "order": null,
            "_view_module_version": "1.2.0",
            "grid_template_areas": null,
            "object_position": null,
            "object_fit": null,
            "grid_auto_columns": null,
            "margin": null,
            "display": "inline-flex",
            "left": null
          }
        },
        "6fdf8b824bdf4d2c92a0b61c334d5345": {
          "model_module": "@jupyter-widgets/controls",
          "model_name": "FloatProgressModel",
          "state": {
            "_view_name": "ProgressView",
            "style": "IPY_MODEL_d822c3013415476399212e3d196f0be3",
            "_dom_classes": [],
            "description": "Validating: 100%",
            "_model_name": "FloatProgressModel",
            "bar_style": "info",
            "max": 125,
            "_view_module": "@jupyter-widgets/controls",
            "_model_module_version": "1.5.0",
            "value": 125,
            "_view_count": null,
            "_view_module_version": "1.5.0",
            "orientation": "horizontal",
            "min": 0,
            "description_tooltip": null,
            "_model_module": "@jupyter-widgets/controls",
            "layout": "IPY_MODEL_06b69574383e462eba9cbffce8993d67"
          }
        },
        "366707ab5ed74294a5aacdf4b3ef659d": {
          "model_module": "@jupyter-widgets/controls",
          "model_name": "HTMLModel",
          "state": {
            "_view_name": "HTMLView",
            "style": "IPY_MODEL_a46d3d626d4a4c43bbf401d6640d38c4",
            "_dom_classes": [],
            "description": "",
            "_model_name": "HTMLModel",
            "placeholder": "​",
            "_view_module": "@jupyter-widgets/controls",
            "_model_module_version": "1.5.0",
            "value": " 125/125 [00:44&lt;00:00,  2.83it/s]",
            "_view_count": null,
            "_view_module_version": "1.5.0",
            "description_tooltip": null,
            "_model_module": "@jupyter-widgets/controls",
            "layout": "IPY_MODEL_e8d3aaa940b74b93a52a14aa86d110d2"
          }
        },
        "d822c3013415476399212e3d196f0be3": {
          "model_module": "@jupyter-widgets/controls",
          "model_name": "ProgressStyleModel",
          "state": {
            "_view_name": "StyleView",
            "_model_name": "ProgressStyleModel",
            "description_width": "initial",
            "_view_module": "@jupyter-widgets/base",
            "_model_module_version": "1.5.0",
            "_view_count": null,
            "_view_module_version": "1.2.0",
            "bar_color": null,
            "_model_module": "@jupyter-widgets/controls"
          }
        },
        "06b69574383e462eba9cbffce8993d67": {
          "model_module": "@jupyter-widgets/base",
          "model_name": "LayoutModel",
          "state": {
            "_view_name": "LayoutView",
            "grid_template_rows": null,
            "right": null,
            "justify_content": null,
            "_view_module": "@jupyter-widgets/base",
            "overflow": null,
            "_model_module_version": "1.2.0",
            "_view_count": null,
            "flex_flow": null,
            "width": null,
            "min_width": null,
            "border": null,
            "align_items": null,
            "bottom": null,
            "_model_module": "@jupyter-widgets/base",
            "top": null,
            "grid_column": null,
            "overflow_y": null,
            "overflow_x": null,
            "grid_auto_flow": null,
            "grid_area": null,
            "grid_template_columns": null,
            "flex": "2",
            "_model_name": "LayoutModel",
            "justify_items": null,
            "grid_row": null,
            "max_height": null,
            "align_content": null,
            "visibility": null,
            "align_self": null,
            "height": null,
            "min_height": null,
            "padding": null,
            "grid_auto_rows": null,
            "grid_gap": null,
            "max_width": null,
            "order": null,
            "_view_module_version": "1.2.0",
            "grid_template_areas": null,
            "object_position": null,
            "object_fit": null,
            "grid_auto_columns": null,
            "margin": null,
            "display": null,
            "left": null
          }
        },
        "a46d3d626d4a4c43bbf401d6640d38c4": {
          "model_module": "@jupyter-widgets/controls",
          "model_name": "DescriptionStyleModel",
          "state": {
            "_view_name": "StyleView",
            "_model_name": "DescriptionStyleModel",
            "description_width": "",
            "_view_module": "@jupyter-widgets/base",
            "_model_module_version": "1.5.0",
            "_view_count": null,
            "_view_module_version": "1.2.0",
            "_model_module": "@jupyter-widgets/controls"
          }
        },
        "e8d3aaa940b74b93a52a14aa86d110d2": {
          "model_module": "@jupyter-widgets/base",
          "model_name": "LayoutModel",
          "state": {
            "_view_name": "LayoutView",
            "grid_template_rows": null,
            "right": null,
            "justify_content": null,
            "_view_module": "@jupyter-widgets/base",
            "overflow": null,
            "_model_module_version": "1.2.0",
            "_view_count": null,
            "flex_flow": null,
            "width": null,
            "min_width": null,
            "border": null,
            "align_items": null,
            "bottom": null,
            "_model_module": "@jupyter-widgets/base",
            "top": null,
            "grid_column": null,
            "overflow_y": null,
            "overflow_x": null,
            "grid_auto_flow": null,
            "grid_area": null,
            "grid_template_columns": null,
            "flex": null,
            "_model_name": "LayoutModel",
            "justify_items": null,
            "grid_row": null,
            "max_height": null,
            "align_content": null,
            "visibility": null,
            "align_self": null,
            "height": null,
            "min_height": null,
            "padding": null,
            "grid_auto_rows": null,
            "grid_gap": null,
            "max_width": null,
            "order": null,
            "_view_module_version": "1.2.0",
            "grid_template_areas": null,
            "object_position": null,
            "object_fit": null,
            "grid_auto_columns": null,
            "margin": null,
            "display": null,
            "left": null
          }
        },
        "d931d034ae534e8e984477e16494688c": {
          "model_module": "@jupyter-widgets/controls",
          "model_name": "HBoxModel",
          "state": {
            "_view_name": "HBoxView",
            "_dom_classes": [],
            "_model_name": "HBoxModel",
            "_view_module": "@jupyter-widgets/controls",
            "_model_module_version": "1.5.0",
            "_view_count": null,
            "_view_module_version": "1.5.0",
            "box_style": "",
            "layout": "IPY_MODEL_2234fe9e7aa14c17aef04b8562f3ee5a",
            "_model_module": "@jupyter-widgets/controls",
            "children": [
              "IPY_MODEL_4ec65523def44735947f8177a21930fe",
              "IPY_MODEL_c71bf4fe3674435f89617abf1dd0f780"
            ]
          }
        },
        "2234fe9e7aa14c17aef04b8562f3ee5a": {
          "model_module": "@jupyter-widgets/base",
          "model_name": "LayoutModel",
          "state": {
            "_view_name": "LayoutView",
            "grid_template_rows": null,
            "right": null,
            "justify_content": null,
            "_view_module": "@jupyter-widgets/base",
            "overflow": null,
            "_model_module_version": "1.2.0",
            "_view_count": null,
            "flex_flow": "row wrap",
            "width": "100%",
            "min_width": null,
            "border": null,
            "align_items": null,
            "bottom": null,
            "_model_module": "@jupyter-widgets/base",
            "top": null,
            "grid_column": null,
            "overflow_y": null,
            "overflow_x": null,
            "grid_auto_flow": null,
            "grid_area": null,
            "grid_template_columns": null,
            "flex": null,
            "_model_name": "LayoutModel",
            "justify_items": null,
            "grid_row": null,
            "max_height": null,
            "align_content": null,
            "visibility": null,
            "align_self": null,
            "height": null,
            "min_height": null,
            "padding": null,
            "grid_auto_rows": null,
            "grid_gap": null,
            "max_width": null,
            "order": null,
            "_view_module_version": "1.2.0",
            "grid_template_areas": null,
            "object_position": null,
            "object_fit": null,
            "grid_auto_columns": null,
            "margin": null,
            "display": "inline-flex",
            "left": null
          }
        },
        "4ec65523def44735947f8177a21930fe": {
          "model_module": "@jupyter-widgets/controls",
          "model_name": "FloatProgressModel",
          "state": {
            "_view_name": "ProgressView",
            "style": "IPY_MODEL_03d0f53c55e5488cbc8cea50d5fd3ee6",
            "_dom_classes": [],
            "description": "Validating: 100%",
            "_model_name": "FloatProgressModel",
            "bar_style": "info",
            "max": 125,
            "_view_module": "@jupyter-widgets/controls",
            "_model_module_version": "1.5.0",
            "value": 125,
            "_view_count": null,
            "_view_module_version": "1.5.0",
            "orientation": "horizontal",
            "min": 0,
            "description_tooltip": null,
            "_model_module": "@jupyter-widgets/controls",
            "layout": "IPY_MODEL_f677b5c50403424fba74ea1ae8733fb1"
          }
        },
        "c71bf4fe3674435f89617abf1dd0f780": {
          "model_module": "@jupyter-widgets/controls",
          "model_name": "HTMLModel",
          "state": {
            "_view_name": "HTMLView",
            "style": "IPY_MODEL_8ea072fe98a942ffa90d06679e87beb8",
            "_dom_classes": [],
            "description": "",
            "_model_name": "HTMLModel",
            "placeholder": "​",
            "_view_module": "@jupyter-widgets/controls",
            "_model_module_version": "1.5.0",
            "value": " 125/125 [00:44&lt;00:00,  2.84it/s]",
            "_view_count": null,
            "_view_module_version": "1.5.0",
            "description_tooltip": null,
            "_model_module": "@jupyter-widgets/controls",
            "layout": "IPY_MODEL_eec2c3637a314e4aa0210d15cd7a7eb0"
          }
        },
        "03d0f53c55e5488cbc8cea50d5fd3ee6": {
          "model_module": "@jupyter-widgets/controls",
          "model_name": "ProgressStyleModel",
          "state": {
            "_view_name": "StyleView",
            "_model_name": "ProgressStyleModel",
            "description_width": "initial",
            "_view_module": "@jupyter-widgets/base",
            "_model_module_version": "1.5.0",
            "_view_count": null,
            "_view_module_version": "1.2.0",
            "bar_color": null,
            "_model_module": "@jupyter-widgets/controls"
          }
        },
        "f677b5c50403424fba74ea1ae8733fb1": {
          "model_module": "@jupyter-widgets/base",
          "model_name": "LayoutModel",
          "state": {
            "_view_name": "LayoutView",
            "grid_template_rows": null,
            "right": null,
            "justify_content": null,
            "_view_module": "@jupyter-widgets/base",
            "overflow": null,
            "_model_module_version": "1.2.0",
            "_view_count": null,
            "flex_flow": null,
            "width": null,
            "min_width": null,
            "border": null,
            "align_items": null,
            "bottom": null,
            "_model_module": "@jupyter-widgets/base",
            "top": null,
            "grid_column": null,
            "overflow_y": null,
            "overflow_x": null,
            "grid_auto_flow": null,
            "grid_area": null,
            "grid_template_columns": null,
            "flex": "2",
            "_model_name": "LayoutModel",
            "justify_items": null,
            "grid_row": null,
            "max_height": null,
            "align_content": null,
            "visibility": null,
            "align_self": null,
            "height": null,
            "min_height": null,
            "padding": null,
            "grid_auto_rows": null,
            "grid_gap": null,
            "max_width": null,
            "order": null,
            "_view_module_version": "1.2.0",
            "grid_template_areas": null,
            "object_position": null,
            "object_fit": null,
            "grid_auto_columns": null,
            "margin": null,
            "display": null,
            "left": null
          }
        },
        "8ea072fe98a942ffa90d06679e87beb8": {
          "model_module": "@jupyter-widgets/controls",
          "model_name": "DescriptionStyleModel",
          "state": {
            "_view_name": "StyleView",
            "_model_name": "DescriptionStyleModel",
            "description_width": "",
            "_view_module": "@jupyter-widgets/base",
            "_model_module_version": "1.5.0",
            "_view_count": null,
            "_view_module_version": "1.2.0",
            "_model_module": "@jupyter-widgets/controls"
          }
        },
        "eec2c3637a314e4aa0210d15cd7a7eb0": {
          "model_module": "@jupyter-widgets/base",
          "model_name": "LayoutModel",
          "state": {
            "_view_name": "LayoutView",
            "grid_template_rows": null,
            "right": null,
            "justify_content": null,
            "_view_module": "@jupyter-widgets/base",
            "overflow": null,
            "_model_module_version": "1.2.0",
            "_view_count": null,
            "flex_flow": null,
            "width": null,
            "min_width": null,
            "border": null,
            "align_items": null,
            "bottom": null,
            "_model_module": "@jupyter-widgets/base",
            "top": null,
            "grid_column": null,
            "overflow_y": null,
            "overflow_x": null,
            "grid_auto_flow": null,
            "grid_area": null,
            "grid_template_columns": null,
            "flex": null,
            "_model_name": "LayoutModel",
            "justify_items": null,
            "grid_row": null,
            "max_height": null,
            "align_content": null,
            "visibility": null,
            "align_self": null,
            "height": null,
            "min_height": null,
            "padding": null,
            "grid_auto_rows": null,
            "grid_gap": null,
            "max_width": null,
            "order": null,
            "_view_module_version": "1.2.0",
            "grid_template_areas": null,
            "object_position": null,
            "object_fit": null,
            "grid_auto_columns": null,
            "margin": null,
            "display": null,
            "left": null
          }
        },
        "6aaf51cb9ad44c94b6a174a8768904f7": {
          "model_module": "@jupyter-widgets/controls",
          "model_name": "HBoxModel",
          "state": {
            "_dom_classes": [],
            "_model_module": "@jupyter-widgets/controls",
            "_model_module_version": "1.5.0",
            "_model_name": "HBoxModel",
            "_view_count": null,
            "_view_module": "@jupyter-widgets/controls",
            "_view_module_version": "1.5.0",
            "_view_name": "HBoxView",
            "box_style": "",
            "children": [
              "IPY_MODEL_029f74818c6842d7a28af62032418880",
              "IPY_MODEL_8db144e9144141779a1088c4bc000a99"
            ],
            "layout": "IPY_MODEL_51d23e1199274477a69557c74609afb2"
          }
        },
        "029f74818c6842d7a28af62032418880": {
          "model_module": "@jupyter-widgets/controls",
          "model_name": "FloatProgressModel",
          "state": {
            "_dom_classes": [],
            "_model_module": "@jupyter-widgets/controls",
            "_model_module_version": "1.5.0",
            "_model_name": "FloatProgressModel",
            "_view_count": null,
            "_view_module": "@jupyter-widgets/controls",
            "_view_module_version": "1.5.0",
            "_view_name": "ProgressView",
            "bar_style": "success",
            "description": "100%",
            "description_tooltip": null,
            "layout": "IPY_MODEL_df9bc2dc2b3c4fee98affdd7f5ca1ef6",
            "max": 782,
            "min": 0,
            "orientation": "horizontal",
            "style": "IPY_MODEL_210517aede4f4cfab9120fdeb3d8361a",
            "value": 782
          }
        },
        "8db144e9144141779a1088c4bc000a99": {
          "model_module": "@jupyter-widgets/controls",
          "model_name": "HTMLModel",
          "state": {
            "_dom_classes": [],
            "_model_module": "@jupyter-widgets/controls",
            "_model_module_version": "1.5.0",
            "_model_name": "HTMLModel",
            "_view_count": null,
            "_view_module": "@jupyter-widgets/controls",
            "_view_module_version": "1.5.0",
            "_view_name": "HTMLView",
            "description": "",
            "description_tooltip": null,
            "layout": "IPY_MODEL_942d20b134964d1d895af69938918464",
            "placeholder": "​",
            "style": "IPY_MODEL_b684a47485af4cb1934d57cbb03a4f57",
            "value": " 782/782 [10:38&lt;00:00,  1.22it/s]"
          }
        },
        "51d23e1199274477a69557c74609afb2": {
          "model_module": "@jupyter-widgets/base",
          "model_name": "LayoutModel",
          "state": {
            "_model_module": "@jupyter-widgets/base",
            "_model_module_version": "1.2.0",
            "_model_name": "LayoutModel",
            "_view_count": null,
            "_view_module": "@jupyter-widgets/base",
            "_view_module_version": "1.2.0",
            "_view_name": "LayoutView",
            "align_content": null,
            "align_items": null,
            "align_self": null,
            "border": null,
            "bottom": null,
            "display": null,
            "flex": null,
            "flex_flow": null,
            "grid_area": null,
            "grid_auto_columns": null,
            "grid_auto_flow": null,
            "grid_auto_rows": null,
            "grid_column": null,
            "grid_gap": null,
            "grid_row": null,
            "grid_template_areas": null,
            "grid_template_columns": null,
            "grid_template_rows": null,
            "height": null,
            "justify_content": null,
            "justify_items": null,
            "left": null,
            "margin": null,
            "max_height": null,
            "max_width": null,
            "min_height": null,
            "min_width": null,
            "object_fit": null,
            "object_position": null,
            "order": null,
            "overflow": null,
            "overflow_x": null,
            "overflow_y": null,
            "padding": null,
            "right": null,
            "top": null,
            "visibility": null,
            "width": null
          }
        },
        "df9bc2dc2b3c4fee98affdd7f5ca1ef6": {
          "model_module": "@jupyter-widgets/base",
          "model_name": "LayoutModel",
          "state": {
            "_model_module": "@jupyter-widgets/base",
            "_model_module_version": "1.2.0",
            "_model_name": "LayoutModel",
            "_view_count": null,
            "_view_module": "@jupyter-widgets/base",
            "_view_module_version": "1.2.0",
            "_view_name": "LayoutView",
            "align_content": null,
            "align_items": null,
            "align_self": null,
            "border": null,
            "bottom": null,
            "display": null,
            "flex": null,
            "flex_flow": null,
            "grid_area": null,
            "grid_auto_columns": null,
            "grid_auto_flow": null,
            "grid_auto_rows": null,
            "grid_column": null,
            "grid_gap": null,
            "grid_row": null,
            "grid_template_areas": null,
            "grid_template_columns": null,
            "grid_template_rows": null,
            "height": null,
            "justify_content": null,
            "justify_items": null,
            "left": null,
            "margin": null,
            "max_height": null,
            "max_width": null,
            "min_height": null,
            "min_width": null,
            "object_fit": null,
            "object_position": null,
            "order": null,
            "overflow": null,
            "overflow_x": null,
            "overflow_y": null,
            "padding": null,
            "right": null,
            "top": null,
            "visibility": null,
            "width": null
          }
        },
        "210517aede4f4cfab9120fdeb3d8361a": {
          "model_module": "@jupyter-widgets/controls",
          "model_name": "ProgressStyleModel",
          "state": {
            "_model_module": "@jupyter-widgets/controls",
            "_model_module_version": "1.5.0",
            "_model_name": "ProgressStyleModel",
            "_view_count": null,
            "_view_module": "@jupyter-widgets/base",
            "_view_module_version": "1.2.0",
            "_view_name": "StyleView",
            "bar_color": null,
            "description_width": "initial"
          }
        },
        "942d20b134964d1d895af69938918464": {
          "model_module": "@jupyter-widgets/base",
          "model_name": "LayoutModel",
          "state": {
            "_model_module": "@jupyter-widgets/base",
            "_model_module_version": "1.2.0",
            "_model_name": "LayoutModel",
            "_view_count": null,
            "_view_module": "@jupyter-widgets/base",
            "_view_module_version": "1.2.0",
            "_view_name": "LayoutView",
            "align_content": null,
            "align_items": null,
            "align_self": null,
            "border": null,
            "bottom": null,
            "display": null,
            "flex": null,
            "flex_flow": null,
            "grid_area": null,
            "grid_auto_columns": null,
            "grid_auto_flow": null,
            "grid_auto_rows": null,
            "grid_column": null,
            "grid_gap": null,
            "grid_row": null,
            "grid_template_areas": null,
            "grid_template_columns": null,
            "grid_template_rows": null,
            "height": null,
            "justify_content": null,
            "justify_items": null,
            "left": null,
            "margin": null,
            "max_height": null,
            "max_width": null,
            "min_height": null,
            "min_width": null,
            "object_fit": null,
            "object_position": null,
            "order": null,
            "overflow": null,
            "overflow_x": null,
            "overflow_y": null,
            "padding": null,
            "right": null,
            "top": null,
            "visibility": null,
            "width": null
          }
        },
        "b684a47485af4cb1934d57cbb03a4f57": {
          "model_module": "@jupyter-widgets/controls",
          "model_name": "DescriptionStyleModel",
          "state": {
            "_model_module": "@jupyter-widgets/controls",
            "_model_module_version": "1.5.0",
            "_model_name": "DescriptionStyleModel",
            "_view_count": null,
            "_view_module": "@jupyter-widgets/base",
            "_view_module_version": "1.2.0",
            "_view_name": "StyleView",
            "description_width": ""
          }
        }
      }
    }
  },
  "cells": [
    {
      "cell_type": "markdown",
      "metadata": {
        "id": "view-in-github"
      },
      "source": [
        "<a href=\"https://colab.research.google.com/github/patil-suraj/exploring-T5/blob/master/t5_fine_tuning.ipynb\" target=\"_parent\"><img src=\"https://colab.research.google.com/assets/colab-badge.svg\" alt=\"Open In Colab\"/></a>"
      ]
    },
    {
      "cell_type": "code",
      "metadata": {
        "id": "S3TUF-5qRYA4"
      },
      "source": [
        "# FINETUNE T5 MODEL ON YELP DATASET\n",
        "# ----------------------------------------\n",
        "# \n",
        "# Written by Patil Suraj (https://github.com/patil-suraj/exploring-T5)\n",
        "# Adapted by Jonathan IJbema\n",
        "#\n",
        "# Get T5 finetuned model by finetuning on Yelp restaurant dataset\n",
        "#"
      ],
      "execution_count": null,
      "outputs": []
    },
    {
      "cell_type": "code",
      "metadata": {
        "colab": {
          "base_uri": "https://localhost:8080/"
        },
        "id": "PJX4vkjj6wYz",
        "outputId": "73650265-0a64-4473-922d-e95b6013b2b8"
      },
      "source": [
        "from google.colab import drive\n",
        "drive.mount('/content/drive')"
      ],
      "execution_count": null,
      "outputs": [
        {
          "output_type": "stream",
          "text": [
            "Mounted at /content/drive\n"
          ],
          "name": "stdout"
        }
      ]
    },
    {
      "cell_type": "code",
      "metadata": {
        "colab": {
          "base_uri": "https://localhost:8080/"
        },
        "id": "1V5cInhu42Wk",
        "outputId": "7bf08172-0f49-48e8-bfff-a26f02961f8b"
      },
      "source": [
        "!nvidia-smi"
      ],
      "execution_count": null,
      "outputs": [
        {
          "output_type": "stream",
          "text": [
            "Tue Jun 15 09:54:12 2021       \n",
            "+-----------------------------------------------------------------------------+\n",
            "| NVIDIA-SMI 465.27       Driver Version: 460.32.03    CUDA Version: 11.2     |\n",
            "|-------------------------------+----------------------+----------------------+\n",
            "| GPU  Name        Persistence-M| Bus-Id        Disp.A | Volatile Uncorr. ECC |\n",
            "| Fan  Temp  Perf  Pwr:Usage/Cap|         Memory-Usage | GPU-Util  Compute M. |\n",
            "|                               |                      |               MIG M. |\n",
            "|===============================+======================+======================|\n",
            "|   0  Tesla T4            Off  | 00000000:00:04.0 Off |                    0 |\n",
            "| N/A   63C    P8    11W /  70W |      0MiB / 15109MiB |      0%      Default |\n",
            "|                               |                      |                  N/A |\n",
            "+-------------------------------+----------------------+----------------------+\n",
            "                                                                               \n",
            "+-----------------------------------------------------------------------------+\n",
            "| Processes:                                                                  |\n",
            "|  GPU   GI   CI        PID   Type   Process name                  GPU Memory |\n",
            "|        ID   ID                                                   Usage      |\n",
            "|=============================================================================|\n",
            "|  No running processes found                                                 |\n",
            "+-----------------------------------------------------------------------------+\n"
          ],
          "name": "stdout"
        }
      ]
    },
    {
      "cell_type": "code",
      "metadata": {
        "colab": {
          "base_uri": "https://localhost:8080/"
        },
        "id": "SDVQ04fGRb1v",
        "outputId": "9260437a-3d1c-4f79-89aa-f917c5dbbc68"
      },
      "source": [
        "!pip install transformers\n",
        "!pip install pytorch_lightning\n",
        "!pip install sentencepiece"
      ],
      "execution_count": null,
      "outputs": [
        {
          "output_type": "stream",
          "text": [
            "Collecting transformers\n",
            "\u001b[?25l  Downloading https://files.pythonhosted.org/packages/d5/43/cfe4ee779bbd6a678ac6a97c5a5cdeb03c35f9eaebbb9720b036680f9a2d/transformers-4.6.1-py3-none-any.whl (2.2MB)\n",
            "\r\u001b[K     |▏                               | 10kB 26.1MB/s eta 0:00:01\r\u001b[K     |▎                               | 20kB 31.2MB/s eta 0:00:01\r\u001b[K     |▍                               | 30kB 33.9MB/s eta 0:00:01\r\u001b[K     |▋                               | 40kB 35.2MB/s eta 0:00:01\r\u001b[K     |▊                               | 51kB 35.7MB/s eta 0:00:01\r\u001b[K     |▉                               | 61kB 37.6MB/s eta 0:00:01\r\u001b[K     |█                               | 71kB 35.3MB/s eta 0:00:01\r\u001b[K     |█▏                              | 81kB 36.1MB/s eta 0:00:01\r\u001b[K     |█▎                              | 92kB 35.1MB/s eta 0:00:01\r\u001b[K     |█▌                              | 102kB 36.3MB/s eta 0:00:01\r\u001b[K     |█▋                              | 112kB 36.3MB/s eta 0:00:01\r\u001b[K     |█▊                              | 122kB 36.3MB/s eta 0:00:01\r\u001b[K     |██                              | 133kB 36.3MB/s eta 0:00:01\r\u001b[K     |██                              | 143kB 36.3MB/s eta 0:00:01\r\u001b[K     |██▏                             | 153kB 36.3MB/s eta 0:00:01\r\u001b[K     |██▎                             | 163kB 36.3MB/s eta 0:00:01\r\u001b[K     |██▌                             | 174kB 36.3MB/s eta 0:00:01\r\u001b[K     |██▋                             | 184kB 36.3MB/s eta 0:00:01\r\u001b[K     |██▊                             | 194kB 36.3MB/s eta 0:00:01\r\u001b[K     |███                             | 204kB 36.3MB/s eta 0:00:01\r\u001b[K     |███                             | 215kB 36.3MB/s eta 0:00:01\r\u001b[K     |███▏                            | 225kB 36.3MB/s eta 0:00:01\r\u001b[K     |███▍                            | 235kB 36.3MB/s eta 0:00:01\r\u001b[K     |███▌                            | 245kB 36.3MB/s eta 0:00:01\r\u001b[K     |███▋                            | 256kB 36.3MB/s eta 0:00:01\r\u001b[K     |███▉                            | 266kB 36.3MB/s eta 0:00:01\r\u001b[K     |████                            | 276kB 36.3MB/s eta 0:00:01\r\u001b[K     |████                            | 286kB 36.3MB/s eta 0:00:01\r\u001b[K     |████▎                           | 296kB 36.3MB/s eta 0:00:01\r\u001b[K     |████▍                           | 307kB 36.3MB/s eta 0:00:01\r\u001b[K     |████▌                           | 317kB 36.3MB/s eta 0:00:01\r\u001b[K     |████▋                           | 327kB 36.3MB/s eta 0:00:01\r\u001b[K     |████▉                           | 337kB 36.3MB/s eta 0:00:01\r\u001b[K     |█████                           | 348kB 36.3MB/s eta 0:00:01\r\u001b[K     |█████                           | 358kB 36.3MB/s eta 0:00:01\r\u001b[K     |█████▎                          | 368kB 36.3MB/s eta 0:00:01\r\u001b[K     |█████▍                          | 378kB 36.3MB/s eta 0:00:01\r\u001b[K     |█████▌                          | 389kB 36.3MB/s eta 0:00:01\r\u001b[K     |█████▊                          | 399kB 36.3MB/s eta 0:00:01\r\u001b[K     |█████▉                          | 409kB 36.3MB/s eta 0:00:01\r\u001b[K     |██████                          | 419kB 36.3MB/s eta 0:00:01\r\u001b[K     |██████▏                         | 430kB 36.3MB/s eta 0:00:01\r\u001b[K     |██████▎                         | 440kB 36.3MB/s eta 0:00:01\r\u001b[K     |██████▍                         | 450kB 36.3MB/s eta 0:00:01\r\u001b[K     |██████▌                         | 460kB 36.3MB/s eta 0:00:01\r\u001b[K     |██████▊                         | 471kB 36.3MB/s eta 0:00:01\r\u001b[K     |██████▉                         | 481kB 36.3MB/s eta 0:00:01\r\u001b[K     |███████                         | 491kB 36.3MB/s eta 0:00:01\r\u001b[K     |███████▏                        | 501kB 36.3MB/s eta 0:00:01\r\u001b[K     |███████▎                        | 512kB 36.3MB/s eta 0:00:01\r\u001b[K     |███████▍                        | 522kB 36.3MB/s eta 0:00:01\r\u001b[K     |███████▋                        | 532kB 36.3MB/s eta 0:00:01\r\u001b[K     |███████▊                        | 542kB 36.3MB/s eta 0:00:01\r\u001b[K     |███████▉                        | 552kB 36.3MB/s eta 0:00:01\r\u001b[K     |████████                        | 563kB 36.3MB/s eta 0:00:01\r\u001b[K     |████████▏                       | 573kB 36.3MB/s eta 0:00:01\r\u001b[K     |████████▎                       | 583kB 36.3MB/s eta 0:00:01\r\u001b[K     |████████▌                       | 593kB 36.3MB/s eta 0:00:01\r\u001b[K     |████████▋                       | 604kB 36.3MB/s eta 0:00:01\r\u001b[K     |████████▊                       | 614kB 36.3MB/s eta 0:00:01\r\u001b[K     |████████▉                       | 624kB 36.3MB/s eta 0:00:01\r\u001b[K     |█████████                       | 634kB 36.3MB/s eta 0:00:01\r\u001b[K     |█████████▏                      | 645kB 36.3MB/s eta 0:00:01\r\u001b[K     |█████████▎                      | 655kB 36.3MB/s eta 0:00:01\r\u001b[K     |█████████▌                      | 665kB 36.3MB/s eta 0:00:01\r\u001b[K     |█████████▋                      | 675kB 36.3MB/s eta 0:00:01\r\u001b[K     |█████████▊                      | 686kB 36.3MB/s eta 0:00:01\r\u001b[K     |██████████                      | 696kB 36.3MB/s eta 0:00:01\r\u001b[K     |██████████                      | 706kB 36.3MB/s eta 0:00:01\r\u001b[K     |██████████▏                     | 716kB 36.3MB/s eta 0:00:01\r\u001b[K     |██████████▍                     | 727kB 36.3MB/s eta 0:00:01\r\u001b[K     |██████████▌                     | 737kB 36.3MB/s eta 0:00:01\r\u001b[K     |██████████▋                     | 747kB 36.3MB/s eta 0:00:01\r\u001b[K     |██████████▉                     | 757kB 36.3MB/s eta 0:00:01\r\u001b[K     |███████████                     | 768kB 36.3MB/s eta 0:00:01\r\u001b[K     |███████████                     | 778kB 36.3MB/s eta 0:00:01\r\u001b[K     |███████████▏                    | 788kB 36.3MB/s eta 0:00:01\r\u001b[K     |███████████▍                    | 798kB 36.3MB/s eta 0:00:01\r\u001b[K     |███████████▌                    | 808kB 36.3MB/s eta 0:00:01\r\u001b[K     |███████████▋                    | 819kB 36.3MB/s eta 0:00:01\r\u001b[K     |███████████▉                    | 829kB 36.3MB/s eta 0:00:01\r\u001b[K     |████████████                    | 839kB 36.3MB/s eta 0:00:01\r\u001b[K     |████████████                    | 849kB 36.3MB/s eta 0:00:01\r\u001b[K     |████████████▎                   | 860kB 36.3MB/s eta 0:00:01\r\u001b[K     |████████████▍                   | 870kB 36.3MB/s eta 0:00:01\r\u001b[K     |████████████▌                   | 880kB 36.3MB/s eta 0:00:01\r\u001b[K     |████████████▊                   | 890kB 36.3MB/s eta 0:00:01\r\u001b[K     |████████████▉                   | 901kB 36.3MB/s eta 0:00:01\r\u001b[K     |█████████████                   | 911kB 36.3MB/s eta 0:00:01\r\u001b[K     |█████████████                   | 921kB 36.3MB/s eta 0:00:01\r\u001b[K     |█████████████▎                  | 931kB 36.3MB/s eta 0:00:01\r\u001b[K     |█████████████▍                  | 942kB 36.3MB/s eta 0:00:01\r\u001b[K     |█████████████▌                  | 952kB 36.3MB/s eta 0:00:01\r\u001b[K     |█████████████▊                  | 962kB 36.3MB/s eta 0:00:01\r\u001b[K     |█████████████▉                  | 972kB 36.3MB/s eta 0:00:01\r\u001b[K     |██████████████                  | 983kB 36.3MB/s eta 0:00:01\r\u001b[K     |██████████████▏                 | 993kB 36.3MB/s eta 0:00:01\r\u001b[K     |██████████████▎                 | 1.0MB 36.3MB/s eta 0:00:01\r\u001b[K     |██████████████▍                 | 1.0MB 36.3MB/s eta 0:00:01\r\u001b[K     |██████████████▋                 | 1.0MB 36.3MB/s eta 0:00:01\r\u001b[K     |██████████████▊                 | 1.0MB 36.3MB/s eta 0:00:01\r\u001b[K     |██████████████▉                 | 1.0MB 36.3MB/s eta 0:00:01\r\u001b[K     |███████████████                 | 1.1MB 36.3MB/s eta 0:00:01\r\u001b[K     |███████████████▏                | 1.1MB 36.3MB/s eta 0:00:01\r\u001b[K     |███████████████▎                | 1.1MB 36.3MB/s eta 0:00:01\r\u001b[K     |███████████████▍                | 1.1MB 36.3MB/s eta 0:00:01\r\u001b[K     |███████████████▋                | 1.1MB 36.3MB/s eta 0:00:01\r\u001b[K     |███████████████▊                | 1.1MB 36.3MB/s eta 0:00:01\r\u001b[K     |███████████████▉                | 1.1MB 36.3MB/s eta 0:00:01\r\u001b[K     |████████████████                | 1.1MB 36.3MB/s eta 0:00:01\r\u001b[K     |████████████████▏               | 1.1MB 36.3MB/s eta 0:00:01\r\u001b[K     |████████████████▎               | 1.1MB 36.3MB/s eta 0:00:01\r\u001b[K     |████████████████▌               | 1.2MB 36.3MB/s eta 0:00:01\r\u001b[K     |████████████████▋               | 1.2MB 36.3MB/s eta 0:00:01\r\u001b[K     |████████████████▊               | 1.2MB 36.3MB/s eta 0:00:01\r\u001b[K     |█████████████████               | 1.2MB 36.3MB/s eta 0:00:01\r\u001b[K     |█████████████████               | 1.2MB 36.3MB/s eta 0:00:01\r\u001b[K     |█████████████████▏              | 1.2MB 36.3MB/s eta 0:00:01\r\u001b[K     |█████████████████▎              | 1.2MB 36.3MB/s eta 0:00:01\r\u001b[K     |█████████████████▌              | 1.2MB 36.3MB/s eta 0:00:01\r\u001b[K     |█████████████████▋              | 1.2MB 36.3MB/s eta 0:00:01\r\u001b[K     |█████████████████▊              | 1.2MB 36.3MB/s eta 0:00:01\r\u001b[K     |██████████████████              | 1.3MB 36.3MB/s eta 0:00:01\r\u001b[K     |██████████████████              | 1.3MB 36.3MB/s eta 0:00:01\r\u001b[K     |██████████████████▏             | 1.3MB 36.3MB/s eta 0:00:01\r\u001b[K     |██████████████████▍             | 1.3MB 36.3MB/s eta 0:00:01\r\u001b[K     |██████████████████▌             | 1.3MB 36.3MB/s eta 0:00:01\r\u001b[K     |██████████████████▋             | 1.3MB 36.3MB/s eta 0:00:01\r\u001b[K     |██████████████████▉             | 1.3MB 36.3MB/s eta 0:00:01\r\u001b[K     |███████████████████             | 1.3MB 36.3MB/s eta 0:00:01\r\u001b[K     |███████████████████             | 1.3MB 36.3MB/s eta 0:00:01\r\u001b[K     |███████████████████▎            | 1.4MB 36.3MB/s eta 0:00:01\r\u001b[K     |███████████████████▍            | 1.4MB 36.3MB/s eta 0:00:01\r\u001b[K     |███████████████████▌            | 1.4MB 36.3MB/s eta 0:00:01\r\u001b[K     |███████████████████▋            | 1.4MB 36.3MB/s eta 0:00:01\r\u001b[K     |███████████████████▉            | 1.4MB 36.3MB/s eta 0:00:01\r\u001b[K     |████████████████████            | 1.4MB 36.3MB/s eta 0:00:01\r\u001b[K     |████████████████████            | 1.4MB 36.3MB/s eta 0:00:01\r\u001b[K     |████████████████████▎           | 1.4MB 36.3MB/s eta 0:00:01\r\u001b[K     |████████████████████▍           | 1.4MB 36.3MB/s eta 0:00:01\r\u001b[K     |████████████████████▌           | 1.4MB 36.3MB/s eta 0:00:01\r\u001b[K     |████████████████████▊           | 1.5MB 36.3MB/s eta 0:00:01\r\u001b[K     |████████████████████▉           | 1.5MB 36.3MB/s eta 0:00:01\r\u001b[K     |█████████████████████           | 1.5MB 36.3MB/s eta 0:00:01\r\u001b[K     |█████████████████████▏          | 1.5MB 36.3MB/s eta 0:00:01\r\u001b[K     |█████████████████████▎          | 1.5MB 36.3MB/s eta 0:00:01\r\u001b[K     |█████████████████████▍          | 1.5MB 36.3MB/s eta 0:00:01\r\u001b[K     |█████████████████████▋          | 1.5MB 36.3MB/s eta 0:00:01\r\u001b[K     |█████████████████████▊          | 1.5MB 36.3MB/s eta 0:00:01\r\u001b[K     |█████████████████████▉          | 1.5MB 36.3MB/s eta 0:00:01\r\u001b[K     |██████████████████████          | 1.5MB 36.3MB/s eta 0:00:01\r\u001b[K     |██████████████████████▏         | 1.6MB 36.3MB/s eta 0:00:01\r\u001b[K     |██████████████████████▎         | 1.6MB 36.3MB/s eta 0:00:01\r\u001b[K     |██████████████████████▍         | 1.6MB 36.3MB/s eta 0:00:01\r\u001b[K     |██████████████████████▋         | 1.6MB 36.3MB/s eta 0:00:01\r\u001b[K     |██████████████████████▊         | 1.6MB 36.3MB/s eta 0:00:01\r\u001b[K     |██████████████████████▉         | 1.6MB 36.3MB/s eta 0:00:01\r\u001b[K     |███████████████████████         | 1.6MB 36.3MB/s eta 0:00:01\r\u001b[K     |███████████████████████▏        | 1.6MB 36.3MB/s eta 0:00:01\r\u001b[K     |███████████████████████▎        | 1.6MB 36.3MB/s eta 0:00:01\r\u001b[K     |███████████████████████▌        | 1.6MB 36.3MB/s eta 0:00:01\r\u001b[K     |███████████████████████▋        | 1.7MB 36.3MB/s eta 0:00:01\r\u001b[K     |███████████████████████▊        | 1.7MB 36.3MB/s eta 0:00:01\r\u001b[K     |███████████████████████▉        | 1.7MB 36.3MB/s eta 0:00:01\r\u001b[K     |████████████████████████        | 1.7MB 36.3MB/s eta 0:00:01\r\u001b[K     |████████████████████████▏       | 1.7MB 36.3MB/s eta 0:00:01\r\u001b[K     |████████████████████████▎       | 1.7MB 36.3MB/s eta 0:00:01\r\u001b[K     |████████████████████████▌       | 1.7MB 36.3MB/s eta 0:00:01\r\u001b[K     |████████████████████████▋       | 1.7MB 36.3MB/s eta 0:00:01\r\u001b[K     |████████████████████████▊       | 1.7MB 36.3MB/s eta 0:00:01\r\u001b[K     |█████████████████████████       | 1.8MB 36.3MB/s eta 0:00:01\r\u001b[K     |█████████████████████████       | 1.8MB 36.3MB/s eta 0:00:01\r\u001b[K     |█████████████████████████▏      | 1.8MB 36.3MB/s eta 0:00:01\r\u001b[K     |█████████████████████████▍      | 1.8MB 36.3MB/s eta 0:00:01\r\u001b[K     |█████████████████████████▌      | 1.8MB 36.3MB/s eta 0:00:01\r\u001b[K     |█████████████████████████▋      | 1.8MB 36.3MB/s eta 0:00:01\r\u001b[K     |█████████████████████████▉      | 1.8MB 36.3MB/s eta 0:00:01\r\u001b[K     |██████████████████████████      | 1.8MB 36.3MB/s eta 0:00:01\r\u001b[K     |██████████████████████████      | 1.8MB 36.3MB/s eta 0:00:01\r\u001b[K     |██████████████████████████▏     | 1.8MB 36.3MB/s eta 0:00:01\r\u001b[K     |██████████████████████████▍     | 1.9MB 36.3MB/s eta 0:00:01\r\u001b[K     |██████████████████████████▌     | 1.9MB 36.3MB/s eta 0:00:01\r\u001b[K     |██████████████████████████▋     | 1.9MB 36.3MB/s eta 0:00:01\r\u001b[K     |██████████████████████████▉     | 1.9MB 36.3MB/s eta 0:00:01\r\u001b[K     |███████████████████████████     | 1.9MB 36.3MB/s eta 0:00:01\r\u001b[K     |███████████████████████████     | 1.9MB 36.3MB/s eta 0:00:01\r\u001b[K     |███████████████████████████▎    | 1.9MB 36.3MB/s eta 0:00:01\r\u001b[K     |███████████████████████████▍    | 1.9MB 36.3MB/s eta 0:00:01\r\u001b[K     |███████████████████████████▌    | 1.9MB 36.3MB/s eta 0:00:01\r\u001b[K     |███████████████████████████▊    | 1.9MB 36.3MB/s eta 0:00:01\r\u001b[K     |███████████████████████████▉    | 2.0MB 36.3MB/s eta 0:00:01\r\u001b[K     |████████████████████████████    | 2.0MB 36.3MB/s eta 0:00:01\r\u001b[K     |████████████████████████████▏   | 2.0MB 36.3MB/s eta 0:00:01\r\u001b[K     |████████████████████████████▎   | 2.0MB 36.3MB/s eta 0:00:01\r\u001b[K     |████████████████████████████▍   | 2.0MB 36.3MB/s eta 0:00:01\r\u001b[K     |████████████████████████████▌   | 2.0MB 36.3MB/s eta 0:00:01\r\u001b[K     |████████████████████████████▊   | 2.0MB 36.3MB/s eta 0:00:01\r\u001b[K     |████████████████████████████▉   | 2.0MB 36.3MB/s eta 0:00:01\r\u001b[K     |█████████████████████████████   | 2.0MB 36.3MB/s eta 0:00:01\r\u001b[K     |█████████████████████████████▏  | 2.0MB 36.3MB/s eta 0:00:01\r\u001b[K     |█████████████████████████████▎  | 2.1MB 36.3MB/s eta 0:00:01\r\u001b[K     |█████████████████████████████▍  | 2.1MB 36.3MB/s eta 0:00:01\r\u001b[K     |█████████████████████████████▋  | 2.1MB 36.3MB/s eta 0:00:01\r\u001b[K     |█████████████████████████████▊  | 2.1MB 36.3MB/s eta 0:00:01\r\u001b[K     |█████████████████████████████▉  | 2.1MB 36.3MB/s eta 0:00:01\r\u001b[K     |██████████████████████████████  | 2.1MB 36.3MB/s eta 0:00:01\r\u001b[K     |██████████████████████████████▏ | 2.1MB 36.3MB/s eta 0:00:01\r\u001b[K     |██████████████████████████████▎ | 2.1MB 36.3MB/s eta 0:00:01\r\u001b[K     |██████████████████████████████▍ | 2.1MB 36.3MB/s eta 0:00:01\r\u001b[K     |██████████████████████████████▋ | 2.2MB 36.3MB/s eta 0:00:01\r\u001b[K     |██████████████████████████████▊ | 2.2MB 36.3MB/s eta 0:00:01\r\u001b[K     |██████████████████████████████▉ | 2.2MB 36.3MB/s eta 0:00:01\r\u001b[K     |███████████████████████████████ | 2.2MB 36.3MB/s eta 0:00:01\r\u001b[K     |███████████████████████████████▏| 2.2MB 36.3MB/s eta 0:00:01\r\u001b[K     |███████████████████████████████▎| 2.2MB 36.3MB/s eta 0:00:01\r\u001b[K     |███████████████████████████████▌| 2.2MB 36.3MB/s eta 0:00:01\r\u001b[K     |███████████████████████████████▋| 2.2MB 36.3MB/s eta 0:00:01\r\u001b[K     |███████████████████████████████▊| 2.2MB 36.3MB/s eta 0:00:01\r\u001b[K     |████████████████████████████████| 2.2MB 36.3MB/s eta 0:00:01\r\u001b[K     |████████████████████████████████| 2.3MB 36.3MB/s \n",
            "\u001b[?25hRequirement already satisfied: numpy>=1.17 in /usr/local/lib/python3.7/dist-packages (from transformers) (1.19.5)\n",
            "Collecting huggingface-hub==0.0.8\n",
            "  Downloading https://files.pythonhosted.org/packages/a1/88/7b1e45720ecf59c6c6737ff332f41c955963090a18e72acbcbeac6b25e86/huggingface_hub-0.0.8-py3-none-any.whl\n",
            "Requirement already satisfied: filelock in /usr/local/lib/python3.7/dist-packages (from transformers) (3.0.12)\n",
            "Requirement already satisfied: importlib-metadata; python_version < \"3.8\" in /usr/local/lib/python3.7/dist-packages (from transformers) (4.5.0)\n",
            "Requirement already satisfied: packaging in /usr/local/lib/python3.7/dist-packages (from transformers) (20.9)\n",
            "Collecting sacremoses\n",
            "\u001b[?25l  Downloading https://files.pythonhosted.org/packages/75/ee/67241dc87f266093c533a2d4d3d69438e57d7a90abb216fa076e7d475d4a/sacremoses-0.0.45-py3-none-any.whl (895kB)\n",
            "\u001b[K     |████████████████████████████████| 901kB 32.6MB/s \n",
            "\u001b[?25hCollecting tokenizers<0.11,>=0.10.1\n",
            "\u001b[?25l  Downloading https://files.pythonhosted.org/packages/d4/e2/df3543e8ffdab68f5acc73f613de9c2b155ac47f162e725dcac87c521c11/tokenizers-0.10.3-cp37-cp37m-manylinux_2_5_x86_64.manylinux1_x86_64.manylinux_2_12_x86_64.manylinux2010_x86_64.whl (3.3MB)\n",
            "\u001b[K     |████████████████████████████████| 3.3MB 37.2MB/s \n",
            "\u001b[?25hRequirement already satisfied: tqdm>=4.27 in /usr/local/lib/python3.7/dist-packages (from transformers) (4.41.1)\n",
            "Requirement already satisfied: requests in /usr/local/lib/python3.7/dist-packages (from transformers) (2.23.0)\n",
            "Requirement already satisfied: regex!=2019.12.17 in /usr/local/lib/python3.7/dist-packages (from transformers) (2019.12.20)\n",
            "Requirement already satisfied: typing-extensions>=3.6.4; python_version < \"3.8\" in /usr/local/lib/python3.7/dist-packages (from importlib-metadata; python_version < \"3.8\"->transformers) (3.7.4.3)\n",
            "Requirement already satisfied: zipp>=0.5 in /usr/local/lib/python3.7/dist-packages (from importlib-metadata; python_version < \"3.8\"->transformers) (3.4.1)\n",
            "Requirement already satisfied: pyparsing>=2.0.2 in /usr/local/lib/python3.7/dist-packages (from packaging->transformers) (2.4.7)\n",
            "Requirement already satisfied: joblib in /usr/local/lib/python3.7/dist-packages (from sacremoses->transformers) (1.0.1)\n",
            "Requirement already satisfied: click in /usr/local/lib/python3.7/dist-packages (from sacremoses->transformers) (7.1.2)\n",
            "Requirement already satisfied: six in /usr/local/lib/python3.7/dist-packages (from sacremoses->transformers) (1.15.0)\n",
            "Requirement already satisfied: chardet<4,>=3.0.2 in /usr/local/lib/python3.7/dist-packages (from requests->transformers) (3.0.4)\n",
            "Requirement already satisfied: idna<3,>=2.5 in /usr/local/lib/python3.7/dist-packages (from requests->transformers) (2.10)\n",
            "Requirement already satisfied: certifi>=2017.4.17 in /usr/local/lib/python3.7/dist-packages (from requests->transformers) (2021.5.30)\n",
            "Requirement already satisfied: urllib3!=1.25.0,!=1.25.1,<1.26,>=1.21.1 in /usr/local/lib/python3.7/dist-packages (from requests->transformers) (1.24.3)\n",
            "Installing collected packages: huggingface-hub, sacremoses, tokenizers, transformers\n",
            "Successfully installed huggingface-hub-0.0.8 sacremoses-0.0.45 tokenizers-0.10.3 transformers-4.6.1\n",
            "Collecting pytorch_lightning\n",
            "\u001b[?25l  Downloading https://files.pythonhosted.org/packages/b6/6a/20d0bf3b967ab62333efea36fe922aaa252d1762555b4a7afb2be5bbdcbf/pytorch_lightning-1.3.5-py3-none-any.whl (808kB)\n",
            "\u001b[K     |████████████████████████████████| 808kB 29.7MB/s \n",
            "\u001b[?25hCollecting PyYAML<=5.4.1,>=5.1\n",
            "\u001b[?25l  Downloading https://files.pythonhosted.org/packages/7a/a5/393c087efdc78091afa2af9f1378762f9821c9c1d7a22c5753fb5ac5f97a/PyYAML-5.4.1-cp37-cp37m-manylinux1_x86_64.whl (636kB)\n",
            "\u001b[K     |████████████████████████████████| 645kB 41.7MB/s \n",
            "\u001b[?25hRequirement already satisfied: numpy>=1.17.2 in /usr/local/lib/python3.7/dist-packages (from pytorch_lightning) (1.19.5)\n",
            "Collecting future>=0.17.1\n",
            "\u001b[?25l  Downloading https://files.pythonhosted.org/packages/45/0b/38b06fd9b92dc2b68d58b75f900e97884c45bedd2ff83203d933cf5851c9/future-0.18.2.tar.gz (829kB)\n",
            "\u001b[K     |████████████████████████████████| 829kB 30.4MB/s \n",
            "\u001b[?25hRequirement already satisfied: packaging in /usr/local/lib/python3.7/dist-packages (from pytorch_lightning) (20.9)\n",
            "Collecting pyDeprecate==0.3.0\n",
            "  Downloading https://files.pythonhosted.org/packages/14/52/aa227a0884df71ed1957649085adf2b8bc2a1816d037c2f18b3078854516/pyDeprecate-0.3.0-py3-none-any.whl\n",
            "Collecting fsspec[http]!=2021.06.0,>=2021.05.0\n",
            "\u001b[?25l  Downloading https://files.pythonhosted.org/packages/bc/52/816d1a3a599176057bf29dfacb1f8fadb61d35fbd96cb1bab4aaa7df83c0/fsspec-2021.5.0-py3-none-any.whl (111kB)\n",
            "\u001b[K     |████████████████████████████████| 112kB 52.6MB/s \n",
            "\u001b[?25hRequirement already satisfied: torch>=1.4 in /usr/local/lib/python3.7/dist-packages (from pytorch_lightning) (1.8.1+cu101)\n",
            "Collecting torchmetrics>=0.2.0\n",
            "\u001b[?25l  Downloading https://files.pythonhosted.org/packages/3b/e8/513cd9d0b1c83dc14cd8f788d05cd6a34758d4fd7e4f9e5ecd5d7d599c95/torchmetrics-0.3.2-py3-none-any.whl (274kB)\n",
            "\u001b[K     |████████████████████████████████| 276kB 47.3MB/s \n",
            "\u001b[?25hRequirement already satisfied: tqdm>=4.41.0 in /usr/local/lib/python3.7/dist-packages (from pytorch_lightning) (4.41.1)\n",
            "Collecting tensorboard!=2.5.0,>=2.2.0\n",
            "\u001b[?25l  Downloading https://files.pythonhosted.org/packages/64/21/eebd23060763fedeefb78bc2b286e00fa1d8abda6f70efa2ee08c28af0d4/tensorboard-2.4.1-py3-none-any.whl (10.6MB)\n",
            "\u001b[K     |████████████████████████████████| 10.6MB 34.3MB/s \n",
            "\u001b[?25hRequirement already satisfied: pyparsing>=2.0.2 in /usr/local/lib/python3.7/dist-packages (from packaging->pytorch_lightning) (2.4.7)\n",
            "Collecting aiohttp; extra == \"http\"\n",
            "\u001b[?25l  Downloading https://files.pythonhosted.org/packages/88/c0/5890b4c8b04a79b7360e8fe4490feb0bb3ab179743f199f0e6220cebd568/aiohttp-3.7.4.post0-cp37-cp37m-manylinux2014_x86_64.whl (1.3MB)\n",
            "\u001b[K     |████████████████████████████████| 1.3MB 39.5MB/s \n",
            "\u001b[?25hRequirement already satisfied: requests; extra == \"http\" in /usr/local/lib/python3.7/dist-packages (from fsspec[http]!=2021.06.0,>=2021.05.0->pytorch_lightning) (2.23.0)\n",
            "Requirement already satisfied: typing-extensions in /usr/local/lib/python3.7/dist-packages (from torch>=1.4->pytorch_lightning) (3.7.4.3)\n",
            "Requirement already satisfied: wheel>=0.26; python_version >= \"3\" in /usr/local/lib/python3.7/dist-packages (from tensorboard!=2.5.0,>=2.2.0->pytorch_lightning) (0.36.2)\n",
            "Requirement already satisfied: protobuf>=3.6.0 in /usr/local/lib/python3.7/dist-packages (from tensorboard!=2.5.0,>=2.2.0->pytorch_lightning) (3.12.4)\n",
            "Requirement already satisfied: absl-py>=0.4 in /usr/local/lib/python3.7/dist-packages (from tensorboard!=2.5.0,>=2.2.0->pytorch_lightning) (0.12.0)\n",
            "Requirement already satisfied: markdown>=2.6.8 in /usr/local/lib/python3.7/dist-packages (from tensorboard!=2.5.0,>=2.2.0->pytorch_lightning) (3.3.4)\n",
            "Requirement already satisfied: setuptools>=41.0.0 in /usr/local/lib/python3.7/dist-packages (from tensorboard!=2.5.0,>=2.2.0->pytorch_lightning) (57.0.0)\n",
            "Requirement already satisfied: werkzeug>=0.11.15 in /usr/local/lib/python3.7/dist-packages (from tensorboard!=2.5.0,>=2.2.0->pytorch_lightning) (1.0.1)\n",
            "Requirement already satisfied: google-auth<2,>=1.6.3 in /usr/local/lib/python3.7/dist-packages (from tensorboard!=2.5.0,>=2.2.0->pytorch_lightning) (1.31.0)\n",
            "Requirement already satisfied: tensorboard-plugin-wit>=1.6.0 in /usr/local/lib/python3.7/dist-packages (from tensorboard!=2.5.0,>=2.2.0->pytorch_lightning) (1.8.0)\n",
            "Requirement already satisfied: google-auth-oauthlib<0.5,>=0.4.1 in /usr/local/lib/python3.7/dist-packages (from tensorboard!=2.5.0,>=2.2.0->pytorch_lightning) (0.4.4)\n",
            "Requirement already satisfied: grpcio>=1.24.3 in /usr/local/lib/python3.7/dist-packages (from tensorboard!=2.5.0,>=2.2.0->pytorch_lightning) (1.34.1)\n",
            "Requirement already satisfied: six>=1.10.0 in /usr/local/lib/python3.7/dist-packages (from tensorboard!=2.5.0,>=2.2.0->pytorch_lightning) (1.15.0)\n",
            "Collecting yarl<2.0,>=1.0\n",
            "\u001b[?25l  Downloading https://files.pythonhosted.org/packages/f1/62/046834c5fc998c88ab2ef722f5d42122230a632212c8afa76418324f53ff/yarl-1.6.3-cp37-cp37m-manylinux2014_x86_64.whl (294kB)\n",
            "\u001b[K     |████████████████████████████████| 296kB 54.9MB/s \n",
            "\u001b[?25hCollecting async-timeout<4.0,>=3.0\n",
            "  Downloading https://files.pythonhosted.org/packages/e1/1e/5a4441be21b0726c4464f3f23c8b19628372f606755a9d2e46c187e65ec4/async_timeout-3.0.1-py3-none-any.whl\n",
            "Collecting multidict<7.0,>=4.5\n",
            "\u001b[?25l  Downloading https://files.pythonhosted.org/packages/7c/a6/4123b8165acbe773d1a8dc8e3f0d1edea16d29f7de018eda769abb56bd30/multidict-5.1.0-cp37-cp37m-manylinux2014_x86_64.whl (142kB)\n",
            "\u001b[K     |████████████████████████████████| 143kB 52.7MB/s \n",
            "\u001b[?25hRequirement already satisfied: chardet<5.0,>=2.0 in /usr/local/lib/python3.7/dist-packages (from aiohttp; extra == \"http\"->fsspec[http]!=2021.06.0,>=2021.05.0->pytorch_lightning) (3.0.4)\n",
            "Requirement already satisfied: attrs>=17.3.0 in /usr/local/lib/python3.7/dist-packages (from aiohttp; extra == \"http\"->fsspec[http]!=2021.06.0,>=2021.05.0->pytorch_lightning) (21.2.0)\n",
            "Requirement already satisfied: idna<3,>=2.5 in /usr/local/lib/python3.7/dist-packages (from requests; extra == \"http\"->fsspec[http]!=2021.06.0,>=2021.05.0->pytorch_lightning) (2.10)\n",
            "Requirement already satisfied: urllib3!=1.25.0,!=1.25.1,<1.26,>=1.21.1 in /usr/local/lib/python3.7/dist-packages (from requests; extra == \"http\"->fsspec[http]!=2021.06.0,>=2021.05.0->pytorch_lightning) (1.24.3)\n",
            "Requirement already satisfied: certifi>=2017.4.17 in /usr/local/lib/python3.7/dist-packages (from requests; extra == \"http\"->fsspec[http]!=2021.06.0,>=2021.05.0->pytorch_lightning) (2021.5.30)\n",
            "Requirement already satisfied: importlib-metadata; python_version < \"3.8\" in /usr/local/lib/python3.7/dist-packages (from markdown>=2.6.8->tensorboard!=2.5.0,>=2.2.0->pytorch_lightning) (4.5.0)\n",
            "Requirement already satisfied: rsa<5,>=3.1.4; python_version >= \"3.6\" in /usr/local/lib/python3.7/dist-packages (from google-auth<2,>=1.6.3->tensorboard!=2.5.0,>=2.2.0->pytorch_lightning) (4.7.2)\n",
            "Requirement already satisfied: cachetools<5.0,>=2.0.0 in /usr/local/lib/python3.7/dist-packages (from google-auth<2,>=1.6.3->tensorboard!=2.5.0,>=2.2.0->pytorch_lightning) (4.2.2)\n",
            "Requirement already satisfied: pyasn1-modules>=0.2.1 in /usr/local/lib/python3.7/dist-packages (from google-auth<2,>=1.6.3->tensorboard!=2.5.0,>=2.2.0->pytorch_lightning) (0.2.8)\n",
            "Requirement already satisfied: requests-oauthlib>=0.7.0 in /usr/local/lib/python3.7/dist-packages (from google-auth-oauthlib<0.5,>=0.4.1->tensorboard!=2.5.0,>=2.2.0->pytorch_lightning) (1.3.0)\n",
            "Requirement already satisfied: zipp>=0.5 in /usr/local/lib/python3.7/dist-packages (from importlib-metadata; python_version < \"3.8\"->markdown>=2.6.8->tensorboard!=2.5.0,>=2.2.0->pytorch_lightning) (3.4.1)\n",
            "Requirement already satisfied: pyasn1>=0.1.3 in /usr/local/lib/python3.7/dist-packages (from rsa<5,>=3.1.4; python_version >= \"3.6\"->google-auth<2,>=1.6.3->tensorboard!=2.5.0,>=2.2.0->pytorch_lightning) (0.4.8)\n",
            "Requirement already satisfied: oauthlib>=3.0.0 in /usr/local/lib/python3.7/dist-packages (from requests-oauthlib>=0.7.0->google-auth-oauthlib<0.5,>=0.4.1->tensorboard!=2.5.0,>=2.2.0->pytorch_lightning) (3.1.1)\n",
            "Building wheels for collected packages: future\n",
            "  Building wheel for future (setup.py) ... \u001b[?25l\u001b[?25hdone\n",
            "  Created wheel for future: filename=future-0.18.2-cp37-none-any.whl size=491070 sha256=f25adac681e7f3c0976cb5cb3360797b4d117994eabd3fafaef22948df66a8b2\n",
            "  Stored in directory: /root/.cache/pip/wheels/8b/99/a0/81daf51dcd359a9377b110a8a886b3895921802d2fc1b2397e\n",
            "Successfully built future\n",
            "\u001b[31mERROR: tensorflow 2.5.0 has requirement tensorboard~=2.5, but you'll have tensorboard 2.4.1 which is incompatible.\u001b[0m\n",
            "Installing collected packages: PyYAML, future, pyDeprecate, multidict, yarl, async-timeout, aiohttp, fsspec, torchmetrics, tensorboard, pytorch-lightning\n",
            "  Found existing installation: PyYAML 3.13\n",
            "    Uninstalling PyYAML-3.13:\n",
            "      Successfully uninstalled PyYAML-3.13\n",
            "  Found existing installation: future 0.16.0\n",
            "    Uninstalling future-0.16.0:\n",
            "      Successfully uninstalled future-0.16.0\n",
            "  Found existing installation: tensorboard 2.5.0\n",
            "    Uninstalling tensorboard-2.5.0:\n",
            "      Successfully uninstalled tensorboard-2.5.0\n",
            "Successfully installed PyYAML-5.4.1 aiohttp-3.7.4.post0 async-timeout-3.0.1 fsspec-2021.5.0 future-0.18.2 multidict-5.1.0 pyDeprecate-0.3.0 pytorch-lightning-1.3.5 tensorboard-2.4.1 torchmetrics-0.3.2 yarl-1.6.3\n",
            "Collecting sentencepiece\n",
            "\u001b[?25l  Downloading https://files.pythonhosted.org/packages/f5/99/e0808cb947ba10f575839c43e8fafc9cc44e4a7a2c8f79c60db48220a577/sentencepiece-0.1.95-cp37-cp37m-manylinux2014_x86_64.whl (1.2MB)\n",
            "\u001b[K     |████████████████████████████████| 1.2MB 28.8MB/s \n",
            "\u001b[?25hInstalling collected packages: sentencepiece\n",
            "Successfully installed sentencepiece-0.1.95\n"
          ],
          "name": "stdout"
        }
      ]
    },
    {
      "cell_type": "markdown",
      "metadata": {
        "id": "HVxGfmEMCKs_"
      },
      "source": [
        "## T5 fine-tuning\n",
        "\n",
        "This notebook is to showcase how to fine-tune [T5 model](https://arxiv.org/abs/1910.10683) with Huggigface's [Transformers](https://github.com/huggingface/transformers/) to solve different NLP tasks using text-2-text approach proposed in the T5 paper. For demo I chose 3 non text-2-text problems just to reiterate the fact from the paper that how widely applicable this text-2-text framework is and how it can be used for different tasks without changing the model at all.\n",
        "\n",
        "This is a rough draft so if you find any issues with this notebook or have any  questions reach out to me via [Twitter](https://twitter.com/psuraj28).\n",
        "\n"
      ]
    },
    {
      "cell_type": "code",
      "metadata": {
        "colab": {
          "base_uri": "https://localhost:8080/"
        },
        "id": "HS8mNXq6bdxq",
        "outputId": "42f59817-90e8-405c-adc6-33a16b0a0a53"
      },
      "source": [
        "import argparse\n",
        "import glob\n",
        "import os\n",
        "import json\n",
        "import time\n",
        "import logging\n",
        "import random\n",
        "import re\n",
        "from itertools import chain\n",
        "from string import punctuation\n",
        "\n",
        "import nltk\n",
        "nltk.download('punkt')\n",
        "from nltk.tokenize import sent_tokenize\n",
        "\n",
        "import pandas as pd\n",
        "import numpy as np\n",
        "import torch\n",
        "from torch.utils.data import Dataset, DataLoader\n",
        "import pytorch_lightning as pl\n",
        "\n",
        "\n",
        "from transformers import (\n",
        "    AdamW,\n",
        "    T5ForConditionalGeneration,\n",
        "    T5Tokenizer,\n",
        "    get_linear_schedule_with_warmup\n",
        ")"
      ],
      "execution_count": null,
      "outputs": [
        {
          "output_type": "stream",
          "text": [
            "[nltk_data] Downloading package punkt to /root/nltk_data...\n",
            "[nltk_data]   Unzipping tokenizers/punkt.zip.\n"
          ],
          "name": "stdout"
        }
      ]
    },
    {
      "cell_type": "code",
      "metadata": {
        "id": "IswYuhWaz7QJ"
      },
      "source": [
        "def set_seed(seed):\n",
        "  random.seed(seed)\n",
        "  np.random.seed(seed)\n",
        "  torch.manual_seed(seed)\n",
        "  if torch.cuda.is_available():\n",
        "    torch.cuda.manual_seed_all(seed)\n",
        "\n",
        "set_seed(42)"
      ],
      "execution_count": null,
      "outputs": []
    },
    {
      "cell_type": "markdown",
      "metadata": {
        "id": "RKNr7fgzcKpZ"
      },
      "source": [
        "## Model\n",
        "\n",
        "We'll be using the awesome [pytorch-lightning](https://github.com/PytorchLightning/pytorch-lightning) library for training. Most of the below code is adapted from here https://github.com/huggingface/transformers/blob/master/examples/lightning_base.py\n",
        "\n",
        "The trainer is generic and can be used for any text-2-text task. You'll just need to change the dataset. Rest of the code will stay unchanged for all the tasks.\n",
        "\n",
        "This is the most intresting and powrfull thing about the text-2-text format. You can fine-tune the model on variety of NLP tasks by just formulating the problem in text-2-text setting. No need to change hyperparameters, learning rate, optimizer or loss function. Just plug in your dataset and you are ready to go!"
      ]
    },
    {
      "cell_type": "code",
      "metadata": {
        "id": "B7uVNBtXST5X"
      },
      "source": [
        "class T5FineTuner(pl.LightningModule):\n",
        "  def __init__(self, hparams):\n",
        "    super(T5FineTuner, self).__init__()\n",
        "    self.save_hyperparameters(hparams)\n",
        "    \n",
        "    self.model = T5ForConditionalGeneration.from_pretrained(hparams.model_name_or_path)\n",
        "    self.tokenizer = T5Tokenizer.from_pretrained(hparams.tokenizer_name_or_path)\n",
        "  \n",
        "  def is_logger(self):\n",
        "    return self.trainer.global_rank <= 0\n",
        "  \n",
        "  def forward(\n",
        "      self, input_ids, attention_mask=None, decoder_input_ids=None, decoder_attention_mask=None, labels=None\n",
        "  ):\n",
        "    return self.model(\n",
        "        input_ids,\n",
        "        attention_mask=attention_mask,\n",
        "        decoder_input_ids=decoder_input_ids,\n",
        "        decoder_attention_mask=decoder_attention_mask,\n",
        "        labels=labels,\n",
        "    )\n",
        "\n",
        "  def _step(self, batch):\n",
        "    labels = batch[\"target_ids\"]\n",
        "    labels[labels[:, :] == self.tokenizer.pad_token_id] = -100\n",
        "\n",
        "    outputs = self(\n",
        "        input_ids=batch[\"source_ids\"],\n",
        "        attention_mask=batch[\"source_mask\"],\n",
        "        labels=labels,\n",
        "        decoder_attention_mask=batch['target_mask']\n",
        "    )\n",
        "\n",
        "    loss = outputs[0]\n",
        "\n",
        "    return loss\n",
        "\n",
        "  def training_step(self, batch, batch_idx):\n",
        "    loss = self._step(batch)\n",
        "\n",
        "    tensorboard_logs = {\"train_loss\": loss}\n",
        "    return {\"loss\": loss, \"log\": tensorboard_logs}\n",
        "  \n",
        "  def training_epoch_end(self, outputs):\n",
        "    avg_train_loss = torch.stack([x[\"loss\"] for x in outputs]).mean()\n",
        "    tensorboard_logs = {\"avg_train_loss\": avg_train_loss}\n",
        "    return None\n",
        "\n",
        "  def validation_step(self, batch, batch_idx):\n",
        "    loss = self._step(batch)\n",
        "    return {\"val_loss\": loss}\n",
        "  \n",
        "  def validation_epoch_end(self, outputs):\n",
        "    avg_loss = torch.stack([x[\"val_loss\"] for x in outputs]).mean()\n",
        "    tensorboard_logs = {\"val_loss\": avg_loss}\n",
        "    return {\"avg_val_loss\": avg_loss, \"log\": tensorboard_logs, 'progress_bar': tensorboard_logs}\n",
        "\n",
        "  def configure_optimizers(self):\n",
        "    \"Prepare optimizer and schedule (linear warmup and decay)\"\n",
        "\n",
        "    model = self.model\n",
        "    no_decay = [\"bias\", \"LayerNorm.weight\"]\n",
        "    optimizer_grouped_parameters = [\n",
        "        {\n",
        "            \"params\": [p for n, p in model.named_parameters() if not any(nd in n for nd in no_decay)],\n",
        "            \"weight_decay\": self.hparams.weight_decay,\n",
        "        },\n",
        "        {\n",
        "            \"params\": [p for n, p in model.named_parameters() if any(nd in n for nd in no_decay)],\n",
        "            \"weight_decay\": 0.0,\n",
        "        },\n",
        "    ]\n",
        "    optimizer = AdamW(optimizer_grouped_parameters, lr=self.hparams.learning_rate, eps=self.hparams.adam_epsilon)\n",
        "    self.opt = optimizer\n",
        "    return [optimizer]\n",
        "  \n",
        "  def optimizer_step(self,\n",
        "                     epoch=None,\n",
        "                     batch_idx=None,\n",
        "                     optimizer=None,\n",
        "                     optimizer_idx=None,\n",
        "                     optimizer_closure=None,\n",
        "                     on_tpu=None,\n",
        "                     using_native_amp=None,\n",
        "                     using_lbfgs=None):\n",
        "\n",
        "    optimizer.step(closure=optimizer_closure) # remove 'closure=optimizer_closure' here\n",
        "    optimizer.zero_grad()\n",
        "    self.lr_scheduler.step()\n",
        "  \n",
        "  def get_tqdm_dict(self):\n",
        "    tqdm_dict = {\"loss\": \"{:.3f}\".format(self.trainer.avg_loss), \"lr\": self.lr_scheduler.get_last_lr()[-1]}\n",
        "\n",
        "    return tqdm_dict\n",
        "\n",
        "  def train_dataloader(self):\n",
        "    train_dataset = get_dataset(tokenizer=self.tokenizer, type_path=\"train\", args=self.hparams)\n",
        "    dataloader = DataLoader(train_dataset, batch_size=self.hparams.train_batch_size, drop_last=True, shuffle=True, num_workers=4)\n",
        "    t_total = (\n",
        "        (len(dataloader.dataset) // (self.hparams.train_batch_size * max(1, self.hparams.n_gpu)))\n",
        "        // self.hparams.gradient_accumulation_steps\n",
        "        * float(self.hparams.num_train_epochs)\n",
        "    )\n",
        "    scheduler = get_linear_schedule_with_warmup(\n",
        "        self.opt, num_warmup_steps=self.hparams.warmup_steps, num_training_steps=t_total\n",
        "    )\n",
        "    self.lr_scheduler = scheduler\n",
        "    return dataloader\n",
        "\n",
        "  def val_dataloader(self):\n",
        "    val_dataset = get_dataset(tokenizer=self.tokenizer, type_path=\"val\", args=self.hparams)\n",
        "    return DataLoader(val_dataset, batch_size=self.hparams.eval_batch_size, num_workers=4)"
      ],
      "execution_count": null,
      "outputs": []
    },
    {
      "cell_type": "code",
      "metadata": {
        "id": "oh1R5C-GwMqx"
      },
      "source": [
        "logger = logging.getLogger(__name__)\n",
        "\n",
        "class LoggingCallback(pl.Callback):\n",
        "  def on_validation_end(self, trainer, pl_module):\n",
        "    logger.info(\"***** Validation results *****\")\n",
        "    if pl_module.is_logger():\n",
        "      metrics = trainer.callback_metrics\n",
        "      # Log results\n",
        "      for key in sorted(metrics):\n",
        "        if key not in [\"log\", \"progress_bar\"]:\n",
        "          logger.info(\"{} = {}\\n\".format(key, str(metrics[key])))\n",
        "\n",
        "  def on_test_end(self, trainer, pl_module):\n",
        "    logger.info(\"***** Test results *****\")\n",
        "\n",
        "    if pl_module.is_logger():\n",
        "      metrics = trainer.callback_metrics\n",
        "\n",
        "      # Log and save results to file\n",
        "      output_test_results_file = os.path.join(pl_module.hparams.output_dir, \"test_results.txt\")\n",
        "      with open(output_test_results_file, \"w\") as writer:\n",
        "        for key in sorted(metrics):\n",
        "          if key not in [\"log\", \"progress_bar\"]:\n",
        "            logger.info(\"{} = {}\\n\".format(key, str(metrics[key])))\n",
        "            writer.write(\"{} = {}\\n\".format(key, str(metrics[key])))"
      ],
      "execution_count": null,
      "outputs": []
    },
    {
      "cell_type": "markdown",
      "metadata": {
        "id": "a4hjvsBJ5Zk5"
      },
      "source": [
        "Let's define the hyperparameters and other arguments. You can overide this `dict` for specific task as needed. While in most of cases you'll only need to change the `data_dir`and `output_dir`.\n",
        "\n",
        "Here the batch size is 8 and gradient_accumulation_steps are 16 so the effective batch size is 128"
      ]
    },
    {
      "cell_type": "code",
      "metadata": {
        "id": "urduopvizqTq"
      },
      "source": [
        "args_dict = dict(\n",
        "    data_dir=\"\", # path for data files\n",
        "    output_dir=\"\", # path to save the checkpoints\n",
        "    model_name_or_path='t5-base',\n",
        "    tokenizer_name_or_path='t5-base',\n",
        "    max_seq_length=512,\n",
        "    learning_rate=3e-4,\n",
        "    weight_decay=0.0,\n",
        "    adam_epsilon=1e-8,\n",
        "    warmup_steps=0,\n",
        "    train_batch_size=8,\n",
        "    eval_batch_size=8,\n",
        "    num_train_epochs=2,\n",
        "    gradient_accumulation_steps=16,\n",
        "    n_gpu=1,\n",
        "    fp_16=False, # if you want to enable 16-bit training then install apex and set this to true\n",
        "    opt_level='O1', # you can find out more on optimisation levels here https://nvidia.github.io/apex/amp.html#opt-levels-and-properties\n",
        "    max_grad_norm=1.0, # if you enable 16-bit training then set this to a sensible value, 0.5 is a good default\n",
        "    seed=42,\n",
        ")"
      ],
      "execution_count": null,
      "outputs": []
    },
    {
      "cell_type": "markdown",
      "metadata": {
        "id": "vfhlYUUV2NIh"
      },
      "source": [
        "## Yelp review classification"
      ]
    },
    {
      "cell_type": "markdown",
      "metadata": {
        "id": "b3C13iabZvwK"
      },
      "source": [
        "### Setup Yelp Data"
      ]
    },
    {
      "cell_type": "code",
      "metadata": {
        "colab": {
          "base_uri": "https://localhost:8080/"
        },
        "id": "ZS8lQok4sFXy",
        "outputId": "cba944f6-63c5-453d-96c1-d2b49b3b03b2"
      },
      "source": [
        "import os\n",
        "\n",
        "if os.path.exists('data'):\n",
        "  print('Data path already exists.')\n",
        "else:\n",
        "  os.makedirs('data/train/pos')\n",
        "  os.makedirs('data/val/pos')\n",
        "  os.makedirs('data/val/neg')\n",
        "  os.makedirs('data/train/neg')\n",
        "  print('Paths created.')\n",
        "\n",
        "posCounter = 0\n",
        "negCounter = 0\n",
        "limit = 5000\n",
        "\n",
        "data_file = 'T5FineTune.txt'\n",
        "\n",
        "with open(data_file, 'r', encoding='utf-8') as dataset:\n",
        "  data = dataset.readlines()\n",
        "\n",
        "for i in range(0, len(data)):\n",
        "  if i % 2 == 0:\n",
        "    score = int(data[i])\n",
        "    if score == 1 and posCounter <= limit:\n",
        "      with open('data/train/pos/' + str(posCounter) + '.txt', 'w') as outfile:\n",
        "        outfile.write(data[i+1])\n",
        "        posCounter = posCounter + 1\n",
        "    elif score == 0 and negCounter <= limit:\n",
        "      with open('data/train/neg/' + str(negCounter) + '.txt', 'w') as outfile:\n",
        "        outfile.write(data[i+1])\n",
        "        negCounter = negCounter + 1\n",
        "\n",
        "print('Data files created')\n",
        "print('Positive: ', posCounter)\n",
        "print('Negative: ', negCounter)"
      ],
      "execution_count": null,
      "outputs": [
        {
          "output_type": "stream",
          "text": [
            "Paths created.\n",
            "Data files created\n",
            "Positive:  5001\n",
            "Negative:  5001\n"
          ],
          "name": "stdout"
        }
      ]
    },
    {
      "cell_type": "code",
      "metadata": {
        "id": "ni1cAK7EvXSB"
      },
      "source": [
        "train_pos_files = glob.glob('data/train/pos/*.txt')\n",
        "train_neg_files = glob.glob('data/train/neg/*.txt')"
      ],
      "execution_count": null,
      "outputs": []
    },
    {
      "cell_type": "code",
      "metadata": {
        "colab": {
          "base_uri": "https://localhost:8080/"
        },
        "id": "jEsRn5pa0v8d",
        "outputId": "b8500d4d-139d-40c1-9503-15aceb933d63"
      },
      "source": [
        "len(train_pos_files), len(train_neg_files)"
      ],
      "execution_count": null,
      "outputs": [
        {
          "output_type": "execute_result",
          "data": {
            "text/plain": [
              "(5001, 5001)"
            ]
          },
          "metadata": {
            "tags": []
          },
          "execution_count": 11
        }
      ]
    },
    {
      "cell_type": "markdown",
      "metadata": {
        "id": "5zgS8KhlaPiA"
      },
      "source": [
        "We will use 2000 samples from the train set for validation. Let's choose 10 percent postive reviews and 10 percent negative reviews for validation and save them in the val directory"
      ]
    },
    {
      "cell_type": "code",
      "metadata": {
        "id": "IXZmLZ1pzjiY"
      },
      "source": [
        "random.shuffle(train_pos_files)\n",
        "random.shuffle(train_neg_files)\n",
        "\n",
        "val_pos_files = train_pos_files[:int(0.1*len(train_pos_files))]\n",
        "val_neg_files = train_neg_files[:int(0.1*len(train_neg_files))]"
      ],
      "execution_count": null,
      "outputs": []
    },
    {
      "cell_type": "code",
      "metadata": {
        "id": "5yTS2Jx40UNu"
      },
      "source": [
        "import shutil"
      ],
      "execution_count": null,
      "outputs": []
    },
    {
      "cell_type": "code",
      "metadata": {
        "id": "hJnJpkdb0ZKY"
      },
      "source": [
        "for f in val_pos_files:\n",
        "  shutil.move(f,  'data/val/pos')\n",
        "for f in val_neg_files:\n",
        "  shutil.move(f,  'data/val/neg')"
      ],
      "execution_count": null,
      "outputs": []
    },
    {
      "cell_type": "markdown",
      "metadata": {
        "id": "qdEgCwL7cIyi"
      },
      "source": [
        "### Prepare Dataset"
      ]
    },
    {
      "cell_type": "code",
      "metadata": {
        "colab": {
          "base_uri": "https://localhost:8080/",
          "referenced_widgets": [
            "6284cd616b394d5aaff7ea2a9dad91ca",
            "adc36c042e304088b5172ece885391bc",
            "3eee5aacd6724600bcc4a6ac21716fe7",
            "8c90412f0f3d4673a7e231401431b760",
            "8908c97f87294d77b7e32064569fa0a4",
            "75c0a926cc5f4ef78d6b9d9469486b8f",
            "49ac8546ec754f41811e9f139e298f22",
            "7ffc24b1354c4fd7a69c6d76d2f7e3c9",
            "a77c4c57311c4a559ebc7253b5cdb685",
            "3c4b38b8e3de44fc9e496fec7498a336",
            "d049fb09e5354793b674e92181cc5bf6",
            "bacf4e4524894cfdaa8f6641cfb7d5cc",
            "eff33c6eb32b428f9e2221a537d8e140",
            "5c06cfadb7124a14827c7ff6f84073da",
            "f1201e432a8d474090e1888d8ac0e9ec",
            "b0797d4fe6f34edab19b874e178f122e"
          ]
        },
        "id": "McQC1FotigqA",
        "outputId": "17f03ace-ad55-41db-9148-3b5c178935e1"
      },
      "source": [
        "tokenizer = T5Tokenizer.from_pretrained('t5-base')"
      ],
      "execution_count": null,
      "outputs": [
        {
          "output_type": "display_data",
          "data": {
            "application/vnd.jupyter.widget-view+json": {
              "model_id": "6284cd616b394d5aaff7ea2a9dad91ca",
              "version_minor": 0,
              "version_major": 2
            },
            "text/plain": [
              "HBox(children=(FloatProgress(value=0.0, description='Downloading', max=791656.0, style=ProgressStyle(descripti…"
            ]
          },
          "metadata": {
            "tags": []
          }
        },
        {
          "output_type": "stream",
          "text": [
            "\n"
          ],
          "name": "stdout"
        },
        {
          "output_type": "display_data",
          "data": {
            "application/vnd.jupyter.widget-view+json": {
              "model_id": "a77c4c57311c4a559ebc7253b5cdb685",
              "version_minor": 0,
              "version_major": 2
            },
            "text/plain": [
              "HBox(children=(FloatProgress(value=0.0, description='Downloading', max=1389353.0, style=ProgressStyle(descript…"
            ]
          },
          "metadata": {
            "tags": []
          }
        },
        {
          "output_type": "stream",
          "text": [
            "\n"
          ],
          "name": "stdout"
        }
      ]
    },
    {
      "cell_type": "code",
      "metadata": {
        "colab": {
          "base_uri": "https://localhost:8080/"
        },
        "id": "wthd9SM74RG8",
        "outputId": "c8b8002c-edf6-4c85-b1a3-8cec4ba607ae"
      },
      "source": [
        "ids_neg = tokenizer.encode('negative </s>')\n",
        "ids_pos = tokenizer.encode('positive </s>')\n",
        "len(ids_neg), len(ids_pos)"
      ],
      "execution_count": null,
      "outputs": [
        {
          "output_type": "stream",
          "text": [
            "/usr/local/lib/python3.7/dist-packages/transformers/models/t5/tokenization_t5.py:173: UserWarning: This sequence already has </s>. In future versions this behavior may lead to duplicated eos tokens being added.\n",
            "  f\"This sequence already has {self.eos_token}. In future versions this behavior may lead to duplicated eos tokens being added.\"\n"
          ],
          "name": "stderr"
        },
        {
          "output_type": "execute_result",
          "data": {
            "text/plain": [
              "(2, 2)"
            ]
          },
          "metadata": {
            "tags": []
          },
          "execution_count": 16
        }
      ]
    },
    {
      "cell_type": "markdown",
      "metadata": {
        "id": "k5sJkyI3a723"
      },
      "source": [
        "All the examples are converted in the text-2-text format as shown in the paper. However I didn't use any task prefix here. The examples are encoded as follows,\n",
        "if the review is positive then the target is 'positive' else 'negative'\n",
        "\n",
        "**input**:  I went to see this\n",
        "movie with my husband, and we both\n",
        "thought the acting was terrible!\"\n",
        "\n",
        "**target**: negative\n",
        "\n",
        "**input**:  Despite what others say,\n",
        "I thought this movie was funny.\n",
        "\n",
        "**target**: positive"
      ]
    },
    {
      "cell_type": "markdown",
      "metadata": {
        "id": "VEYmYHKGcxEq"
      },
      "source": [
        "The dataset below takes care of reading the review files and processing the examples in text-2-text format.\n",
        "\n",
        "It cleans the review text by removing the html tags. It also appends the eos token `</s>` at the end of input and target as required by the T5 model \n",
        "\n",
        "For T5 max input length is 512 and we can choose the max length for target sequence depending upon our dataset. The `T5Tokenizer` encodes both 'postive' and 'negative' as a single ids so I chose the max target length 2, extra 1 for the `</s>` token"
      ]
    },
    {
      "cell_type": "code",
      "metadata": {
        "id": "IIY0GenSb72m"
      },
      "source": [
        "class RestaurantDataset(Dataset):\n",
        "  def __init__(self, tokenizer, data_dir, type_path,  max_len=512):\n",
        "    self.pos_file_path = os.path.join(data_dir, type_path, 'pos')\n",
        "    self.neg_file_path = os.path.join(data_dir, type_path, 'neg')\n",
        "    \n",
        "    self.pos_files = glob.glob(\"%s/*.txt\" % self.pos_file_path)\n",
        "    self.neg_files = glob.glob(\"%s/*.txt\" % self.neg_file_path)\n",
        "    \n",
        "    self.max_len = max_len\n",
        "    self.tokenizer = tokenizer\n",
        "    self.inputs = []\n",
        "    self.targets = []\n",
        "\n",
        "    self._build()\n",
        "  \n",
        "  def __len__(self):\n",
        "    return len(self.inputs)\n",
        "  \n",
        "  def __getitem__(self, index):\n",
        "    source_ids = self.inputs[index][\"input_ids\"].squeeze()\n",
        "    target_ids = self.targets[index][\"input_ids\"].squeeze()\n",
        "\n",
        "    src_mask    = self.inputs[index][\"attention_mask\"].squeeze()  # might need to squeeze\n",
        "    target_mask = self.targets[index][\"attention_mask\"].squeeze()  # might need to squeeze\n",
        "\n",
        "    return {\"source_ids\": source_ids, \"source_mask\": src_mask, \"target_ids\": target_ids, \"target_mask\": target_mask}\n",
        "  \n",
        "  def _build(self):\n",
        "    self._buil_examples_from_files(self.pos_files, 'positive')\n",
        "    self._buil_examples_from_files(self.neg_files, 'negative')\n",
        "  \n",
        "  def _buil_examples_from_files(self, files, sentiment):\n",
        "    REPLACE_NO_SPACE = re.compile(\"[.;:!\\'?,\\\"()\\[\\]]\")\n",
        "    REPLACE_WITH_SPACE = re.compile(\"(<br\\s*/><br\\s*/>)|(\\-)|(\\/)\")\n",
        "\n",
        "    for path in files:\n",
        "      with open(path, 'r') as f:\n",
        "        text = f.read()\n",
        "      \n",
        "      line = text.strip()\n",
        "      line = REPLACE_NO_SPACE.sub(\"\", line) \n",
        "      line = REPLACE_WITH_SPACE.sub(\"\", line)\n",
        "      line = line + ' </s>'\n",
        "\n",
        "      target = sentiment + \" </s>\"\n",
        "\n",
        "       # tokenize inputs\n",
        "      tokenized_inputs = self.tokenizer.batch_encode_plus(\n",
        "          [line], max_length=self.max_len, pad_to_max_length=True, return_tensors=\"pt\"\n",
        "      )\n",
        "       # tokenize targets\n",
        "      tokenized_targets = self.tokenizer.batch_encode_plus(\n",
        "          [target], max_length=2, pad_to_max_length=True, return_tensors=\"pt\"\n",
        "      )\n",
        "\n",
        "      self.inputs.append(tokenized_inputs)\n",
        "      self.targets.append(tokenized_targets)"
      ],
      "execution_count": null,
      "outputs": []
    },
    {
      "cell_type": "code",
      "metadata": {
        "colab": {
          "base_uri": "https://localhost:8080/"
        },
        "id": "gsnsKY6jemsr",
        "outputId": "5066ed66-555d-4187-e312-d1b1af3c5037"
      },
      "source": [
        "dataset = RestaurantDataset(tokenizer, 'data', 'val',  max_len=512)\n",
        "len(dataset)"
      ],
      "execution_count": null,
      "outputs": [
        {
          "output_type": "stream",
          "text": [
            "Truncation was not explicitly activated but `max_length` is provided a specific value, please use `truncation=True` to explicitly truncate examples to max length. Defaulting to 'longest_first' truncation strategy. If you encode pairs of sequences (GLUE-style) with the tokenizer you can select this strategy more precisely by providing a specific strategy to `truncation`.\n",
            "/usr/local/lib/python3.7/dist-packages/transformers/tokenization_utils_base.py:2110: FutureWarning: The `pad_to_max_length` argument is deprecated and will be removed in a future version, use `padding=True` or `padding='longest'` to pad to the longest sequence in the batch, or use `padding='max_length'` to pad to a max length. In this case, you can give a specific length with `max_length` (e.g. `max_length=45`) or leave max_length to None to pad to the maximal input size of the model (e.g. 512 for Bert).\n",
            "  FutureWarning,\n",
            "/usr/local/lib/python3.7/dist-packages/transformers/models/t5/tokenization_t5.py:173: UserWarning: This sequence already has </s>. In future versions this behavior may lead to duplicated eos tokens being added.\n",
            "  f\"This sequence already has {self.eos_token}. In future versions this behavior may lead to duplicated eos tokens being added.\"\n"
          ],
          "name": "stderr"
        },
        {
          "output_type": "execute_result",
          "data": {
            "text/plain": [
              "1000"
            ]
          },
          "metadata": {
            "tags": []
          },
          "execution_count": 18
        }
      ]
    },
    {
      "cell_type": "code",
      "metadata": {
        "colab": {
          "base_uri": "https://localhost:8080/"
        },
        "id": "7g1gz05ccAzg",
        "outputId": "c4842387-fde6-47ce-de10-03ed092af2a2"
      },
      "source": [
        "data = dataset[28]\n",
        "print(tokenizer.decode(data['source_ids']))\n",
        "print(tokenizer.decode(data['target_ids']))"
      ],
      "execution_count": null,
      "outputs": [
        {
          "output_type": "stream",
          "text": [
            "Yummy I got the sloppy joe with onion rings and it tasted amazing First visit to a wahlburgers and I loved it If I see one I would probably go back again for more sloppy joe lol Im so hungry thinking about it now This is for the location in Lynnfield I believe near that bowling alley and apple store</s> <pad> <pad> <pad> <pad> <pad> <pad> <pad> <pad> <pad> <pad> <pad> <pad> <pad> <pad> <pad> <pad> <pad> <pad> <pad> <pad> <pad> <pad> <pad> <pad> <pad> <pad> <pad> <pad> <pad> <pad> <pad> <pad> <pad> <pad> <pad> <pad> <pad> <pad> <pad> <pad> <pad> <pad> <pad> <pad> <pad> <pad> <pad> <pad> <pad> <pad> <pad> <pad> <pad> <pad> <pad> <pad> <pad> <pad> <pad> <pad> <pad> <pad> <pad> <pad> <pad> <pad> <pad> <pad> <pad> <pad> <pad> <pad> <pad> <pad> <pad> <pad> <pad> <pad> <pad> <pad> <pad> <pad> <pad> <pad> <pad> <pad> <pad> <pad> <pad> <pad> <pad> <pad> <pad> <pad> <pad> <pad> <pad> <pad> <pad> <pad> <pad> <pad> <pad> <pad> <pad> <pad> <pad> <pad> <pad> <pad> <pad> <pad> <pad> <pad> <pad> <pad> <pad> <pad> <pad> <pad> <pad> <pad> <pad> <pad> <pad> <pad> <pad> <pad> <pad> <pad> <pad> <pad> <pad> <pad> <pad> <pad> <pad> <pad> <pad> <pad> <pad> <pad> <pad> <pad> <pad> <pad> <pad> <pad> <pad> <pad> <pad> <pad> <pad> <pad> <pad> <pad> <pad> <pad> <pad> <pad> <pad> <pad> <pad> <pad> <pad> <pad> <pad> <pad> <pad> <pad> <pad> <pad> <pad> <pad> <pad> <pad> <pad> <pad> <pad> <pad> <pad> <pad> <pad> <pad> <pad> <pad> <pad> <pad> <pad> <pad> <pad> <pad> <pad> <pad> <pad> <pad> <pad> <pad> <pad> <pad> <pad> <pad> <pad> <pad> <pad> <pad> <pad> <pad> <pad> <pad> <pad> <pad> <pad> <pad> <pad> <pad> <pad> <pad> <pad> <pad> <pad> <pad> <pad> <pad> <pad> <pad> <pad> <pad> <pad> <pad> <pad> <pad> <pad> <pad> <pad> <pad> <pad> <pad> <pad> <pad> <pad> <pad> <pad> <pad> <pad> <pad> <pad> <pad> <pad> <pad> <pad> <pad> <pad> <pad> <pad> <pad> <pad> <pad> <pad> <pad> <pad> <pad> <pad> <pad> <pad> <pad> <pad> <pad> <pad> <pad> <pad> <pad> <pad> <pad> <pad> <pad> <pad> <pad> <pad> <pad> <pad> <pad> <pad> <pad> <pad> <pad> <pad> <pad> <pad> <pad> <pad> <pad> <pad> <pad> <pad> <pad> <pad> <pad> <pad> <pad> <pad> <pad> <pad> <pad> <pad> <pad> <pad> <pad> <pad> <pad> <pad> <pad> <pad> <pad> <pad> <pad> <pad> <pad> <pad> <pad> <pad> <pad> <pad> <pad> <pad> <pad> <pad> <pad> <pad> <pad> <pad> <pad> <pad> <pad> <pad> <pad> <pad> <pad> <pad> <pad> <pad> <pad> <pad> <pad> <pad> <pad> <pad> <pad> <pad> <pad> <pad> <pad> <pad> <pad> <pad> <pad> <pad> <pad> <pad> <pad> <pad> <pad> <pad> <pad> <pad> <pad> <pad> <pad> <pad> <pad> <pad> <pad> <pad> <pad> <pad> <pad> <pad> <pad> <pad> <pad> <pad> <pad> <pad> <pad> <pad> <pad> <pad> <pad> <pad> <pad> <pad> <pad> <pad> <pad> <pad> <pad> <pad> <pad> <pad> <pad> <pad> <pad> <pad> <pad> <pad> <pad> <pad> <pad> <pad> <pad> <pad> <pad> <pad> <pad> <pad> <pad> <pad> <pad> <pad> <pad> <pad> <pad> <pad> <pad> <pad> <pad> <pad> <pad> <pad> <pad> <pad> <pad> <pad>\n",
            "positive</s>\n"
          ],
          "name": "stdout"
        }
      ]
    },
    {
      "cell_type": "markdown",
      "metadata": {
        "id": "W4cfw8bMcNdA"
      },
      "source": [
        "### Train"
      ]
    },
    {
      "cell_type": "code",
      "metadata": {
        "id": "aTvkv4rzhPjy"
      },
      "source": [
        "!mkdir -p t5_yelp_sentiment"
      ],
      "execution_count": null,
      "outputs": []
    },
    {
      "cell_type": "code",
      "metadata": {
        "id": "r5ngAP4OXFqZ"
      },
      "source": [
        "args_dict.update({'data_dir': 'data', 'output_dir': 't5_yelp_sentiment', 'num_train_epochs':2})\n",
        "args = argparse.Namespace(**args_dict)\n",
        "\n",
        "checkpoint_callback = pl.callbacks.ModelCheckpoint(\n",
        "    dirpath=args.output_dir, monitor=\"val_loss\", mode=\"min\", save_top_k=5\n",
        ")\n",
        "\n",
        "train_params = dict(\n",
        "    accumulate_grad_batches=1,\n",
        "    gpus=args.n_gpu,\n",
        "    max_epochs=args.num_train_epochs,\n",
        "    precision= 16 if args.fp_16 else 32,\n",
        "    amp_level=args.opt_level,\n",
        "    gradient_clip_val=args.max_grad_norm,\n",
        "    checkpoint_callback=checkpoint_callback,\n",
        "    callbacks=[LoggingCallback()],\n",
        ")"
      ],
      "execution_count": null,
      "outputs": []
    },
    {
      "cell_type": "markdown",
      "metadata": {
        "id": "RJt_VqzEAMUg"
      },
      "source": [
        "Define the `get_dataset` function to return the dataset. The model calls this function to get the train and val datasets. We are defining a dataset function so that we won't need to modify the model code at all. Redefine the function to return different dataset according to the problem. While this is not the best solution for now this works "
      ]
    },
    {
      "cell_type": "code",
      "metadata": {
        "id": "2h2aGPgp0vOf"
      },
      "source": [
        "def get_dataset(tokenizer, type_path, args):\n",
        "  return RestaurantDataset(tokenizer=tokenizer, data_dir=args.data_dir, type_path=type_path,  max_len=args.max_seq_length)"
      ],
      "execution_count": null,
      "outputs": []
    },
    {
      "cell_type": "markdown",
      "metadata": {
        "id": "4IOQpawZA9XC"
      },
      "source": [
        "**Initialize model**"
      ]
    },
    {
      "cell_type": "code",
      "metadata": {
        "id": "kJsz3a4SilAF",
        "colab": {
          "base_uri": "https://localhost:8080/",
          "height": 116,
          "referenced_widgets": [
            "e70a38445d2f4c67af84985d30ca46f7",
            "b675ef1fe7f74b7c8412effb649acb57",
            "7e7dc167db764c21a0cb26e834455558",
            "b4a8a084046942d19fed12f997a12057",
            "51face5bd72b47e489d58dee544ee4b4",
            "19497e53eaed4db6914f6337cbe0d61f",
            "39f8f8d101ee4aaa89185b76f4c80a3b",
            "5d23976559854483a94aa9e4320dec7c",
            "6345f8d3bf12485a9f919cf561fb39d9",
            "b359a602564c4027b0ee2ee0d86c6158",
            "e22e1e7d44e24420a054b70fbad9efe5",
            "5484d4fcf86141cd816c9fe337c5a45c",
            "8260088bdfca4d6283940d4ae33e5ed0",
            "bad0d06bc61a4fd9b04b8efa74f6cbb3",
            "aa6ddcd5b2a54fdc8bc62587eab8e798",
            "c6dc0fc57db342cf82da3f7dc192e3ce"
          ]
        },
        "outputId": "ea6202a2-efcf-4b76-ca51-22cb632404d4"
      },
      "source": [
        "model = T5FineTuner(args)"
      ],
      "execution_count": null,
      "outputs": [
        {
          "output_type": "display_data",
          "data": {
            "application/vnd.jupyter.widget-view+json": {
              "model_id": "e70a38445d2f4c67af84985d30ca46f7",
              "version_minor": 0,
              "version_major": 2
            },
            "text/plain": [
              "HBox(children=(FloatProgress(value=0.0, description='Downloading', max=1199.0, style=ProgressStyle(description…"
            ]
          },
          "metadata": {
            "tags": []
          }
        },
        {
          "output_type": "stream",
          "text": [
            "\n"
          ],
          "name": "stdout"
        },
        {
          "output_type": "display_data",
          "data": {
            "application/vnd.jupyter.widget-view+json": {
              "model_id": "6345f8d3bf12485a9f919cf561fb39d9",
              "version_minor": 0,
              "version_major": 2
            },
            "text/plain": [
              "HBox(children=(FloatProgress(value=0.0, description='Downloading', max=891691430.0, style=ProgressStyle(descri…"
            ]
          },
          "metadata": {
            "tags": []
          }
        },
        {
          "output_type": "stream",
          "text": [
            "\n"
          ],
          "name": "stdout"
        }
      ]
    },
    {
      "cell_type": "markdown",
      "metadata": {
        "id": "RSJytKv1BFyc"
      },
      "source": [
        "**Initialize trainer**"
      ]
    },
    {
      "cell_type": "code",
      "metadata": {
        "colab": {
          "base_uri": "https://localhost:8080/"
        },
        "id": "PxO8OTA3irbw",
        "outputId": "4ff04472-d842-40f3-f333-a55ae0310e5d"
      },
      "source": [
        "trainer = pl.Trainer(**train_params)"
      ],
      "execution_count": null,
      "outputs": [
        {
          "output_type": "stream",
          "text": [
            "GPU available: True, used: True\n",
            "TPU available: False, using: 0 TPU cores\n"
          ],
          "name": "stderr"
        }
      ]
    },
    {
      "cell_type": "markdown",
      "metadata": {
        "id": "Wo7cSSvFGEhe"
      },
      "source": [
        "**start fine-tuning**"
      ]
    },
    {
      "cell_type": "code",
      "metadata": {
        "colab": {
          "base_uri": "https://localhost:8080/",
          "height": 418,
          "referenced_widgets": [
            "c81f346758984fd1b53958f0f2c4c011",
            "f90197b64488422dac3cdc0d154f533f",
            "5ed8f876f65e48a29e13fdb5fe1c96a0",
            "073d5bf78fa1414e973383d60b167ba1",
            "7cab40d385b744b094652621c01730d1",
            "3493a66d609843788c897b06057ce087",
            "d7cacfd9d45c440b8fb3c1705b155c7a",
            "553ed897d1004aa7af92acf5d1c326ce",
            "c7eb2637a6c14a11838da0b8a8f29ec5",
            "9a9b5aabe6c94a7ea3cad3f1073b69c5",
            "a899e6d8e1e64331ad9a654af10171c2",
            "3790989dac3f4ccb9e29e07c72bab79a",
            "e664764c239b4dcd956338b90bd1a5dc",
            "d106053fefeb4a609fcf27d581a19908",
            "9a753280d70348719b5a11fcba2696dc",
            "8014e1cef18a4cfd806bf25c99d5a229",
            "a557ca0c4f654b9f8fd241252bad37ff",
            "c56b0dfde688486c83206855cc46a829",
            "6fdf8b824bdf4d2c92a0b61c334d5345",
            "366707ab5ed74294a5aacdf4b3ef659d",
            "d822c3013415476399212e3d196f0be3",
            "06b69574383e462eba9cbffce8993d67",
            "a46d3d626d4a4c43bbf401d6640d38c4",
            "e8d3aaa940b74b93a52a14aa86d110d2",
            "d931d034ae534e8e984477e16494688c",
            "2234fe9e7aa14c17aef04b8562f3ee5a",
            "4ec65523def44735947f8177a21930fe",
            "c71bf4fe3674435f89617abf1dd0f780",
            "03d0f53c55e5488cbc8cea50d5fd3ee6",
            "f677b5c50403424fba74ea1ae8733fb1",
            "8ea072fe98a942ffa90d06679e87beb8",
            "eec2c3637a314e4aa0210d15cd7a7eb0"
          ]
        },
        "id": "hVGd6imfizLP",
        "outputId": "669fced8-3010-4b65-ef7c-71c3cd549d77"
      },
      "source": [
        "trainer.fit(model)"
      ],
      "execution_count": null,
      "outputs": [
        {
          "output_type": "stream",
          "text": [
            "LOCAL_RANK: 0 - CUDA_VISIBLE_DEVICES: [0]\n",
            "\n",
            "  | Name  | Type                       | Params\n",
            "-----------------------------------------------------\n",
            "0 | model | T5ForConditionalGeneration | 222 M \n",
            "-----------------------------------------------------\n",
            "222 M     Trainable params\n",
            "0         Non-trainable params\n",
            "222 M     Total params\n",
            "891.614   Total estimated model params size (MB)\n"
          ],
          "name": "stderr"
        },
        {
          "output_type": "display_data",
          "data": {
            "application/vnd.jupyter.widget-view+json": {
              "model_id": "c81f346758984fd1b53958f0f2c4c011",
              "version_minor": 0,
              "version_major": 2
            },
            "text/plain": [
              "HBox(children=(FloatProgress(value=1.0, bar_style='info', description='Validation sanity check', layout=Layout…"
            ]
          },
          "metadata": {
            "tags": []
          }
        },
        {
          "output_type": "stream",
          "text": [
            "Truncation was not explicitly activated but `max_length` is provided a specific value, please use `truncation=True` to explicitly truncate examples to max length. Defaulting to 'longest_first' truncation strategy. If you encode pairs of sequences (GLUE-style) with the tokenizer you can select this strategy more precisely by providing a specific strategy to `truncation`.\n",
            "/usr/local/lib/python3.7/dist-packages/transformers/tokenization_utils_base.py:2110: FutureWarning: The `pad_to_max_length` argument is deprecated and will be removed in a future version, use `padding=True` or `padding='longest'` to pad to the longest sequence in the batch, or use `padding='max_length'` to pad to a max length. In this case, you can give a specific length with `max_length` (e.g. `max_length=45`) or leave max_length to None to pad to the maximal input size of the model (e.g. 512 for Bert).\n",
            "  FutureWarning,\n",
            "/usr/local/lib/python3.7/dist-packages/transformers/models/t5/tokenization_t5.py:173: UserWarning: This sequence already has </s>. In future versions this behavior may lead to duplicated eos tokens being added.\n",
            "  f\"This sequence already has {self.eos_token}. In future versions this behavior may lead to duplicated eos tokens being added.\"\n",
            "/usr/local/lib/python3.7/dist-packages/torch/utils/data/dataloader.py:477: UserWarning: This DataLoader will create 4 worker processes in total. Our suggested max number of worker in current system is 2, which is smaller than what this DataLoader is going to create. Please be aware that excessive worker creation might get DataLoader running slow or even freeze, lower the worker number to avoid potential slowness/freeze if necessary.\n",
            "  cpuset_checked))\n"
          ],
          "name": "stderr"
        },
        {
          "output_type": "stream",
          "text": [
            "\r"
          ],
          "name": "stdout"
        },
        {
          "output_type": "display_data",
          "data": {
            "application/vnd.jupyter.widget-view+json": {
              "model_id": "c7eb2637a6c14a11838da0b8a8f29ec5",
              "version_minor": 0,
              "version_major": 2
            },
            "text/plain": [
              "HBox(children=(FloatProgress(value=1.0, bar_style='info', description='Training', layout=Layout(flex='2'), max…"
            ]
          },
          "metadata": {
            "tags": []
          }
        },
        {
          "output_type": "display_data",
          "data": {
            "application/vnd.jupyter.widget-view+json": {
              "model_id": "a557ca0c4f654b9f8fd241252bad37ff",
              "version_minor": 0,
              "version_major": 2
            },
            "text/plain": [
              "HBox(children=(FloatProgress(value=1.0, bar_style='info', description='Validating', layout=Layout(flex='2'), m…"
            ]
          },
          "metadata": {
            "tags": []
          }
        },
        {
          "output_type": "display_data",
          "data": {
            "application/vnd.jupyter.widget-view+json": {
              "model_id": "d931d034ae534e8e984477e16494688c",
              "version_minor": 0,
              "version_major": 2
            },
            "text/plain": [
              "HBox(children=(FloatProgress(value=1.0, bar_style='info', description='Validating', layout=Layout(flex='2'), m…"
            ]
          },
          "metadata": {
            "tags": []
          }
        },
        {
          "output_type": "stream",
          "text": [
            "\n"
          ],
          "name": "stdout"
        }
      ]
    },
    {
      "cell_type": "code",
      "metadata": {
        "id": "l-obOz6v70iB"
      },
      "source": [
        "!mkdir t5_base_yelp_sentiment"
      ],
      "execution_count": null,
      "outputs": []
    },
    {
      "cell_type": "code",
      "metadata": {
        "id": "OQBJcrrWi2vC"
      },
      "source": [
        "## save the model this way so next time you can load it using T5ForConditionalGeneration.from_pretrained\n",
        "model.model.save_pretrained('t5_base_yelp_sentiment')"
      ],
      "execution_count": null,
      "outputs": []
    },
    {
      "cell_type": "code",
      "metadata": {
        "id": "XhjELPOk7-cz"
      },
      "source": [
        "!cp -r t5_base_yelp_sentiment drive/MyDrive/"
      ],
      "execution_count": null,
      "outputs": []
    },
    {
      "cell_type": "markdown",
      "metadata": {
        "id": "brPOSAkjNP5t"
      },
      "source": [
        "### Eval"
      ]
    },
    {
      "cell_type": "markdown",
      "metadata": {
        "id": "_7SuVh05lDrJ"
      },
      "source": [
        "For inference we will use the `generate` method with greedy decoding with max length 2."
      ]
    },
    {
      "cell_type": "code",
      "metadata": {
        "id": "25jbT49CVoXN"
      },
      "source": [
        "import textwrap\n",
        "from tqdm.auto import tqdm\n",
        "from sklearn import metrics"
      ],
      "execution_count": null,
      "outputs": []
    },
    {
      "cell_type": "markdown",
      "metadata": {
        "id": "cyriGR20lSRa"
      },
      "source": [
        "Let's visualize few predictions on test dataset"
      ]
    },
    {
      "cell_type": "code",
      "metadata": {
        "id": "wwJ998sMz2Ci"
      },
      "source": [
        "dataset = RestaurantDataset(tokenizer, 'data', 'test',  max_len=512)\n",
        "loader = DataLoader(dataset, batch_size=32, shuffle=True)"
      ],
      "execution_count": null,
      "outputs": []
    },
    {
      "cell_type": "code",
      "metadata": {
        "id": "2LQtN5b90TyW"
      },
      "source": [
        "it = iter(loader)"
      ],
      "execution_count": null,
      "outputs": []
    },
    {
      "cell_type": "code",
      "metadata": {
        "colab": {
          "base_uri": "https://localhost:8080/",
          "height": 34
        },
        "id": "TRD03teH0YMe",
        "outputId": "d43041e6-5d7d-49d5-e91a-7530c5d1d6b1"
      },
      "source": [
        "batch = next(it)\n",
        "batch[\"source_ids\"].shape"
      ],
      "execution_count": null,
      "outputs": [
        {
          "output_type": "execute_result",
          "data": {
            "text/plain": [
              "torch.Size([32, 512])"
            ]
          },
          "metadata": {
            "tags": []
          },
          "execution_count": 36
        }
      ]
    },
    {
      "cell_type": "code",
      "metadata": {
        "id": "eewDktozk7GN"
      },
      "source": [
        "outs = model.model.generate(input_ids=batch['source_ids'].cuda(), \n",
        "                              attention_mask=batch['source_mask'].cuda(), \n",
        "                              max_length=2)\n",
        "\n",
        "dec = [tokenizer.decode(ids) for ids in outs]\n",
        "\n",
        "texts = [tokenizer.decode(ids) for ids in batch['source_ids']]\n",
        "targets = [tokenizer.decode(ids) for ids in batch['target_ids']]"
      ],
      "execution_count": null,
      "outputs": []
    },
    {
      "cell_type": "code",
      "metadata": {
        "colab": {
          "base_uri": "https://localhost:8080/",
          "height": 1000
        },
        "id": "9vBe0UNw7cHY",
        "outputId": "2f0171ac-8d7d-41db-db31-d57bf72bc205"
      },
      "source": [
        "for i in range(32):\n",
        "    lines = textwrap.wrap(\"Review:\\n%s\\n\" % texts[i], width=100)\n",
        "    print(\"\\n\".join(lines))\n",
        "    print(\"\\nActual sentiment: %s\" % targets[i])\n",
        "    print(\"Predicted sentiment: %s\" % dec[i])\n",
        "    print(\"=====================================================================\\n\")"
      ],
      "execution_count": null,
      "outputs": [
        {
          "output_type": "stream",
          "text": [
            "Review: I dont know where to begin Perhaps the whole idea of this movie was just a disaster waiting\n",
            "to happen There is nothing slightly humorous about a kidnapping I dont know what was more\n",
            "offensivethe subject matter or David Arquettes performance It was like watching a bull get its penis\n",
            "cut off although I think the bull felt better afterwards The filmmakers should find something about\n",
            "Sinatra other than his sons kidnapping to show like I dont know his TALENT AS A SINGER His family\n",
            "shouldnt have to relive that horror Thank GOD it was just shown on HBO and not released in theaters\n",
            "Please dont watch this if you have any self respect\n",
            "\n",
            "Actual sentiment: negative\n",
            "Predicted sentiment: negative\n",
            "=====================================================================\n",
            "\n",
            "Review: A fine performance by Vittorio Mezzogiorno and a masterful one by JeanHugues Anglade adorn\n",
            "this stange tale of lust desire and alienation in France The work of the two lead performers is\n",
            "strikingsubtle intense and passionate Alas the script is deliberately turgid and sordid and the\n",
            "overall effect leaves one with a downcast spirit Still those who can appreciate fine quality acting\n",
            "will be able to savor the courageous work of the leads in this often difficult film journey of\n",
            "Gallic low life\n",
            "\n",
            "Actual sentiment: positive\n",
            "Predicted sentiment: negative\n",
            "=====================================================================\n",
            "\n",
            "Review: I almost stopped watching Hindi movies because of the mediocre quality and story lines One\n",
            "exception for this is Ramgopal Verma movies This is a nice movie with great performances from the\n",
            "star cast This is must see movie for those who are sick of watching stupid dancing and love stories\n",
            "The adaptation of the story and characterization was exceptional goodYou should watch this movie for\n",
            "Nana Patekar based on the life of Mumbai cop Daya Naik this movie deals in a more realistic way The\n",
            "film delves into the life of the common man which he has apart from being an encounter specialist I\n",
            "rate this as one of the best movie of the year\n",
            "\n",
            "Actual sentiment: positive\n",
            "Predicted sentiment: positive\n",
            "=====================================================================\n",
            "\n",
            "Review: This was a really interesting Halloween film I wasnt to thrilled with the whole Thorn theory\n",
            "but it still makes for a good film I liked getting to see Tommy Doyle back but sadly Donald\n",
            "Pleasance died right after shooting The film had a really REALLY bad director who didnt give a flip\n",
            "about the series from what I heard treated Donald bad and wouldnt let Danielle Harris come back as\n",
            "Jamie Its like he was just trying to bring down the film but I still liked it There were alot of\n",
            "cuts and music changes and if youre lucky you can get the Producers Cut which features over 40 min\n",
            "of never before scenes With those scenes it turns into a whole new movie Check it out if you have\n",
            "the chance\n",
            "\n",
            "Actual sentiment: positive\n",
            "Predicted sentiment: positive\n",
            "=====================================================================\n",
            "\n",
            "Review: Cheerleader Massacre was supposed to be the fourth installment of the Slumber Party Massacre\n",
            "series if thats what they were doing which it is considering ONE actress from the original returns\n",
            "in a small cameo role they have failed miserably and made by far the worst installment of the\n",
            "quadrilogy Cheerleader Massacre seamlessly combines bad acting a horrible plot a dumb killer dull\n",
            "and boring deaths boring scenery and hideous camera work to make it one of the worst films ever made\n",
            "Did I already mention how bad it was Dont get me wrong this cheesy and retarded excuse for a horror\n",
            "film is nowhere near as bad as Napoleon Dynamite but it is undeniably a horrible movieCheerleader\n",
            "Massacre is an exact polar opposite of the original Slumber Party Massacre Stay away by all means\n",
            "This movie is utter garbage\n",
            "\n",
            "Actual sentiment: negative\n",
            "Predicted sentiment: negative\n",
            "=====================================================================\n",
            "\n",
            "Review: This movie will give me nightmares I will wake up drenched in sweat screaming I didnt make\n",
            "this film please dont blame me I honestly think it would have been more entertaining to watch a fat\n",
            "guy eating lard in his moms basement for a hour or two than to watch this crap I understand money\n",
            "was tight but goddamn what the hell were they thinking there was no thought plot or effort put into\n",
            "this This movie needs a warning Please for the love of god dont fund the drama department a the\n",
            "local JC On an other note these are the least likable characters I have ever seen and I have seen\n",
            "movies with Hitler in them So lastly take my advice the next time you even think about renting this\n",
            "just pop a few hundred Adivl and let the sleep come\n",
            "\n",
            "Actual sentiment: negative\n",
            "Predicted sentiment: negative\n",
            "=====================================================================\n",
            "\n",
            "Review: In this movie Virtual Sexuality the 17 year old Justine is not lucky in love One day when\n",
            "she is stood up she goes with her friend to a virual reality conference there she is introduced with\n",
            "a machine that can change your look dody and whatever you like in Virtual Reality She decides to try\n",
            "it out but begins to make a boyfriend of her own her dreamdate Then suddenly there is an explosion\n",
            "in a gas pipe and her creation comes to life Ill say no more youll have to watch the movie which is\n",
            "quite fun to watch\n",
            "\n",
            "Actual sentiment: positive\n",
            "Predicted sentiment: positive\n",
            "=====================================================================\n",
            "\n",
            "Review: Why does C Thomas Howell do these movies Cruise Howells one time costar does a huge\n",
            "blockbuster of WOTW and Howell follows with this lame effortWhere do I start here Production Values\n",
            "Ill start with the good stuff The look and feel of some of the scenes in this movie are not too bad\n",
            "to be honest The setups are okay in spots and the direction not too badScript Terrible A series of\n",
            "clunky scenes that could have been put in any order you like permeate throughout the movie The\n",
            "amount of times the scene faded to black and reemerged a second later in the same room was\n",
            "uncountable Very poor storyline but so was the Cruise WOTW takes some blame but an abysmal\n",
            "screenplay kills it offSpecial FX Okay I dont want to be too harsh here as I imagine the budget was\n",
            "smaller than Cruises lunch bill but in the overall context of the film the effects are badly done\n",
            "Some shots are quite impressive mainly far off destruction shots of bridges Washington liner But in\n",
            "the main the alien machines and tentacles themselves are dreadful Also the camera quality is fuzzy\n",
            "on some shots and cuts away entirely on othersActing Im a fan of Howell but as he has reduced\n",
            "himself to acting in these lowbudget flicks he has succumbed to the overacting bug a long time ago\n",
            "Look at his performance in The Hitcher and compare it to this movie There is no comparison He\n",
            "overdoes his facial expressions his flailing arms and legs where did he get that running style and\n",
            "for a final coupdegras look at the scene where he loses the photo of his family Hysterical But after\n",
            "saying all that he is still the best actor on show here Busey is embarrassing to look at and Peter\n",
            "Green Zed is truly dead now baby mumbles incoherently through his one and only scene I honestly\n",
            "could not understand one word he said I even went so far as trying to enable the subtitles on that\n",
            "scene but the DVD did not have subtitles This seems to be a real keepitinthefamily affair too as\n",
            "Howells son the directors wife and the line producer all make it into the film None of them are\n",
            "goodDirection not bad but not good eitherScore DismalOverall a lame duck effort that will don'thing\n",
            "for Howell in his\n",
            "\n",
            "Actual sentiment: negative\n",
            "Predicted sentiment: negative\n",
            "=====================================================================\n",
            "\n",
            "Review: Another Asian horror movie packed with intense and creepy moments Another Asian horror\n",
            "trademark is the complexity of the plot which is here as well MAJOR SPOILER WARNINGThe movie starts\n",
            "pretty simple two sisters go to live with their dad and stepmother after being put in a mental\n",
            "institution after their mother hanged herself The sisters seem very hostile towards their mother\n",
            "especially the elder one and they seem to ignore their father All goes smoothly until the mother\n",
            "locks the young sister in the wardrobe and the elder sister tells her father Then it hits you your\n",
            "sister has been dead for years now It turns out the older sister is still not recovered from the\n",
            "death of her mother and what we didnt know is that the wardrobe the mother was hanged in fell on the\n",
            "younger sister and killed her as wellAs for the stepmother she is the alter ego of the older sister\n",
            "revealed when the stepmother actually the sisters alter ego is sitting on a couch when the real\n",
            "stepmother walks in I hope it has been made clearer for confused Asian horror fans out thereFinally\n",
            "my favourite scene is the scene where the father invites friends over for dinner and one of the\n",
            "friends starts to choke which erupts into a panic attack Very creepy 7 out of 10\n",
            "\n",
            "Actual sentiment: positive\n",
            "Predicted sentiment: positive\n",
            "=====================================================================\n",
            "\n",
            "Review: As a native of New Orleans I can state that almost everything in this movie from the\n",
            "atrocious NAwlins dialect to the highly creative manipulation of Crescent City geography is horrible\n",
            "This is another one of those Big Hollywood movies that decides to stereotype New Orleans as 1 A city\n",
            "full of Frenchsounding idiots 2 A city full of people who sound as if theyve just returned from\n",
            "Blanche Dubois summer home 3 A city of drunkards where every day is Mardi Gras 4 A city of deep\n",
            "mystery where almost everyone practices or is a victim of voodoo I admit that maybe we are a city of\n",
            "drunkards although every day is NOT Mardi Gras The Big Easy is one of the worst films about New\n",
            "Orleans I wouldnt recommend it to anybody\n",
            "\n",
            "Actual sentiment: negative\n",
            "Predicted sentiment: negative\n",
            "=====================================================================\n",
            "\n",
            "Review: This selfimportant confusing b+w film watches like an infant on a very bad acid trip Youre\n",
            "dealing with something that reminds you of a piece of rotting lettuce that accidentally fell out of\n",
            "the back of a garbage truck no one cares to touch it because it will probably be washed away on its\n",
            "own down the storm drain Theres no room for plot when youve got visceral imagery and subtle allegory\n",
            "To me it seems like the director tries to make the next great art movie while begging for\n",
            "intellectual accolades I didnt bring my beret either Watching this I felt almost insulted since the\n",
            "film does such an effective job of distancing itself from you\n",
            "\n",
            "Actual sentiment: negative\n",
            "Predicted sentiment: negative\n",
            "=====================================================================\n",
            "\n",
            "Review: Mercy the movie actually starts out as a somewhat decent film and ellen barkin does give a\n",
            "strong performance But if you have read the book and actually got to know the characters and cared\n",
            "who done it the movie just does not compare It is always hard to brink a book onto film and\n",
            "unfortunatley this one ends up failing 3 out of 10\n",
            "\n",
            "Actual sentiment: negative\n",
            "Predicted sentiment: negative\n",
            "=====================================================================\n",
            "\n",
            "Review: What in the world This piece of gambling cinema would have been suitable for the Lifetime\n",
            "Network Michael Imperoli is a good actor but I think his portrayal as Stu fell short The montages\n",
            "were unbearable and too many The supporting cast where are you Whoever did the casting should be\n",
            "partially at fault The cinematography was useless A gambling story with an after school feel to it\n",
            "Stories of this sort should be left for the Oliver Stones of the world It would still suck ass but\n",
            "at least it would be fun to watch It was an attempt that lost its wheels before the race ever begun\n",
            "Mario Andretti in the 1982 Indy 500 came to mind\n",
            "\n",
            "Actual sentiment: negative\n",
            "Predicted sentiment: negative\n",
            "=====================================================================\n",
            "\n",
            "Review: This movie definitely made me laugh but that doesnt mean it was exactly funny Well then\n",
            "again me and my friends had a lot of fun watching itI doubt there is anything about this movie that\n",
            "hasnt been done at least twice before just like the plot itself All of the characters are overused\n",
            "movie cliché cardboardbox roles that dont even require acting skills accordingly such skills are not\n",
            "delivered We have the corrupt cop a ruthless killer who claims to care about his men and their\n",
            "families whilst caring nothing about people he shoots in the forehead at so close a range as to have\n",
            "blood spat on his face We have the wornout cop on the edge so nicely pointed at in the discussion\n",
            "boards of this movie we have the old onedayawayfromretirementcop who just about everyone must have\n",
            "immediately identified as the most likely man on the inside since he had most to gain and he didnt\n",
            "utter a trustworthy word throughout the movie About as seethrough as a glass house on a sunny day\n",
            "The big black gangster king was a copy of all previous big black gangster kings in movie history\n",
            "they couldve just called him Marcellus Wallace but just slightly tougher and more ruthless because\n",
            "something has to emphasize that we also know Laurence Fishburne from actually good movies Then we\n",
            "finally have the HIGHLY EDUCATED doctor who cant think of anything reasonable to do as soon as the\n",
            "situation differs from her ordinary life and who spends the majority of the movie sitting in a\n",
            "corner helplessly trying to figure out how to hold on to the weapon she was given NOT USING ITThe\n",
            "whole siege story is not interesting not original having been used twice before and this movie\n",
            "manages to add absolutely nothing interesting to it There is the initial probe then the laying of\n",
            "the siege then the assault then the escape attempts Meanwhile a bunch of strained stressed freaked\n",
            "out cops and thugs manage to hold off a Police assault team with hightech equipment and the quite\n",
            "important advantage of VISION Then again in deep night with the power cut and with a snow storm\n",
            "raging overhead there is definitely a lot of light coming in so who really cares about night\n",
            "visionBut the best part comes right at the end In the first scenes showing Precinct 13 we see it is\n",
            "situated in an outskirt of an industrial city factories and office buildings surround it on all\n",
            "sides From this point\n",
            "\n",
            "Actual sentiment: negative\n",
            "Predicted sentiment: negative\n",
            "=====================================================================\n",
            "\n",
            "Review: Some people say this show was good in its early years I disagree with all of em The show is\n",
            "just plain stupid and pathetic My mum hates it I hate it my dad hates it I dont know about my sister\n",
            "but oh well Here some reasons why1 THE CHARACTERS Babies being used as grown up style characters are\n",
            "stupid The babies are just precocious and annoying The grown ups and adults are dumb and unappealing\n",
            "The worst character is that Angelica Pickles she really does it in for your ear drums when you had a\n",
            "long hard and miserable day at the office and also that Kimi Finster who appears later on she is too\n",
            "over optimistic and a pain in the butt She cant decided whither she is French or Japanese it doesnt\n",
            "matter know you are a American Citizen know and thats that Oh what am I talking about all the\n",
            "characters from this show suck2 THE STORIES The stories are unoriginal and dumb The make it like the\n",
            "babies go off on a great adventure yeah to the back yard shed In one episode that little goofy brat\n",
            "Tommy Pickles the Leader broke in to a televisions control room and literally almost destroyed it\n",
            "Dont give kids any idea to smash up normal TV Stations control rooms they pay a awful lot of money\n",
            "for them in real life I can imagine what the broadcasters must of felt like airing this episode they\n",
            "will probably start staring at their machines throughout the day scared that a baby will brake in\n",
            "Sad3 OVER RATED The show has been dragging on for years now and people are still making up stories\n",
            "and new series and spinoffs for this Get off The Simpsons have been going for nearly the same amount\n",
            "of time as this but they are much better and funnier than babies The show is just plain over rated\n",
            "People where is your common senseAnyway I surprised TV Stations across the world want to air this\n",
            "series even off today The show is utter junk and should have never been produced The two movies for\n",
            "this cartoons sucked just the same 210\n",
            "\n",
            "Actual sentiment: negative\n",
            "Predicted sentiment: negative\n",
            "=====================================================================\n",
            "\n",
            "Review: What can I saynot much to this one at all Pretty dull and uninterestingThe actors\n",
            "performances are just OK The only one that shines in any way is Simmons but he only has maybe 3\n",
            "scenes I understand that by keeping his screen time to a minimum he retains the mysterious psychic\n",
            "aura he has but I cant help but feel his talent was wasted No one else rose above mediocreThe story\n",
            "itself seems like it may be intriguing at the beginning but then just doesnt go anywhere There wasnt\n",
            "a single scene in the movie that impressed me or made me feel like I had just seen something special\n",
            "The cinematography was fairly blandI mean desert in a washed out sort of sepianot very inspiringThe\n",
            "story of his childhood pal back outta prison seemed only partially thought out and didnt really add\n",
            "anything to the story other than making an average Twilight Zone script into a full length\n",
            "featureDrab\n",
            "\n",
            "Actual sentiment: negative\n",
            "Predicted sentiment: negative\n",
            "=====================================================================\n",
            "\n",
            "Review: I kept watching it because it seemed like the plot was going somewhere When it ambiguously\n",
            "got there I was very disappointed Im going to tell you what really happened in the next sentence But\n",
            "maybe I wont Maybe Ill just imply something will happen The writers lacked any imagination This is\n",
            "not even a B movie its a made for TV B movie\n",
            "\n",
            "Actual sentiment: negative\n",
            "Predicted sentiment: negative\n",
            "=====================================================================\n",
            "\n",
            "Review: Straight up I love this film I love everything about it It has a great soundtrack it has a\n",
            "lot of recognizable faces and it is funny as hell There are so many plots in this film and every one\n",
            "of them is funny in one way or anotherWhere as Spicolli lit up the screen two years back Drake is\n",
            "almost as memorable of a character All he wants to do is have fun He moves out of the house without\n",
            "his parents consent he skips work whenever he feels like it he is obsessed with sex he loves his\n",
            "drugs and booze and he tries to be a good friend It is his lacksidaisical attitude that makes him\n",
            "such a joy to watch And he comes out with some great lines And there are so many tiny observations\n",
            "that you dont see coming but they make you laugh at the sheer velocity when it hits you One\n",
            "particular moment is when Tommy and Bill are talking about Bills ex girlfriend dating someone else\n",
            "now At the end of the conversation Tommy takes his huge beer bottle and just throws it over his\n",
            "shoulder casually He then says good night and the scene ends It is a perfect scene Tommys world is\n",
            "his own He really lives to party and have fun When the conversation is over his time is over and he\n",
            "doesnt care who he offends in the process He has an innocence about him Its casual is his favourite\n",
            "sayingAnother such classic scene is Reggie handing Bill a donut He says something to him that me and\n",
            "my friends will never forget because we rewound the film ten times and watched that part over and\n",
            "over again and hurt ourselves laughing It has to be seen to be appreciatedWild Life is a throw back\n",
            "to when teen comedies were funny raunchy had a good ear entertained us and just wanted us to get\n",
            "lost in their world for 90 minutes Wild Life does all those things perfectly If this is a film that\n",
            "you havent seen give it a chance It is a classicAlso check out the army store guy that Jim has\n",
            "problems with He is a very familiar face now and it is his first role on the big screen\n",
            "\n",
            "Actual sentiment: positive\n",
            "Predicted sentiment: positive\n",
            "=====================================================================\n",
            "\n",
            "Review: This movie is a real shame not just for the plotthe empty performance of the characters it\n",
            "is for the lack of creativity from the director and all the crew this is maybe one of the worst\n",
            "movies of all timesand it is hard to believe that is the sequel of one of the most famous movies of\n",
            "the 90sI am a great fan of The Mask when I went to see this movie I was expecting to a movie with a\n",
            "good sense of humor a movie with a acceptable plot instead I saw a really bad copy of Chuck Jones\n",
            "and Tex Avery cartoons the movie was not funny even for my 7 years old sister so I wonderWhat was\n",
            "wrong New Line CinemaWas it trying to repeat the success of the first movie or was it trying to\n",
            "create another masterpiece like The Lord of the RingsBecause if they did they were completely out of\n",
            "their minds\n",
            "\n",
            "Actual sentiment: negative\n",
            "Predicted sentiment: negative\n",
            "=====================================================================\n",
            "\n",
            "Review: eXistenZ is simply David Cronenbergs best movie All the people compare it to the Matrix\n",
            "Theyre not even similar If you enjoyed Cronenbergs other works just a little bit youll love this one\n",
            "\n",
            "Actual sentiment: positive\n",
            "Predicted sentiment: positive\n",
            "=====================================================================\n",
            "\n",
            "Review: First time I ever felt I needed to write a reviewI have seen thousands of movies in my life\n",
            "and I like a wide range of movies I am reasonably opened minded and can easily say I enjoyed a movie\n",
            "while still saying yeah it was not good but I enjoyed it I can appreciate the mastery of great\n",
            "movies like The Shaw shank redemption the godfather and American history X I can like good movies in\n",
            "a genre like horror or comedy even if the movie might not be that great I can even enjoy a bad movie\n",
            "that just happens to entertain me Bloodsport I also will try to rate movie fairly even if I did not\n",
            "like it City lights by Charlie Chapin was not a movie I enjoyed but I can appreciate the acting and\n",
            "story lines for the timeI think some people when they go on this site instead of randomly click a\n",
            "rating should take a few ideas into account Try to rate the movie based on how good it actually was\n",
            "Do not let your personal bias affect the rating Also look at other moves you rated and compare the\n",
            "movie you are going to rateThis movie was the worst piece of trash I have ever seen 2 hours of my\n",
            "life where just stolen The acting was awful across the board The scenes where choppy at best However\n",
            "the real disgrace was the story The first 20 minutes we actually had a story that tried to make\n",
            "sense and take the viewer from point A to B However after that it was a nightmare They kept trying\n",
            "to add new elements but nothing was every explained Nothing really ever made sense was steward dead\n",
            "is he alive did he hit by lighting was it really lighting was it aliens is he an alien etc The\n",
            "ending tied nothing together and really did not answer any questions The only positive was nobody\n",
            "cared we where just happy to leave the theater6510 What is wrong with some of you I will admit that\n",
            "the 8 of us where so mad about seeing this we did think what would make it better and we decide to\n",
            "tell a few of our friends that this movie was good so they would have to suffer and see this movie\n",
            "What can I say misery loves company That is really the only reason I can see for a 65 ratingDo not\n",
            "waste your life\n",
            "\n",
            "Actual sentiment: negative\n",
            "Predicted sentiment: negative\n",
            "=====================================================================\n",
            "\n",
            "Review: My main criticism with the movie is the animation I totally agree with everyone else it was\n",
            "very poor Some of the characters seemed to have darker skin tones than they did in the first film\n",
            "which is much better Also the background colours looked rushed and somewhat static It is also a\n",
            "shame that Michael JFox didnt voice Milo he did such a good job and James Arnold Taylor wasnt sure\n",
            "whether he was supposed to sound like Milo or Aladdin I have also taken into consideration the lack\n",
            "of a good storyline the third story was confusing and clumsily told and the second story suffered\n",
            "from poor scripting To make things worse the first one I cant even remember other than a fishing\n",
            "village being haunted or something like that However there was some nice music and good voice\n",
            "talents from John Mahoney Cree Summer Clancy Brown and Tom Wilson that saved the film from total\n",
            "disaster All in all a disappointing sequel to a surprisingly good film 410 Bethany Cox\n",
            "\n",
            "Actual sentiment: negative\n",
            "Predicted sentiment: negative\n",
            "=====================================================================\n",
            "\n",
            "Review: Giant Robot was the most popular Japanese TV serial ever seen on Indian TV It was targeted\n",
            "to children and we saw a robot for the first time in our life Many Indian children must have even\n",
            "seen a machine for the first time outside the school textbooks The serial also showed a child in an\n",
            "adults organization fighting evil No doubt many of us who have seen Giant Robot in our childhood\n",
            "long for our own robots and as a stopgap arrangement look upon our computers in the same way This\n",
            "show also portrayed ideal adults referring at Jerry Johnnys buddy friend and Unicorn chief Azuma We\n",
            "grew to respect Japanese progress and still view Japan as the ideal Asian nationBTW at that time\n",
            "there were no satellite TV channels in India and the govt owned broadcaster did not show much of\n",
            "Disney cartoons I guess that was how child serials like giant Robot got appreciated Nowadays there\n",
            "is Pokemon etc but they are no so fascinating or alluring as Giant robot\n",
            "\n",
            "Actual sentiment: positive\n",
            "Predicted sentiment: positive\n",
            "=====================================================================\n",
            "\n",
            "Review: This might sound weird but I only got to see the first movie The Emperors New Groove\n",
            "yaddayadda a week ago and only because of one episode of the TV show I simply adore Kuzcos character\n",
            "but Kronk isnt that bad either Anyway eventually I decided to watch the second film just so I\n",
            "wouldve seen it Hoped it would be as good as the first one but Im sorry to tell this but the more\n",
            "the humour got American the more I yawned I agreed with Kuzco when he started crying seeing all the\n",
            "cheesy footageStill younger kids and probably veterans too will love this movie to bits if they like\n",
            "the old school moralising Disney that is but I just had expectations that were an eensy teensy\n",
            "little bit hell of a lot higher than they shouldve been Kronk is a lovely character being good\n",
            "hearted and dumb all at once but it were Pacha and Kuzco in drag that woke me up at the end of the\n",
            "movie Ill ignore Rudy for as far thats possibleAnyway great movie just not my style and as they say\n",
            "you always have to be true to your groove\n",
            "\n",
            "Actual sentiment: negative\n",
            "Predicted sentiment: positive\n",
            "=====================================================================\n",
            "\n",
            "Review: The problem I have as a Finn is that most of the actors in this movie are in every Finnish\n",
            "movie I have a feeling that Finland has only like five actors I think that if youre not from Finland\n",
            "you really like this movie as a refreshing noveltyThis movie is about a dreadful chain of events\n",
            "that affects a few people quite harshly Alcoholism cold climate and darkness may all be clichés but\n",
            "theyre still very real in todays Finnish society A lot of people in Finland have depression\n",
            "especially during winterThe tone of the movie is very melancholic I enjoyed it and Louhimes\n",
            "directing was again very solid I liked this movie a lot only negative thing is that you see the same\n",
            "faces that youve seen over and over again\n",
            "\n",
            "Actual sentiment: positive\n",
            "Predicted sentiment: positive\n",
            "=====================================================================\n",
            "\n",
            "Review: Most of the criticism of Attack of Show is from people who are unfairly comparing it to an\n",
            "old computer TV program called The Screen Savers People are upset because G4 decided to cancel the\n",
            "Screen Savers and replace it with the pop culture based Attack of the Show To compare the two shows\n",
            "is like comparing apples to orangesAttack of the Show is a unique hour long program that covers\n",
            "current Generation XY culture It features segments on moviestelevision panel discussions video games\n",
            "new DVD releases sex advice new gadgets MP3 players cell phones etc comic booksgraphic novels\n",
            "magazines and internet fads Its a fun show definitely worth checking out you are in your 20s or 30s\n",
            "I give it an 8 out of 10\n",
            "\n",
            "Actual sentiment: positive\n",
            "Predicted sentiment: positive\n",
            "=====================================================================\n",
            "\n",
            "Review: This is the best comedy period It is so underrated Clever witty humor Great casting Jerry\n",
            "Stiller is the jewel in the show he is so incredibly funny and quirky simply a comical genius Doug\n",
            "and Carrie have great chemistry I so don't see what the hype is about when it comes to Everybody\n",
            "loves Raymond it is SO overrated with lame jokes mostly forced humor and just not the witty show I\n",
            "cant remember laughing in more than 1 episode King of Queens is a rare comedy that has all the right\n",
            "ingredients to give you serious belly laughs which is normally caused by Arthur Spooner I think its\n",
            "about time this comedy gets the hype it deserves and not the lame Raymond & CO\n",
            "\n",
            "Actual sentiment: positive\n",
            "Predicted sentiment: positive\n",
            "=====================================================================\n",
            "\n",
            "Review: Running Out of Time rests somewhere in the middle of Johnny Tos cannon in the solid good\n",
            "category As a crime thriller its not terribly original or overwhelming and the action scenes will\n",
            "not blow you away but it has something else going for it Its a Johnny To film after all it has\n",
            "toAndy Lau has 72 hours to live He decides to play a strange catandmouse game with a hostage\n",
            "negotiator of the HK police played by Lau Ching Wan Thats the plot in a nutshell On top of that To\n",
            "piles layers of twists and turns that keep proceedings interesting throughout It occasionally\n",
            "becomes too convoluted for its own sake but never lets it get the best of it However just as Johnny\n",
            "To is about to hand over a slick and wellmade crime flick which lets face it are dimeadozen he slips\n",
            "in bits and pieces that bring Running Out of Time alive as a full emotional experience providing the\n",
            "soul and heart to the welloiled skeletonThe concepts of synchronism and minimalism staples in his\n",
            "work are explored in great effect here Always subtle letting the images speak for themselves giving\n",
            "them time to develop with long takes and slow tracking shots exemplary cutting to the score its all\n",
            "here A small love story in a bus between Andy Lau and a girl is among the highlights of the film and\n",
            "part of the heart Im talking about So simple yet so powerful Ditto for Laus and Lau Ching Wans car\n",
            "scenes and the bowlingroom showdownHowever something stops me from claiming Running Out of Time is a\n",
            "masterpiece To has all the ability and craftmanship down to a notch but he can also be too\n",
            "workmanlike or bland at times When hes good hes REAL good There are even isolated moment of pure\n",
            "brilliance that are just TOO good for their own sake leaving a bittersweet aftertaste for the rest\n",
            "of the movie Im convinced that if he puts his heart to it he can make a really great film As it is\n",
            "this is another one of his films that is flawed but enjoyable Underneath the slick HK style its the\n",
            "black humour and heartfelt drama that makes this a compelling film Worth watching definitely\n",
            "\n",
            "Actual sentiment: positive\n",
            "Predicted sentiment: positive\n",
            "=====================================================================\n",
            "\n",
            "Review: Will there be please coming an end to hyping movies that are dealing about social conflicts\n",
            "or other human disasters Okay Care is about childabuse Care is about perverts misusing boys in a\n",
            "school and how disgusting it might be if its a movie with a poor script and made with bad playing\n",
            "actors then it stays a bad movie Care is a movie that could have been but is it because it was a\n",
            "tvmovie I dont know but everything seemed so limited that it comes over as some cheap movie that\n",
            "will be seen by some housewifes and fathers who decide not to go to bed There are so many unanswered\n",
            "things in this moviethe relation with his mother for instance or the death of some abused boy from\n",
            "which we know nothing more Care should have been much much better\n",
            "\n",
            "Actual sentiment: negative\n",
            "Predicted sentiment: negative\n",
            "=====================================================================\n",
            "\n",
            "Review: This movie appears to have been overlooked by everyone Someone should bring it out on VHS\n",
            "and DVD It is an excellent film and far superior to the one with Brooke Shields which was terrible\n",
            "Jean Simmons deserves more credit than she is getting now days It would be nice if all her films\n",
            "were offered on VHS or DVD Jean Simmons was and still is a very good actress She certainly was a\n",
            "beauty In fact she is still a beauty She also has done extremely well on TV She is so much better\n",
            "than many of the actors today\n",
            "\n",
            "Actual sentiment: positive\n",
            "Predicted sentiment: positive\n",
            "=====================================================================\n",
            "\n",
            "Review: When I heard there was to be an ABC Australian Broadcasting Corporation miniseries based on\n",
            "life in Changi WWII POW camp with a focus on elements of comedy I was deeply sceptical and somewhat\n",
            "criticalMy father had served in the second world war Such was the barbarity of the Japanese he was\n",
            "able to talk about the horrors in and around Labuan where he was stationed until only quite recently\n",
            "Along with my father I had been awarded the fortune of knowing many great men of stronger character\n",
            "and spirit than I shall ever have who had witnessed acts of unspeakable barbarity at the hands of\n",
            "the Empire of Japan and had never completely recovered The name Changi is destined to conjure\n",
            "horrific images for ages to comeBut upon viewing I was highly impressed with the cast the characters\n",
            "and the complex plotlines of this wonderful series I now regard Changi as the highlight of my week\n",
            "bear in mind I have viewed only three episodes so far I hope the remaining episodes adhere to the\n",
            "standards set by the first threeThe black humour works uncannily well however the flatulence jokes\n",
            "are a little overdone and while much of the horror has been suppressed the series comes quite close\n",
            "in relaying the undaunted spirit of the survivors who were able to later continue with their lives\n",
            "in spite of the inhibiting memoriesThe flashback format of this series will be difficult for some to\n",
            "followbut I can not think of no better way to do adequate justice to the men who suffered deep\n",
            "emotional scarring proceeding internment when painfully suppressed experiences are remembered\n",
            "sometimes years after the horrorOne of the darkest chapters of the Second World War the 20th century\n",
            "and I would go so far as to say in the history of mankind is being relayed to a new generation\n",
            "through this series and I hope it serves to relay the overwhelming adversity borne by the wartime\n",
            "generationProceeding Changi I dont think I shall ever be able to listen to the poignant tune on the\n",
            "road to Gundagai in the same way again Tune in\n",
            "\n",
            "Actual sentiment: positive\n",
            "Predicted sentiment: positive\n",
            "=====================================================================\n",
            "\n",
            "Review: I was pretty enthusiastic about seeing this movie when it came out Commercials for it made\n",
            "it look quirky and I generally like Morgan Freeman and Chris Rock and the combination of the two\n",
            "seemed like an interesting idea Sadly I was terribly disappointed with Nurse BettyPersonally Ive\n",
            "usually found that graphic violence and comedy dont go all that well together and the only directors\n",
            "that have ever combined the two successfully in my opinion are Tarantino and the Coens There isnt\n",
            "that much violence in Nurse Betty but what violence is in it made me feel kind of weird when I was\n",
            "supposed to laugh Of course for me part of the problem was also that there didnt seem to be many\n",
            "places where I was being asked toThe film doesnt much work as a drama either Renee Zellwegers Betty\n",
            "the storys protagonist is clinically insane and impossible to relate to in any real way I will say\n",
            "Zellweger acts the role quite well and Freeman Rock and Greg Kinnear all do good jobs too The\n",
            "problem is in the writing Freeman is the only person that gets to play an interesting character Its\n",
            "really too bad 310\n",
            "\n",
            "Actual sentiment: negative\n",
            "Predicted sentiment: negative\n",
            "=====================================================================\n",
            "\n"
          ],
          "name": "stdout"
        }
      ]
    },
    {
      "cell_type": "markdown",
      "metadata": {
        "id": "lATfuiHYHq_1"
      },
      "source": [
        "Now predict on all the test dataset"
      ]
    },
    {
      "cell_type": "code",
      "metadata": {
        "colab": {
          "base_uri": "https://localhost:8080/",
          "height": 66,
          "referenced_widgets": [
            "6aaf51cb9ad44c94b6a174a8768904f7",
            "029f74818c6842d7a28af62032418880",
            "8db144e9144141779a1088c4bc000a99",
            "51d23e1199274477a69557c74609afb2",
            "df9bc2dc2b3c4fee98affdd7f5ca1ef6",
            "210517aede4f4cfab9120fdeb3d8361a",
            "942d20b134964d1d895af69938918464",
            "b684a47485af4cb1934d57cbb03a4f57"
          ]
        },
        "id": "lvWQGLXhzHtn",
        "outputId": "c0f5490b-2ade-4795-fa3d-1f0f1746e23c"
      },
      "source": [
        "loader = DataLoader(dataset, batch_size=32, num_workers=4)\n",
        "model.model.eval()\n",
        "outputs = []\n",
        "targets = []\n",
        "for batch in tqdm(loader):\n",
        "  outs = model.model.generate(input_ids=batch['source_ids'].cuda(), \n",
        "                              attention_mask=batch['source_mask'].cuda(), \n",
        "                              max_length=2)\n",
        "\n",
        "  dec = [tokenizer.decode(ids) for ids in outs]\n",
        "  target = [tokenizer.decode(ids) for ids in batch[\"target_ids\"]]\n",
        "  \n",
        "  outputs.extend(dec)\n",
        "  targets.extend(target)"
      ],
      "execution_count": null,
      "outputs": [
        {
          "output_type": "display_data",
          "data": {
            "application/vnd.jupyter.widget-view+json": {
              "model_id": "6aaf51cb9ad44c94b6a174a8768904f7",
              "version_major": 2,
              "version_minor": 0
            },
            "text/plain": [
              "HBox(children=(FloatProgress(value=0.0, max=782.0), HTML(value='')))"
            ]
          },
          "metadata": {
            "tags": []
          }
        },
        {
          "output_type": "stream",
          "text": [
            "\n"
          ],
          "name": "stdout"
        }
      ]
    },
    {
      "cell_type": "markdown",
      "metadata": {
        "id": "ZBxEcXeWGafd"
      },
      "source": [
        "Let's check if the model generates any invalid text"
      ]
    },
    {
      "cell_type": "code",
      "metadata": {
        "id": "Y_qylwYGXgwY"
      },
      "source": [
        "for i, out in enumerate(outputs):\n",
        "  if out not in ['positive', 'negative']:\n",
        "    print(i, 'detected invalid prediction')"
      ],
      "execution_count": null,
      "outputs": []
    },
    {
      "cell_type": "markdown",
      "metadata": {
        "id": "MpU_VkFGIgnw"
      },
      "source": [
        "This great is great! Our model hasn't generated any invalid prediction. Let's calculate accuarcy and other metrics"
      ]
    },
    {
      "cell_type": "code",
      "metadata": {
        "colab": {
          "base_uri": "https://localhost:8080/",
          "height": 34
        },
        "id": "EdJcQODoOChP",
        "outputId": "22fc6852-5443-43e4-d87e-5a5266ddffd9"
      },
      "source": [
        "metrics.accuracy_score(targets, outputs)"
      ],
      "execution_count": null,
      "outputs": [
        {
          "output_type": "execute_result",
          "data": {
            "text/plain": [
              "0.94712"
            ]
          },
          "metadata": {
            "tags": []
          },
          "execution_count": 41
        }
      ]
    },
    {
      "cell_type": "code",
      "metadata": {
        "colab": {
          "base_uri": "https://localhost:8080/",
          "height": 168
        },
        "id": "YepnSgI5OKti",
        "outputId": "a2914edf-d572-4166-a886-6c0d731835e5"
      },
      "source": [
        "print(metrics.classification_report(targets, outputs))"
      ],
      "execution_count": null,
      "outputs": [
        {
          "output_type": "stream",
          "text": [
            "              precision    recall  f1-score   support\n",
            "\n",
            "    negative       0.95      0.95      0.95     12500\n",
            "    positive       0.95      0.95      0.95     12500\n",
            "\n",
            "    accuracy                           0.95     25000\n",
            "   macro avg       0.95      0.95      0.95     25000\n",
            "weighted avg       0.95      0.95      0.95     25000\n",
            "\n"
          ],
          "name": "stdout"
        }
      ]
    },
    {
      "cell_type": "code",
      "metadata": {
        "id": "UcZqrJELrRVw"
      },
      "source": [
        ""
      ],
      "execution_count": null,
      "outputs": []
    }
  ]
}