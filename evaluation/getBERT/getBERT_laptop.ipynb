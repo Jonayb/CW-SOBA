{
 "cells": [
  {
   "cell_type": "markdown",
   "metadata": {
    "colab_type": "text",
    "id": "view-in-github"
   },
   "source": [
    "<a href=\"https://colab.research.google.com/github/stefanvanberkum/CD-ABSC/blob/main/getBERT_laptop.ipynb\" target=\"_parent\"><img src=\"https://colab.research.google.com/assets/colab-badge.svg\" alt=\"Open In Colab\"/></a>"
   ]
  },
  {
   "cell_type": "code",
   "execution_count": 13,
   "metadata": {
    "id": "jETwsjY7ItU1"
   },
   "outputs": [
    {
     "data": {
      "text/plain": [
       "\"\\nFor use on local runtime.\\n\\nHow to run:\\n- Download the appropriate BERT model from: \\n  https://github.com/google-research/bert (here BERT-Base).\\n\\n- Create a virtual environment (e.g. using anaconda).\\n\\n- Install tensorflow in your virtual environment (pip install tensorflow==1.15).\\n\\n- Start a local runtime in your virtual environment using\\n  https://research.google.com/colaboratory/local-runtimes.html\\n\\n- Make sure the BERT model is in your system path (here named\\n  'uncased_L-12_H-768_A-12').\\n\\n- Make sure all data is available and update the paths at the end of this code.\\n\\nAdapted from Trusca, Wassenberg, Frasincar and Dekker (2020) for use on a local\\nruntime\\n\\nTruşcǎ M.M., Wassenberg D., Frasincar F., Dekker R. (2020) A Hybrid Approach for \\nAspect-Based Sentiment Analysis Using Deep Contextual Word Embeddings and \\nHierarchical Attention. In: Bielikova M., Mikkonen T., Pautasso C. (eds) Web \\nEngineering. ICWE 2020. Lecture Notes in Computer Science, vol 12128. Springer, \\nCham. https://doi.org/10.1007/978-3-030-50578-3_25\\n\\nhttps://github.com/mtrusca/HAABSA_PLUS_PLUS\\n\""
      ]
     },
     "execution_count": 13,
     "metadata": {},
     "output_type": "execute_result"
    }
   ],
   "source": [
    "'''\n",
    "For use on local runtime.\n",
    "\n",
    "How to run:\n",
    "- Download the appropriate BERT model from: \n",
    "  https://github.com/google-research/bert (here BERT-Base).\n",
    "\n",
    "- Create a virtual environment (e.g. using anaconda).\n",
    "\n",
    "- Install tensorflow in your virtual environment (pip install tensorflow==1.15).\n",
    "\n",
    "- Start a local runtime in your virtual environment using\n",
    "  https://research.google.com/colaboratory/local-runtimes.html\n",
    "\n",
    "- Make sure the BERT model is in your system path (here named\n",
    "  'uncased_L-12_H-768_A-12').\n",
    "\n",
    "- Make sure all data is available and update the paths at the end of this code.\n",
    "\n",
    "Adapted from Trusca, Wassenberg, Frasincar and Dekker (2020) for use on a local\n",
    "runtime\n",
    "\n",
    "Truşcǎ M.M., Wassenberg D., Frasincar F., Dekker R. (2020) A Hybrid Approach for \n",
    "Aspect-Based Sentiment Analysis Using Deep Contextual Word Embeddings and \n",
    "Hierarchical Attention. In: Bielikova M., Mikkonen T., Pautasso C. (eds) Web \n",
    "Engineering. ICWE 2020. Lecture Notes in Computer Science, vol 12128. Springer, \n",
    "Cham. https://doi.org/10.1007/978-3-030-50578-3_25\n",
    "\n",
    "https://github.com/mtrusca/HAABSA_PLUS_PLUS\n",
    "'''"
   ]
  },
  {
   "cell_type": "code",
   "execution_count": 14,
   "metadata": {
    "id": "IzNbvlqAI2ZH"
   },
   "outputs": [
    {
     "ename": "ImportError",
     "evalue": "Could not find 'cudart64_90.dll'. TensorFlow requires that this DLL be installed in a directory that is named in your %PATH% environment variable. Download and install CUDA 9.0 from this URL: https://developer.nvidia.com/cuda-toolkit",
     "output_type": "error",
     "traceback": [
      "\u001b[1;31m---------------------------------------------------------------------------\u001b[0m",
      "\u001b[1;31mOSError\u001b[0m                                   Traceback (most recent call last)",
      "\u001b[1;32mc:\\users\\jonat\\anaconda3\\envs\\thesis\\lib\\site-packages\\tensorflow\\python\\platform\\self_check.py\u001b[0m in \u001b[0;36mpreload_check\u001b[1;34m()\u001b[0m\n\u001b[0;32m     74\u001b[0m         \u001b[1;32mtry\u001b[0m\u001b[1;33m:\u001b[0m\u001b[1;33m\u001b[0m\u001b[1;33m\u001b[0m\u001b[0m\n\u001b[1;32m---> 75\u001b[1;33m           \u001b[0mctypes\u001b[0m\u001b[1;33m.\u001b[0m\u001b[0mWinDLL\u001b[0m\u001b[1;33m(\u001b[0m\u001b[0mbuild_info\u001b[0m\u001b[1;33m.\u001b[0m\u001b[0mcudart_dll_name\u001b[0m\u001b[1;33m)\u001b[0m\u001b[1;33m\u001b[0m\u001b[1;33m\u001b[0m\u001b[0m\n\u001b[0m\u001b[0;32m     76\u001b[0m         \u001b[1;32mexcept\u001b[0m \u001b[0mOSError\u001b[0m\u001b[1;33m:\u001b[0m\u001b[1;33m\u001b[0m\u001b[1;33m\u001b[0m\u001b[0m\n",
      "\u001b[1;32mc:\\users\\jonat\\anaconda3\\envs\\thesis\\lib\\ctypes\\__init__.py\u001b[0m in \u001b[0;36m__init__\u001b[1;34m(self, name, mode, handle, use_errno, use_last_error)\u001b[0m\n\u001b[0;32m    347\u001b[0m         \u001b[1;32mif\u001b[0m \u001b[0mhandle\u001b[0m \u001b[1;32mis\u001b[0m \u001b[1;32mNone\u001b[0m\u001b[1;33m:\u001b[0m\u001b[1;33m\u001b[0m\u001b[1;33m\u001b[0m\u001b[0m\n\u001b[1;32m--> 348\u001b[1;33m             \u001b[0mself\u001b[0m\u001b[1;33m.\u001b[0m\u001b[0m_handle\u001b[0m \u001b[1;33m=\u001b[0m \u001b[0m_dlopen\u001b[0m\u001b[1;33m(\u001b[0m\u001b[0mself\u001b[0m\u001b[1;33m.\u001b[0m\u001b[0m_name\u001b[0m\u001b[1;33m,\u001b[0m \u001b[0mmode\u001b[0m\u001b[1;33m)\u001b[0m\u001b[1;33m\u001b[0m\u001b[1;33m\u001b[0m\u001b[0m\n\u001b[0m\u001b[0;32m    349\u001b[0m         \u001b[1;32melse\u001b[0m\u001b[1;33m:\u001b[0m\u001b[1;33m\u001b[0m\u001b[1;33m\u001b[0m\u001b[0m\n",
      "\u001b[1;31mOSError\u001b[0m: [WinError 126] The specified module could not be found",
      "\nDuring handling of the above exception, another exception occurred:\n",
      "\u001b[1;31mImportError\u001b[0m                               Traceback (most recent call last)",
      "\u001b[1;32m<ipython-input-14-58b8bc208d5f>\u001b[0m in \u001b[0;36m<module>\u001b[1;34m\u001b[0m\n\u001b[0;32m     14\u001b[0m \u001b[1;32mimport\u001b[0m \u001b[0mpprint\u001b[0m\u001b[1;33m\u001b[0m\u001b[1;33m\u001b[0m\u001b[0m\n\u001b[0;32m     15\u001b[0m \u001b[1;32mimport\u001b[0m \u001b[0mnumpy\u001b[0m \u001b[1;32mas\u001b[0m \u001b[0mnp\u001b[0m\u001b[1;33m\u001b[0m\u001b[1;33m\u001b[0m\u001b[0m\n\u001b[1;32m---> 16\u001b[1;33m \u001b[1;32mimport\u001b[0m \u001b[0mtensorflow\u001b[0m \u001b[1;32mas\u001b[0m \u001b[0mtf\u001b[0m\u001b[1;33m\u001b[0m\u001b[1;33m\u001b[0m\u001b[0m\n\u001b[0m\u001b[0;32m     17\u001b[0m \u001b[1;33m\u001b[0m\u001b[0m\n\u001b[0;32m     18\u001b[0m \u001b[1;32mimport\u001b[0m \u001b[0mmodeling\u001b[0m\u001b[1;33m\u001b[0m\u001b[1;33m\u001b[0m\u001b[0m\n",
      "\u001b[1;32mc:\\users\\jonat\\anaconda3\\envs\\thesis\\lib\\site-packages\\tensorflow\\__init__.py\u001b[0m in \u001b[0;36m<module>\u001b[1;34m\u001b[0m\n\u001b[0;32m     22\u001b[0m \u001b[1;33m\u001b[0m\u001b[0m\n\u001b[0;32m     23\u001b[0m \u001b[1;31m# pylint: disable=g-bad-import-order\u001b[0m\u001b[1;33m\u001b[0m\u001b[1;33m\u001b[0m\u001b[1;33m\u001b[0m\u001b[0m\n\u001b[1;32m---> 24\u001b[1;33m \u001b[1;32mfrom\u001b[0m \u001b[0mtensorflow\u001b[0m\u001b[1;33m.\u001b[0m\u001b[0mpython\u001b[0m \u001b[1;32mimport\u001b[0m \u001b[0mpywrap_tensorflow\u001b[0m  \u001b[1;31m# pylint: disable=unused-import\u001b[0m\u001b[1;33m\u001b[0m\u001b[1;33m\u001b[0m\u001b[0m\n\u001b[0m\u001b[0;32m     25\u001b[0m \u001b[1;31m# pylint: disable=wildcard-import\u001b[0m\u001b[1;33m\u001b[0m\u001b[1;33m\u001b[0m\u001b[1;33m\u001b[0m\u001b[0m\n\u001b[0;32m     26\u001b[0m \u001b[1;32mfrom\u001b[0m \u001b[0mtensorflow\u001b[0m\u001b[1;33m.\u001b[0m\u001b[0mtools\u001b[0m\u001b[1;33m.\u001b[0m\u001b[0mapi\u001b[0m\u001b[1;33m.\u001b[0m\u001b[0mgenerator\u001b[0m\u001b[1;33m.\u001b[0m\u001b[0mapi\u001b[0m \u001b[1;32mimport\u001b[0m \u001b[1;33m*\u001b[0m  \u001b[1;31m# pylint: disable=redefined-builtin\u001b[0m\u001b[1;33m\u001b[0m\u001b[1;33m\u001b[0m\u001b[0m\n",
      "\u001b[1;32mc:\\users\\jonat\\anaconda3\\envs\\thesis\\lib\\site-packages\\tensorflow\\python\\__init__.py\u001b[0m in \u001b[0;36m<module>\u001b[1;34m\u001b[0m\n\u001b[0;32m     47\u001b[0m \u001b[1;32mimport\u001b[0m \u001b[0mnumpy\u001b[0m \u001b[1;32mas\u001b[0m \u001b[0mnp\u001b[0m\u001b[1;33m\u001b[0m\u001b[1;33m\u001b[0m\u001b[0m\n\u001b[0;32m     48\u001b[0m \u001b[1;33m\u001b[0m\u001b[0m\n\u001b[1;32m---> 49\u001b[1;33m \u001b[1;32mfrom\u001b[0m \u001b[0mtensorflow\u001b[0m\u001b[1;33m.\u001b[0m\u001b[0mpython\u001b[0m \u001b[1;32mimport\u001b[0m \u001b[0mpywrap_tensorflow\u001b[0m\u001b[1;33m\u001b[0m\u001b[1;33m\u001b[0m\u001b[0m\n\u001b[0m\u001b[0;32m     50\u001b[0m \u001b[1;33m\u001b[0m\u001b[0m\n\u001b[0;32m     51\u001b[0m \u001b[1;31m# Protocol buffers\u001b[0m\u001b[1;33m\u001b[0m\u001b[1;33m\u001b[0m\u001b[1;33m\u001b[0m\u001b[0m\n",
      "\u001b[1;32mc:\\users\\jonat\\anaconda3\\envs\\thesis\\lib\\site-packages\\tensorflow\\python\\pywrap_tensorflow.py\u001b[0m in \u001b[0;36m<module>\u001b[1;34m\u001b[0m\n\u001b[0;32m     28\u001b[0m \u001b[1;31m# Perform pre-load sanity checks in order to produce a more actionable error\u001b[0m\u001b[1;33m\u001b[0m\u001b[1;33m\u001b[0m\u001b[1;33m\u001b[0m\u001b[0m\n\u001b[0;32m     29\u001b[0m \u001b[1;31m# than we get from an error during SWIG import.\u001b[0m\u001b[1;33m\u001b[0m\u001b[1;33m\u001b[0m\u001b[1;33m\u001b[0m\u001b[0m\n\u001b[1;32m---> 30\u001b[1;33m \u001b[0mself_check\u001b[0m\u001b[1;33m.\u001b[0m\u001b[0mpreload_check\u001b[0m\u001b[1;33m(\u001b[0m\u001b[1;33m)\u001b[0m\u001b[1;33m\u001b[0m\u001b[1;33m\u001b[0m\u001b[0m\n\u001b[0m\u001b[0;32m     31\u001b[0m \u001b[1;33m\u001b[0m\u001b[0m\n\u001b[0;32m     32\u001b[0m \u001b[1;31m# pylint: disable=wildcard-import,g-import-not-at-top,unused-import,line-too-long\u001b[0m\u001b[1;33m\u001b[0m\u001b[1;33m\u001b[0m\u001b[1;33m\u001b[0m\u001b[0m\n",
      "\u001b[1;32mc:\\users\\jonat\\anaconda3\\envs\\thesis\\lib\\site-packages\\tensorflow\\python\\platform\\self_check.py\u001b[0m in \u001b[0;36mpreload_check\u001b[1;34m()\u001b[0m\n\u001b[0;32m     80\u001b[0m               \u001b[1;34m\"environment variable. Download and install CUDA %s from \"\u001b[0m\u001b[1;33m\u001b[0m\u001b[1;33m\u001b[0m\u001b[0m\n\u001b[0;32m     81\u001b[0m               \u001b[1;34m\"this URL: https://developer.nvidia.com/cuda-toolkit\"\u001b[0m\u001b[1;33m\u001b[0m\u001b[1;33m\u001b[0m\u001b[0m\n\u001b[1;32m---> 82\u001b[1;33m               % (build_info.cudart_dll_name, build_info.cuda_version_number))\n\u001b[0m\u001b[0;32m     83\u001b[0m \u001b[1;33m\u001b[0m\u001b[0m\n\u001b[0;32m     84\u001b[0m       if hasattr(build_info, \"cudnn_dll_name\") and hasattr(\n",
      "\u001b[1;31mImportError\u001b[0m: Could not find 'cudart64_90.dll'. TensorFlow requires that this DLL be installed in a directory that is named in your %PATH% environment variable. Download and install CUDA 9.0 from this URL: https://developer.nvidia.com/cuda-toolkit"
     ]
    }
   ],
   "source": [
    "from __future__ import absolute_import\n",
    "from __future__ import division\n",
    "from __future__ import print_function\n",
    "\n",
    "import sys\n",
    "\n",
    "sys.path.append('bert-master/')\n",
    "\n",
    "import codecs\n",
    "import collections\n",
    "import json\n",
    "import re\n",
    "import os\n",
    "import pprint\n",
    "import numpy as np\n",
    "import tensorflow as tf\n",
    "\n",
    "import modeling\n",
    "import tokenization"
   ]
  },
  {
   "cell_type": "code",
   "execution_count": 3,
   "metadata": {
    "id": "f_eg16ZiJDZ0"
   },
   "outputs": [],
   "source": [
    "BERT_PRETRAINED_DIR = \"uncased_L-12_H-768_A-12\"\n",
    "LAYERS = [-1, -2, -3, -4]\n",
    "NUM_TPU_CORES = 8\n",
    "MAX_SEQ_LENGTH = 87\n",
    "BERT_CONFIG = BERT_PRETRAINED_DIR + '/bert_config.json'\n",
    "CHKPT_DIR = BERT_PRETRAINED_DIR + '/bert_model.ckpt'\n",
    "VOCAB_FILE = BERT_PRETRAINED_DIR + '/vocab.txt'\n",
    "INIT_CHECKPOINT = BERT_PRETRAINED_DIR + '/bert_model.ckpt'\n",
    "BATCH_SIZE = 128"
   ]
  },
  {
   "cell_type": "code",
   "execution_count": 4,
   "metadata": {
    "id": "PQ1wxUc1JGan"
   },
   "outputs": [],
   "source": [
    "class InputExample(object):\n",
    "\n",
    "    def __init__(self, unique_id, text_a, text_b=None):\n",
    "        self.unique_id = unique_id\n",
    "        self.text_a = text_a\n",
    "        self.text_b = text_b\n"
   ]
  },
  {
   "cell_type": "code",
   "execution_count": 5,
   "metadata": {
    "id": "ROxBm-HsJJtX"
   },
   "outputs": [],
   "source": [
    "class InputFeatures(object):\n",
    "    \"\"\"A single set of features of data.\"\"\"\n",
    "\n",
    "    def __init__(self, unique_id, tokens, input_ids, input_mask, input_type_ids):\n",
    "        self.unique_id = unique_id\n",
    "        self.tokens = tokens\n",
    "        self.input_ids = input_ids\n",
    "        self.input_mask = input_mask\n",
    "        self.input_type_ids = input_type_ids\n"
   ]
  },
  {
   "cell_type": "code",
   "execution_count": 6,
   "metadata": {
    "id": "OuwSb7lTJMbJ"
   },
   "outputs": [],
   "source": [
    "def input_fn_builder(features, seq_length):\n",
    "    \"\"\"Creates an `input_fn` closure to be passed to TPUEstimator.\"\"\"\n",
    "\n",
    "    all_unique_ids = []\n",
    "    all_input_ids = []\n",
    "    all_input_mask = []\n",
    "    all_input_type_ids = []\n",
    "\n",
    "    for feature in features:\n",
    "        all_unique_ids.append(feature.unique_id)\n",
    "        all_input_ids.append(feature.input_ids)\n",
    "        all_input_mask.append(feature.input_mask)\n",
    "        all_input_type_ids.append(feature.input_type_ids)\n",
    "\n",
    "    def input_fn(params):\n",
    "        \"\"\"The actual input function.\"\"\"\n",
    "        batch_size = params[\"batch_size\"]\n",
    "\n",
    "        num_examples = len(features)\n",
    "\n",
    "        # This is for demo purposes and does NOT scale to large data sets. We do\n",
    "        # not use Dataset.from_generator() because that uses tf.py_func which is\n",
    "        # not TPU compatible. The right way to load data is with TFRecordReader.\n",
    "        d = tf.data.Dataset.from_tensor_slices({\n",
    "            \"unique_ids\":\n",
    "                tf.constant(all_unique_ids, shape=[num_examples], dtype=tf.int32),\n",
    "            \"input_ids\":\n",
    "                tf.constant(\n",
    "                    all_input_ids, shape=[num_examples, seq_length],\n",
    "                    dtype=tf.int32),\n",
    "            \"input_mask\":\n",
    "                tf.constant(\n",
    "                    all_input_mask,\n",
    "                    shape=[num_examples, seq_length],\n",
    "                    dtype=tf.int32),\n",
    "            \"input_type_ids\":\n",
    "                tf.constant(\n",
    "                    all_input_type_ids,\n",
    "                    shape=[num_examples, seq_length],\n",
    "                    dtype=tf.int32),\n",
    "        })\n",
    "\n",
    "        d = d.batch(batch_size=batch_size, drop_remainder=False)\n",
    "        return d\n",
    "\n",
    "    return input_fn\n"
   ]
  },
  {
   "cell_type": "code",
   "execution_count": 7,
   "metadata": {
    "id": "PRS3S_HdJcof"
   },
   "outputs": [],
   "source": [
    "def model_fn_builder(bert_config, init_checkpoint, layer_indexes, use_tpu,\n",
    "                     use_one_hot_embeddings):\n",
    "    \"\"\"Returns `model_fn` closure for TPUEstimator.\"\"\"\n",
    "\n",
    "    def model_fn(features, labels, mode, params):  # pylint: disable=unused-argument\n",
    "        \"\"\"The `model_fn` for TPUEstimator.\"\"\"\n",
    "\n",
    "        unique_ids = features[\"unique_ids\"]\n",
    "        input_ids = features[\"input_ids\"]\n",
    "        input_mask = features[\"input_mask\"]\n",
    "        input_type_ids = features[\"input_type_ids\"]\n",
    "\n",
    "        model = modeling.BertModel(\n",
    "            config=bert_config,\n",
    "            is_training=False,\n",
    "            input_ids=input_ids,\n",
    "            input_mask=input_mask,\n",
    "            token_type_ids=input_type_ids,\n",
    "            use_one_hot_embeddings=use_one_hot_embeddings)\n",
    "\n",
    "        if mode != tf.estimator.ModeKeys.PREDICT:\n",
    "            raise ValueError(\"Only PREDICT modes are supported: %s\" % (mode))\n",
    "\n",
    "        tvars = tf.trainable_variables()\n",
    "        scaffold_fn = None\n",
    "        (assignment_map,\n",
    "         initialized_variable_names) = modeling.get_assignment_map_from_checkpoint(\n",
    "            tvars, init_checkpoint)\n",
    "        if use_tpu:\n",
    "\n",
    "            def tpu_scaffold():\n",
    "                tf.train.init_from_checkpoint(init_checkpoint, assignment_map)\n",
    "                return tf.train.Scaffold()\n",
    "\n",
    "            scaffold_fn = tpu_scaffold\n",
    "        else:\n",
    "            tf.train.init_from_checkpoint(init_checkpoint, assignment_map)\n",
    "\n",
    "        tf.logging.info(\"**** Trainable Variables ****\")\n",
    "        for var in tvars:\n",
    "            init_string = \"\"\n",
    "            if var.name in initialized_variable_names:\n",
    "                init_string = \", *INIT_FROM_CKPT*\"\n",
    "            tf.logging.info(\"  name = %s, shape = %s%s\", var.name, var.shape,\n",
    "                            init_string)\n",
    "\n",
    "        all_layers = model.get_all_encoder_layers()\n",
    "\n",
    "        predictions = {\n",
    "            \"unique_id\": unique_ids,\n",
    "        }\n",
    "\n",
    "        for (i, layer_index) in enumerate(layer_indexes):\n",
    "            predictions[\"layer_output_%d\" % i] = all_layers[layer_index]\n",
    "\n",
    "        output_spec = tf.contrib.tpu.TPUEstimatorSpec(\n",
    "            mode=mode, predictions=predictions, scaffold_fn=scaffold_fn)\n",
    "        return output_spec\n",
    "\n",
    "    return model_fn\n"
   ]
  },
  {
   "cell_type": "code",
   "execution_count": 8,
   "metadata": {
    "id": "5D-kg-6QJnrz"
   },
   "outputs": [],
   "source": [
    "def convert_examples_to_features(examples, seq_length, tokenizer):\n",
    "    \"\"\"Loads a data file into a list of `InputBatch`s.\"\"\"\n",
    "\n",
    "    features = []\n",
    "    for (ex_index, example) in enumerate(examples):\n",
    "        tokens_a = tokenizer.tokenize(example.text_a)\n",
    "\n",
    "        tokens_b = None\n",
    "        if example.text_b:\n",
    "            tokens_b = tokenizer.tokenize(example.text_b)\n",
    "\n",
    "        if tokens_b:\n",
    "            # Modifies `tokens_a` and `tokens_b` in place so that the total\n",
    "            # length is less than the specified length.\n",
    "            # Account for [CLS], [SEP], [SEP] with \"- 3\"\n",
    "            _truncate_seq_pair(tokens_a, tokens_b, seq_length - 3)\n",
    "        else:\n",
    "            # Account for [CLS] and [SEP] with \"- 2\"\n",
    "            if len(tokens_a) > seq_length - 2:\n",
    "                tokens_a = tokens_a[0:(seq_length - 2)]\n",
    "\n",
    "        tokens = []\n",
    "        input_type_ids = []\n",
    "        tokens.append(\"[CLS]\")\n",
    "        input_type_ids.append(0)\n",
    "        for token in tokens_a:\n",
    "            tokens.append(token)\n",
    "            input_type_ids.append(0)\n",
    "        tokens.append(\"[SEP]\")\n",
    "        input_type_ids.append(0)\n",
    "\n",
    "        if tokens_b:\n",
    "            for token in tokens_b:\n",
    "                tokens.append(token)\n",
    "                input_type_ids.append(1)\n",
    "            tokens.append(\"[SEP]\")\n",
    "            input_type_ids.append(1)\n",
    "\n",
    "        input_ids = tokenizer.convert_tokens_to_ids(tokens)\n",
    "\n",
    "        # The mask has 1 for real tokens and 0 for padding tokens. Only real\n",
    "        # tokens are attended to.\n",
    "        input_mask = [1] * len(input_ids)\n",
    "\n",
    "        # Zero-pad up to the sequence length.\n",
    "        while len(input_ids) < seq_length:\n",
    "            input_ids.append(0)\n",
    "            input_mask.append(0)\n",
    "            input_type_ids.append(0)\n",
    "\n",
    "        assert len(input_ids) == seq_length\n",
    "        assert len(input_mask) == seq_length\n",
    "        assert len(input_type_ids) == seq_length\n",
    "\n",
    "        if ex_index < 5:\n",
    "            tf.logging.info(\"*** Example ***\")\n",
    "            tf.logging.info(\"unique_id: %s\" % (example.unique_id))\n",
    "            tf.logging.info(\"tokens: %s\" % \" \".join(\n",
    "                [tokenization.printable_text(x) for x in tokens]))\n",
    "            tf.logging.info(\"input_ids: %s\" % \" \".join([str(x) for x in input_ids]))\n",
    "            tf.logging.info(\"input_mask: %s\" % \" \".join([str(x) for x in input_mask]))\n",
    "            tf.logging.info(\n",
    "                \"input_type_ids: %s\" % \" \".join([str(x) for x in input_type_ids]))\n",
    "\n",
    "        features.append(\n",
    "            InputFeatures(\n",
    "                unique_id=example.unique_id,\n",
    "                tokens=tokens,\n",
    "                input_ids=input_ids,\n",
    "                input_mask=input_mask,\n",
    "                input_type_ids=input_type_ids))\n",
    "    return features\n"
   ]
  },
  {
   "cell_type": "code",
   "execution_count": 9,
   "metadata": {
    "id": "2IrwUPKyJs0w"
   },
   "outputs": [],
   "source": [
    "def _truncate_seq_pair(tokens_a, tokens_b, max_length):\n",
    "    \"\"\"Truncates a sequence pair in place to the maximum length.\"\"\"\n",
    "\n",
    "    # This is a simple heuristic which will always truncate the longer sequence\n",
    "    # one token at a time. This makes more sense than truncating an equal percent\n",
    "    # of tokens from each, since if one sequence is very short then each token\n",
    "    # that's truncated likely contains more information than a longer sequence.\n",
    "    while True:\n",
    "        total_length = len(tokens_a) + len(tokens_b)\n",
    "        if total_length <= max_length:\n",
    "            break\n",
    "        if len(tokens_a) > len(tokens_b):\n",
    "            tokens_a.pop()\n",
    "        else:\n",
    "            tokens_b.pop()\n"
   ]
  },
  {
   "cell_type": "code",
   "execution_count": 10,
   "metadata": {
    "id": "RZm_icBJJwOR"
   },
   "outputs": [],
   "source": [
    "def read_sequence(input_sentences):\n",
    "    examples = []\n",
    "    unique_id = 0\n",
    "    for sentence in input_sentences:\n",
    "        line = tokenization.convert_to_unicode(sentence)\n",
    "        examples.append(InputExample(unique_id=unique_id, text_a=line))\n",
    "        unique_id += 1\n",
    "    return examples\n"
   ]
  },
  {
   "cell_type": "code",
   "execution_count": 11,
   "metadata": {
    "id": "DxhiOP79JwqN"
   },
   "outputs": [],
   "source": [
    "def get_features(input_text, dim=768):\n",
    "    tf.logging.set_verbosity(tf.logging.ERROR)\n",
    "\n",
    "    layer_indexes = LAYERS\n",
    "\n",
    "    bert_config = modeling.BertConfig.from_json_file(BERT_CONFIG)\n",
    "\n",
    "    tokenizer = tokenization.FullTokenizer(\n",
    "        vocab_file=VOCAB_FILE, do_lower_case=True)\n",
    "\n",
    "    examples = read_sequence(input_text)\n",
    "\n",
    "    features = convert_examples_to_features(\n",
    "        examples=examples, seq_length=MAX_SEQ_LENGTH, tokenizer=tokenizer)\n",
    "\n",
    "    unique_id_to_feature = {}\n",
    "    for feature in features:\n",
    "        unique_id_to_feature[feature.unique_id] = feature\n",
    "\n",
    "    model_fn = model_fn_builder(\n",
    "        bert_config=bert_config,\n",
    "        init_checkpoint=INIT_CHECKPOINT,\n",
    "        layer_indexes=layer_indexes,\n",
    "        use_tpu=False,\n",
    "        use_one_hot_embeddings=True)\n",
    "\n",
    "    # If TPU is not available, this will fall back to normal Estimator on CPU\n",
    "    # or GPU.\n",
    "    estimator = tf.contrib.tpu.TPUEstimator(\n",
    "        use_tpu=False,\n",
    "        model_fn=model_fn,\n",
    "        config=tf.contrib.tpu.RunConfig(),\n",
    "        predict_batch_size=BATCH_SIZE,\n",
    "        train_batch_size=BATCH_SIZE,\n",
    "        model_dir=BERT_PRETRAINED_DIR)\n",
    "\n",
    "    input_fn = input_fn_builder(\n",
    "        features=features, seq_length=MAX_SEQ_LENGTH)\n",
    "\n",
    "    # Get features\n",
    "    for result in estimator.predict(input_fn, yield_single_examples=True):\n",
    "        unique_id = int(result[\"unique_id\"])\n",
    "        feature = unique_id_to_feature[unique_id]\n",
    "        output = collections.OrderedDict()\n",
    "        for (i, token) in enumerate(feature.tokens):\n",
    "            layers = []\n",
    "            for (j, layer_index) in enumerate(layer_indexes):\n",
    "                layer_output = result[\"layer_output_%d\" % j]\n",
    "                layer_output_flat = np.array([x for x in layer_output[i:(i + 1)].flat])\n",
    "                layers.append(layer_output_flat)\n",
    "            output[token] = sum(layers)[:dim]\n",
    "\n",
    "    return output\n"
   ]
  },
  {
   "cell_type": "code",
   "execution_count": 12,
   "metadata": {
    "id": "-1wy2oqJKudd"
   },
   "outputs": [
    {
     "name": "stdout",
     "output_type": "stream",
     "text": [
      "sentence: 0.0 out of 2951.0 in raw_data;\n",
      "i charge it at night and skip taking the cord with me because of the good battery life .\n"
     ]
    },
    {
     "ename": "NameError",
     "evalue": "name 'tf' is not defined",
     "output_type": "error",
     "traceback": [
      "\u001b[1;31m---------------------------------------------------------------------------\u001b[0m",
      "\u001b[1;31mNameError\u001b[0m                                 Traceback (most recent call last)",
      "\u001b[1;32m<ipython-input-12-1551653e3dc6>\u001b[0m in \u001b[0;36m<module>\u001b[1;34m\u001b[0m\n\u001b[0;32m     47\u001b[0m     \u001b[0msentence\u001b[0m \u001b[1;33m=\u001b[0m \u001b[1;34m\" \"\u001b[0m\u001b[1;33m.\u001b[0m\u001b[0mjoin\u001b[0m\u001b[1;33m(\u001b[0m\u001b[0mwords_l\u001b[0m \u001b[1;33m+\u001b[0m \u001b[0mtarget\u001b[0m \u001b[1;33m+\u001b[0m \u001b[0mwords_r\u001b[0m\u001b[1;33m)\u001b[0m\u001b[1;33m\u001b[0m\u001b[1;33m\u001b[0m\u001b[0m\n\u001b[0;32m     48\u001b[0m     \u001b[0mprint\u001b[0m\u001b[1;33m(\u001b[0m\u001b[0msentence\u001b[0m\u001b[1;33m)\u001b[0m\u001b[1;33m\u001b[0m\u001b[1;33m\u001b[0m\u001b[0m\n\u001b[1;32m---> 49\u001b[1;33m     \u001b[0membeddings\u001b[0m \u001b[1;33m=\u001b[0m \u001b[0mget_features\u001b[0m\u001b[1;33m(\u001b[0m\u001b[1;33m[\u001b[0m\u001b[0msentence\u001b[0m\u001b[1;33m]\u001b[0m\u001b[1;33m)\u001b[0m\u001b[1;33m\u001b[0m\u001b[1;33m\u001b[0m\u001b[0m\n\u001b[0m\u001b[0;32m     50\u001b[0m \u001b[1;33m\u001b[0m\u001b[0m\n\u001b[0;32m     51\u001b[0m     \u001b[1;32mfor\u001b[0m \u001b[0mkey\u001b[0m\u001b[1;33m,\u001b[0m \u001b[0mvalue\u001b[0m \u001b[1;32min\u001b[0m \u001b[0membeddings\u001b[0m\u001b[1;33m.\u001b[0m\u001b[0mitems\u001b[0m\u001b[1;33m(\u001b[0m\u001b[1;33m)\u001b[0m\u001b[1;33m:\u001b[0m\u001b[1;33m\u001b[0m\u001b[1;33m\u001b[0m\u001b[0m\n",
      "\u001b[1;32m<ipython-input-11-0bef9029e982>\u001b[0m in \u001b[0;36mget_features\u001b[1;34m(input_text, dim)\u001b[0m\n\u001b[0;32m      1\u001b[0m \u001b[1;32mdef\u001b[0m \u001b[0mget_features\u001b[0m\u001b[1;33m(\u001b[0m\u001b[0minput_text\u001b[0m\u001b[1;33m,\u001b[0m \u001b[0mdim\u001b[0m\u001b[1;33m=\u001b[0m\u001b[1;36m768\u001b[0m\u001b[1;33m)\u001b[0m\u001b[1;33m:\u001b[0m\u001b[1;33m\u001b[0m\u001b[1;33m\u001b[0m\u001b[0m\n\u001b[1;32m----> 2\u001b[1;33m     \u001b[0mtf\u001b[0m\u001b[1;33m.\u001b[0m\u001b[0mlogging\u001b[0m\u001b[1;33m.\u001b[0m\u001b[0mset_verbosity\u001b[0m\u001b[1;33m(\u001b[0m\u001b[0mtf\u001b[0m\u001b[1;33m.\u001b[0m\u001b[0mlogging\u001b[0m\u001b[1;33m.\u001b[0m\u001b[0mERROR\u001b[0m\u001b[1;33m)\u001b[0m\u001b[1;33m\u001b[0m\u001b[1;33m\u001b[0m\u001b[0m\n\u001b[0m\u001b[0;32m      3\u001b[0m \u001b[1;33m\u001b[0m\u001b[0m\n\u001b[0;32m      4\u001b[0m     \u001b[0mlayer_indexes\u001b[0m \u001b[1;33m=\u001b[0m \u001b[0mLAYERS\u001b[0m\u001b[1;33m\u001b[0m\u001b[1;33m\u001b[0m\u001b[0m\n\u001b[0;32m      5\u001b[0m \u001b[1;33m\u001b[0m\u001b[0m\n",
      "\u001b[1;31mNameError\u001b[0m: name 'tf' is not defined"
     ]
    }
   ],
   "source": [
    "# When it takes too long, data can be split in multiple subfiles such as in\n",
    "# lines 5-30\n",
    "lines = open('../data/programGeneratedData/BERT/laptop/raw_data_laptop_2014.txt', errors='replace').readlines()\n",
    "\n",
    "'''\n",
    "for j in range(0, len(lines), 150):\n",
    "  with open(\"dataBERT/BERT_base_laptop_2014_\" + str(round(j/150)) + \".txt\", 'w') as f:\n",
    "      for i in range(j, j + 150, 3):  # Was 0*3, 2530*3, 3\n",
    "          print(\"sentence: \" + str(i / 3) + \" out of \" + str(len(lines) / 3) + \" in \" + \"raw_data;\")\n",
    "          target = lines[i + 1].lower().split()\n",
    "          words = lines[i].lower().split()\n",
    "          words_l, words_r = [], []\n",
    "          flag = True\n",
    "          for word in words:\n",
    "              if word == '$t$':\n",
    "                  flag = False\n",
    "                  continue\n",
    "              if flag:\n",
    "                  words_l.append(word)\n",
    "              else:\n",
    "                  words_r.append(word)\n",
    "          sentence = \" \".join(words_l + target + words_r)\n",
    "          print(sentence)\n",
    "          embeddings = get_features([sentence])\n",
    "\n",
    "          for key, value in embeddings.items():\n",
    "              f.write('\\n%s ' % key)\n",
    "              for v in value:\n",
    "                f.write('%s ' % v)\n",
    "'''\n",
    "\n",
    "with open(\"../data/externalData/BERT_base_laptop_2014.txt\", 'w') as f:\n",
    "  for i in range(0, len(lines), 3):  # Was 0*3, 2530*3, 3\n",
    "    print(\"sentence: \" + str(i / 3) + \" out of \" + str(len(lines) / 3) + \" in \" + \"raw_data;\")\n",
    "    target = lines[i + 1].lower().split()\n",
    "    words = lines[i].lower().split()\n",
    "    words_l, words_r = [], []\n",
    "    flag = True\n",
    "    for word in words:\n",
    "      if word == '$t$':\n",
    "        flag = False\n",
    "        continue\n",
    "      if flag:\n",
    "        words_l.append(word)\n",
    "      else:\n",
    "        words_r.append(word)\n",
    "    sentence = \" \".join(words_l + target + words_r)\n",
    "    print(sentence)\n",
    "    embeddings = get_features([sentence])\n",
    "\n",
    "    for key, value in embeddings.items():\n",
    "      f.write('\\n%s ' % key)\n",
    "      for v in value:\n",
    "        f.write('%s ' % v)\n"
   ]
  },
  {
   "cell_type": "code",
   "execution_count": null,
   "metadata": {},
   "outputs": [],
   "source": []
  },
  {
   "cell_type": "code",
   "execution_count": null,
   "metadata": {},
   "outputs": [],
   "source": []
  },
  {
   "cell_type": "code",
   "execution_count": null,
   "metadata": {},
   "outputs": [],
   "source": []
  }
 ],
 "metadata": {
  "accelerator": "TPU",
  "colab": {
   "authorship_tag": "ABX9TyOenT83GDcy1Tc9O91HNZ8j",
   "collapsed_sections": [],
   "include_colab_link": true,
   "name": "getBERT_laptop.ipynb",
   "provenance": []
  },
  "kernelspec": {
   "display_name": "Python 3",
   "language": "python",
   "name": "python3"
  },
  "language_info": {
   "codemirror_mode": {
    "name": "ipython",
    "version": 3
   },
   "file_extension": ".py",
   "mimetype": "text/x-python",
   "name": "python",
   "nbconvert_exporter": "python",
   "pygments_lexer": "ipython3",
   "version": "3.6.13"
  }
 },
 "nbformat": 4,
 "nbformat_minor": 1
}
